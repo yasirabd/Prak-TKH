{
 "cells": [
  {
   "cell_type": "markdown",
   "metadata": {},
   "source": [
    "# Data Collection"
   ]
  },
  {
   "cell_type": "markdown",
   "metadata": {},
   "source": [
    "<i>Data Collection</i> adalah proses pengumpulan sejumlah data yang banyak.\n",
    "Pada proses <i>Data Collection</i>, kita dapat menggunakan berbagai macam tools atau software misalanya menggunakan Web Data Collection Tool : [import.io](https://www.import.io/) \n",
    "<br><br>\n",
    "Pada praktikum kali ini, dengan menggunakan bahasa python untuk melakukan pengkoleksian data."
   ]
  },
  {
   "cell_type": "markdown",
   "metadata": {},
   "source": [
    "### 1. Twitter\n",
    "Pada pengambilan data tweet di twitter memanfaatkan <i>Application Programming Interface</i> (API) dari Twitter yang bersifat <i>open source</i>.\n",
    "\n",
    "#### a. Register App\n",
    "Lakukan register app di [sini](http://apps.twitter.com). \n",
    "Pastikan mendapatkan <i>Consumer Key (API Key), Consumer Secret (API Secret), Access Token,</i> dan <i>Access Token Secret </i>.\n",
    "\n",
    "#### b. Install Tweepy (Python Library for Accessing Twitter-API)\n",
    "Untuk meng-install dapat menggunakan <u>pip install tweepy</u>.\n",
    "Dokumentasi mengenai tweepy bisa diakses di [sini](http://docs.tweepy.org/en/v3.5.0/)\n"
   ]
  },
  {
   "cell_type": "markdown",
   "metadata": {},
   "source": [
    "#### c. OAuth\n",
    "Lakukan inisialisasi untuk melakukan OAuth pada API Twitter"
   ]
  },
  {
   "cell_type": "code",
   "execution_count": 2,
   "metadata": {
    "collapsed": false
   },
   "outputs": [],
   "source": [
    "import tweepy\n",
    "from tweepy import OAuthHandler\n",
    " \n",
    "consumer_key = 'tVv1t7anKZTmZvE3i7sbkP4Wd'\n",
    "consumer_secret = 'selmdJRa0BK9MT7sOX4BCLmAz9VzjSJvWkrhCb3W6564dTiEvX'\n",
    "access_token = '477563933-KMDYT9D3sTwOrhuiSxXUcHBgVU7oKlt5hRdwyRBT'\n",
    "access_secret = 'AVDVzXVxXORD66rWPkloBdljHGRkBRzVAkXjmMlh3CE1Z'\n",
    "     \n",
    "auth = OAuthHandler(consumer_key, consumer_secret)\n",
    "auth.set_access_token(access_token, access_secret)\n",
    " \n",
    "api = tweepy.API(auth)"
   ]
  },
  {
   "cell_type": "markdown",
   "metadata": {},
   "source": [
    "Variable <u>api</u> akan menjadi gerbang untuk akses pada API Twitter.\n",
    "\n",
    "- Berikut ini adalah salah satu contoh yang digunakan untuk menampilkan 10 items tweet pada <u>home timeline</u>."
   ]
  },
  {
   "cell_type": "code",
   "execution_count": 3,
   "metadata": {
    "collapsed": false
   },
   "outputs": [
    {
     "name": "stdout",
     "output_type": "stream",
     "text": [
      "1 Tiket early bird 50K dan OTS 65K termasuk seminar kit, sertifikat, lunch, dan snack. Info: https://t.co/b8EcpWX6yM… https://t.co/b6cLmZCmN6\n",
      "2 Lionel Messi has made shocking remarks about Man United. They will hate him for this! https://t.co/BFS0kwUMKt https://t.co/EXX3Q6evaf\n",
      "3 https://t.co/iaXDw3yvId [#wowfakta] Faktagram hari ini #fakta #faktanya #mostpopular via instagram https://t.co/iBIatgag03\n",
      "4 A folding #iPhone could be in your future https://t.co/bOKzY1hW0v https://t.co/4N4sx8AZEA\n",
      "5 Juve Memang Hobi Mempersulit Diri Sendiri  \n",
      "https://t.co/Sdaifbsl7m\n",
      "6 #lalinBDG 12.28 : Suci arah gasibu ramai lancar, cuaca mendung https://t.co/7sHCeY0mLg\n",
      "7 Microsoft Teams: 7 things you need to know https://t.co/6QPGuLvzj0 https://t.co/nWqjMqQQyM\n",
      "8 Semalem temen2 main Overwatch nginep di rumah. Hari ini ngopi bareng. Yg baju merah masih 17 thn.. :D https://t.co/rbkRNdkFah\n",
      "9 RT @mojokstore: Kakak @BukuMojok mau ulang tahun. Blio gak mau berbahagia sendiri. Warbyasaa ya. Yuk, diborong, mumpung ihikk 😝😝\n",
      "\n",
      "#SetahunB…\n",
      "10 Bayi yg memiliki orang tua yg gemar menonton TV mmiliki keterlambatan dlm perkembangan verbal. [Archives of Pediatric &amp; Adolescent Medicine]\n"
     ]
    }
   ],
   "source": [
    "from tweepy import Cursor\n",
    "\n",
    "i = 1\n",
    "for status in Cursor(api.home_timeline).items(10):\n",
    "    # Process a single status\n",
    "    print(i, status.text)\n",
    "    i+=1"
   ]
  },
  {
   "cell_type": "markdown",
   "metadata": {},
   "source": [
    "- Menampilkan atribut dari satu tweet"
   ]
  },
  {
   "cell_type": "code",
   "execution_count": 4,
   "metadata": {
    "collapsed": false
   },
   "outputs": [
    {
     "name": "stdout",
     "output_type": "stream",
     "text": [
      "Status(coordinates=None, favorited=False, created_at=datetime.datetime(2016, 11, 3, 5, 30, 29), source_url='http://www.hootsuite.com', id=794049085774921728, in_reply_to_user_id_str=None, in_reply_to_status_id_str=None, entities={'user_mentions': [], 'symbols': [], 'urls': [{'expanded_url': 'http://www.economixfebui.com', 'display_url': 'economixfebui.com', 'url': 'https://t.co/b8EcpWX6yM', 'indices': [91, 114]}, {'expanded_url': 'https://twitter.com/i/web/status/794049085774921728', 'display_url': 'twitter.com/i/web/status/7…', 'url': 'https://t.co/b6cLmZCmN6', 'indices': [116, 139]}], 'hashtags': []}, favorite_count=0, place=None, in_reply_to_user_id=None, author=User(name='GoodNewsFrmIndonesia', protected=False, favourites_count=2778, profile_background_color='BE2021', profile_sidebar_border_color='FFFFFF', profile_banner_url='https://pbs.twimg.com/profile_banners/39677695/1447664505', is_translator=False, follow_request_sent=False, profile_image_url='http://pbs.twimg.com/profile_images/666179558073176064/JIe_Vb0X_normal.png', profile_link_color='BE2021', notifications=False, id_str='39677695', friends_count=586, following=True, has_extended_profile=False, utc_offset=25200, profile_sidebar_fill_color='DDEEF6', geo_enabled=False, default_profile_image=False, profile_image_url_https='https://pbs.twimg.com/profile_images/666179558073176064/JIe_Vb0X_normal.png', verified=True, created_at=datetime.datetime(2009, 5, 13, 3, 28, 42), translator_type='regular', id=39677695, profile_background_image_url_https='https://pbs.twimg.com/profile_background_images/378800000072875143/ea259d5b25a3c103294540e738416d88.png', profile_background_tile=False, entities={'description': {'urls': []}, 'url': {'urls': [{'expanded_url': 'https://www.goodnewsfromindonesia.id', 'display_url': 'goodnewsfromindonesia.id', 'url': 'https://t.co/LpUQl5XGvi', 'indices': [0, 23]}]}}, is_translation_enabled=False, profile_use_background_image=True, profile_background_image_url='http://pbs.twimg.com/profile_background_images/378800000072875143/ea259d5b25a3c103294540e738416d88.png', description='Restoring Optimism, Rebuilding Confidence\\nEmail : GNFI[at]goodnews[dot]id | \\nInstagram : GNFI | \\nLINE : @GNFI | \\nFacebook Page : Good News From Indonesia', followers_count=938051, _json={'profile_image_url_https': 'https://pbs.twimg.com/profile_images/666179558073176064/JIe_Vb0X_normal.png', 'verified': True, 'created_at': 'Wed May 13 03:28:42 +0000 2009', 'name': 'GoodNewsFrmIndonesia', 'protected': False, 'utc_offset': 25200, 'id': 39677695, 'profile_use_background_image': True, 'profile_background_color': 'BE2021', 'profile_sidebar_border_color': 'FFFFFF', 'profile_background_image_url_https': 'https://pbs.twimg.com/profile_background_images/378800000072875143/ea259d5b25a3c103294540e738416d88.png', 'profile_background_tile': False, 'profile_banner_url': 'https://pbs.twimg.com/profile_banners/39677695/1447664505', 'is_translator': False, 'entities': {'description': {'urls': []}, 'url': {'urls': [{'expanded_url': 'https://www.goodnewsfromindonesia.id', 'display_url': 'goodnewsfromindonesia.id', 'url': 'https://t.co/LpUQl5XGvi', 'indices': [0, 23]}]}}, 'profile_link_color': 'BE2021', 'follow_request_sent': False, 'profile_image_url': 'http://pbs.twimg.com/profile_images/666179558073176064/JIe_Vb0X_normal.png', 'translator_type': 'regular', 'is_translation_enabled': False, 'geo_enabled': False, 'profile_background_image_url': 'http://pbs.twimg.com/profile_background_images/378800000072875143/ea259d5b25a3c103294540e738416d88.png', 'notifications': False, 'following': True, 'description': 'Restoring Optimism, Rebuilding Confidence\\nEmail : GNFI[at]goodnews[dot]id | \\nInstagram : GNFI | \\nLINE : @GNFI | \\nFacebook Page : Good News From Indonesia', 'id_str': '39677695', 'friends_count': 586, 'followers_count': 938051, 'listed_count': 1548, 'default_profile': False, 'has_extended_profile': False, 'contributors_enabled': False, 'favourites_count': 2778, 'profile_text_color': '333333', 'url': 'https://t.co/LpUQl5XGvi', 'location': 'Indonesia', 'default_profile_image': False, 'profile_sidebar_fill_color': 'DDEEF6', 'time_zone': 'Jakarta', 'screen_name': 'GNFI', 'lang': 'en', 'statuses_count': 47682}, contributors_enabled=False, _api=<tweepy.api.API object at 0x000001C94EEF0780>, profile_text_color='333333', url='https://t.co/LpUQl5XGvi', listed_count=1548, default_profile=False, time_zone='Jakarta', screen_name='GNFI', statuses_count=47682, lang='en', location='Indonesia'), truncated=True, text='Tiket early bird 50K dan OTS 65K termasuk seminar kit, sertifikat, lunch, dan snack. Info: https://t.co/b8EcpWX6yM… https://t.co/b6cLmZCmN6', in_reply_to_status_id=None, possibly_sensitive=False, id_str='794049085774921728', _json={'coordinates': None, 'favorited': False, 'created_at': 'Thu Nov 03 05:30:29 +0000 2016', 'id': 794049085774921728, 'place': None, 'in_reply_to_status_id_str': None, 'entities': {'user_mentions': [], 'symbols': [], 'urls': [{'expanded_url': 'http://www.economixfebui.com', 'display_url': 'economixfebui.com', 'url': 'https://t.co/b8EcpWX6yM', 'indices': [91, 114]}, {'expanded_url': 'https://twitter.com/i/web/status/794049085774921728', 'display_url': 'twitter.com/i/web/status/7…', 'url': 'https://t.co/b6cLmZCmN6', 'indices': [116, 139]}], 'hashtags': []}, 'in_reply_to_user_id': None, 'favorite_count': 0, 'in_reply_to_user_id_str': None, 'text': 'Tiket early bird 50K dan OTS 65K termasuk seminar kit, sertifikat, lunch, dan snack. Info: https://t.co/b8EcpWX6yM… https://t.co/b6cLmZCmN6', 'in_reply_to_status_id': None, 'truncated': True, 'id_str': '794049085774921728', 'source': '<a href=\"http://www.hootsuite.com\" rel=\"nofollow\">Hootsuite</a>', 'retweeted': False, 'geo': None, 'is_quote_status': False, 'possibly_sensitive': False, 'contributors': None, 'user': {'profile_image_url_https': 'https://pbs.twimg.com/profile_images/666179558073176064/JIe_Vb0X_normal.png', 'verified': True, 'created_at': 'Wed May 13 03:28:42 +0000 2009', 'name': 'GoodNewsFrmIndonesia', 'protected': False, 'utc_offset': 25200, 'id': 39677695, 'profile_use_background_image': True, 'profile_background_color': 'BE2021', 'profile_sidebar_border_color': 'FFFFFF', 'profile_background_image_url_https': 'https://pbs.twimg.com/profile_background_images/378800000072875143/ea259d5b25a3c103294540e738416d88.png', 'profile_background_tile': False, 'profile_banner_url': 'https://pbs.twimg.com/profile_banners/39677695/1447664505', 'is_translator': False, 'entities': {'description': {'urls': []}, 'url': {'urls': [{'expanded_url': 'https://www.goodnewsfromindonesia.id', 'display_url': 'goodnewsfromindonesia.id', 'url': 'https://t.co/LpUQl5XGvi', 'indices': [0, 23]}]}}, 'profile_link_color': 'BE2021', 'follow_request_sent': False, 'profile_image_url': 'http://pbs.twimg.com/profile_images/666179558073176064/JIe_Vb0X_normal.png', 'translator_type': 'regular', 'is_translation_enabled': False, 'geo_enabled': False, 'profile_background_image_url': 'http://pbs.twimg.com/profile_background_images/378800000072875143/ea259d5b25a3c103294540e738416d88.png', 'notifications': False, 'following': True, 'description': 'Restoring Optimism, Rebuilding Confidence\\nEmail : GNFI[at]goodnews[dot]id | \\nInstagram : GNFI | \\nLINE : @GNFI | \\nFacebook Page : Good News From Indonesia', 'id_str': '39677695', 'friends_count': 586, 'followers_count': 938051, 'listed_count': 1548, 'default_profile': False, 'has_extended_profile': False, 'contributors_enabled': False, 'favourites_count': 2778, 'profile_text_color': '333333', 'url': 'https://t.co/LpUQl5XGvi', 'location': 'Indonesia', 'default_profile_image': False, 'profile_sidebar_fill_color': 'DDEEF6', 'time_zone': 'Jakarta', 'screen_name': 'GNFI', 'lang': 'en', 'statuses_count': 47682}, 'possibly_sensitive_appealable': False, 'in_reply_to_screen_name': None, 'lang': 'in', 'retweet_count': 0}, source='Hootsuite', retweeted=False, geo=None, is_quote_status=False, _api=<tweepy.api.API object at 0x000001C94EEF0780>, contributors=None, user=User(name='GoodNewsFrmIndonesia', protected=False, favourites_count=2778, profile_background_color='BE2021', profile_sidebar_border_color='FFFFFF', profile_banner_url='https://pbs.twimg.com/profile_banners/39677695/1447664505', is_translator=False, follow_request_sent=False, profile_image_url='http://pbs.twimg.com/profile_images/666179558073176064/JIe_Vb0X_normal.png', profile_link_color='BE2021', notifications=False, id_str='39677695', friends_count=586, following=True, has_extended_profile=False, utc_offset=25200, profile_sidebar_fill_color='DDEEF6', geo_enabled=False, default_profile_image=False, profile_image_url_https='https://pbs.twimg.com/profile_images/666179558073176064/JIe_Vb0X_normal.png', verified=True, created_at=datetime.datetime(2009, 5, 13, 3, 28, 42), translator_type='regular', id=39677695, profile_background_image_url_https='https://pbs.twimg.com/profile_background_images/378800000072875143/ea259d5b25a3c103294540e738416d88.png', profile_background_tile=False, entities={'description': {'urls': []}, 'url': {'urls': [{'expanded_url': 'https://www.goodnewsfromindonesia.id', 'display_url': 'goodnewsfromindonesia.id', 'url': 'https://t.co/LpUQl5XGvi', 'indices': [0, 23]}]}}, is_translation_enabled=False, profile_use_background_image=True, profile_background_image_url='http://pbs.twimg.com/profile_background_images/378800000072875143/ea259d5b25a3c103294540e738416d88.png', description='Restoring Optimism, Rebuilding Confidence\\nEmail : GNFI[at]goodnews[dot]id | \\nInstagram : GNFI | \\nLINE : @GNFI | \\nFacebook Page : Good News From Indonesia', followers_count=938051, _json={'profile_image_url_https': 'https://pbs.twimg.com/profile_images/666179558073176064/JIe_Vb0X_normal.png', 'verified': True, 'created_at': 'Wed May 13 03:28:42 +0000 2009', 'name': 'GoodNewsFrmIndonesia', 'protected': False, 'utc_offset': 25200, 'id': 39677695, 'profile_use_background_image': True, 'profile_background_color': 'BE2021', 'profile_sidebar_border_color': 'FFFFFF', 'profile_background_image_url_https': 'https://pbs.twimg.com/profile_background_images/378800000072875143/ea259d5b25a3c103294540e738416d88.png', 'profile_background_tile': False, 'profile_banner_url': 'https://pbs.twimg.com/profile_banners/39677695/1447664505', 'is_translator': False, 'entities': {'description': {'urls': []}, 'url': {'urls': [{'expanded_url': 'https://www.goodnewsfromindonesia.id', 'display_url': 'goodnewsfromindonesia.id', 'url': 'https://t.co/LpUQl5XGvi', 'indices': [0, 23]}]}}, 'profile_link_color': 'BE2021', 'follow_request_sent': False, 'profile_image_url': 'http://pbs.twimg.com/profile_images/666179558073176064/JIe_Vb0X_normal.png', 'translator_type': 'regular', 'is_translation_enabled': False, 'geo_enabled': False, 'profile_background_image_url': 'http://pbs.twimg.com/profile_background_images/378800000072875143/ea259d5b25a3c103294540e738416d88.png', 'notifications': False, 'following': True, 'description': 'Restoring Optimism, Rebuilding Confidence\\nEmail : GNFI[at]goodnews[dot]id | \\nInstagram : GNFI | \\nLINE : @GNFI | \\nFacebook Page : Good News From Indonesia', 'id_str': '39677695', 'friends_count': 586, 'followers_count': 938051, 'listed_count': 1548, 'default_profile': False, 'has_extended_profile': False, 'contributors_enabled': False, 'favourites_count': 2778, 'profile_text_color': '333333', 'url': 'https://t.co/LpUQl5XGvi', 'location': 'Indonesia', 'default_profile_image': False, 'profile_sidebar_fill_color': 'DDEEF6', 'time_zone': 'Jakarta', 'screen_name': 'GNFI', 'lang': 'en', 'statuses_count': 47682}, contributors_enabled=False, _api=<tweepy.api.API object at 0x000001C94EEF0780>, profile_text_color='333333', url='https://t.co/LpUQl5XGvi', listed_count=1548, default_profile=False, time_zone='Jakarta', screen_name='GNFI', statuses_count=47682, lang='en', location='Indonesia'), possibly_sensitive_appealable=False, in_reply_to_screen_name=None, lang='in', retweet_count=0)\n"
     ]
    }
   ],
   "source": [
    "for status in Cursor(api.home_timeline).items(1):\n",
    "    # Process a single status\n",
    "    print(status)"
   ]
  },
  {
   "cell_type": "markdown",
   "metadata": {},
   "source": [
    "Bisa juga kita meletakkan file hasil <i>crawling</i> pada suatu file <i>json, csv, txt, dll</i>\n",
    "\n",
    "- JSON"
   ]
  },
  {
   "cell_type": "code",
   "execution_count": 5,
   "metadata": {
    "collapsed": false
   },
   "outputs": [],
   "source": [
    "import json\n",
    "\n",
    "with open('home_timeline_35.json', 'w') as f:\n",
    "    for status in Cursor(api.home_timeline).items(2):\n",
    "        # Process a single status\n",
    "        f.write(json.dumps(status._json)+\"\\n\")"
   ]
  },
  {
   "cell_type": "markdown",
   "metadata": {
    "collapsed": true
   },
   "source": [
    "- CSV"
   ]
  },
  {
   "cell_type": "code",
   "execution_count": 6,
   "metadata": {
    "collapsed": false
   },
   "outputs": [],
   "source": [
    "import csv\n",
    "\n",
    "csvFile = open('home_timeline_35.csv', 'w')\n",
    "csvWriter = csv.writer(csvFile)\n",
    "\n",
    "row = [ \"user\", \"text\" ]\n",
    "csvWriter.writerow(row)\n",
    "\n",
    "for tweet in tweepy.Cursor(api.home_timeline).items(2):\n",
    "    #Write a row to the csv file/ I use encode utf-8\n",
    "    csvWriter.writerow([tweet.user.screen_name, tweet.text.encode('utf-8')])\n",
    "csvFile.close()"
   ]
  },
  {
   "cell_type": "markdown",
   "metadata": {},
   "source": [
    "- TXT"
   ]
  },
  {
   "cell_type": "code",
   "execution_count": 7,
   "metadata": {
    "collapsed": false
   },
   "outputs": [],
   "source": [
    "import sys\n",
    "\n",
    "with open('home_timeline_35.txt', 'w') as txt:\n",
    "    for status in Cursor(api.home_timeline).items(2):\n",
    "        # Process a single status\n",
    "        txt.write(status.user.screen_name + \"\\n\")"
   ]
  },
  {
   "cell_type": "markdown",
   "metadata": {},
   "source": [
    "#### d. Twitter Streaming\n",
    "Pada proses ini kita mendapatkan data dengan melakukan stream langsung untuk pengambilan tweet.\n"
   ]
  },
  {
   "cell_type": "code",
   "execution_count": null,
   "metadata": {
    "collapsed": false,
    "scrolled": true
   },
   "outputs": [],
   "source": [
    "from tweepy import Stream\n",
    "\n",
    "class MyStreamListener(tweepy.StreamListener): \n",
    "    def on_data(self, kicau):\n",
    "        print(kicau)\n",
    " \n",
    "    def on_error(self, status_code):\n",
    "        if status_code == 420:\n",
    "            #returning False in on_data disconnects the stream\n",
    "            return False\n",
    "        \n",
    "myStream = tweepy.Stream(auth = api.auth, listener = MyStreamListener())\n",
    "\n",
    "myStream.filter(track=['python'], async=True)"
   ]
  },
  {
   "cell_type": "markdown",
   "metadata": {
    "collapsed": true
   },
   "source": [
    "### 2. Wikipedia\n",
    "Wikipedia juga menyediakan API untuk mengakses/mengambil data yang kita butuhkan.\n",
    "\n",
    "#### a. Install Library Wikipedia\n",
    "Untuk meng-install menggunakan <u>pip install wikipedia</u>. Untuk dokumentasi bisa diakses di [sini](https://wikipedia.readthedocs.io/en/latest/quickstart.html)"
   ]
  },
  {
   "cell_type": "code",
   "execution_count": 8,
   "metadata": {
    "collapsed": false
   },
   "outputs": [],
   "source": [
    "import wikipedia\n",
    "\n",
    "wikipedia.set_lang(\"id\")"
   ]
  },
  {
   "cell_type": "markdown",
   "metadata": {},
   "source": [
    "- Search"
   ]
  },
  {
   "cell_type": "code",
   "execution_count": 9,
   "metadata": {
    "collapsed": false
   },
   "outputs": [
    {
     "name": "stdout",
     "output_type": "stream",
     "text": [
      "['Kota Semarang', 'Semarang Utara, Semarang', 'Semarang Barat, Semarang', 'Semarang Timur, Semarang', 'Semarang Tengah, Semarang', 'Bergas, Semarang', 'Suruh, Semarang', 'Getasan, Semarang', 'Ungaran Timur, Semarang', 'Manyaran, Semarang Barat, Semarang']\n"
     ]
    }
   ],
   "source": [
    "print (wikipedia.search(\"Semarang\"))"
   ]
  },
  {
   "cell_type": "markdown",
   "metadata": {},
   "source": [
    "- Suggest"
   ]
  },
  {
   "cell_type": "code",
   "execution_count": 10,
   "metadata": {
    "collapsed": false
   },
   "outputs": [
    {
     "name": "stdout",
     "output_type": "stream",
     "text": [
      "semarang\n"
     ]
    }
   ],
   "source": [
    "print (wikipedia.suggest(\"Semarng\"))"
   ]
  },
  {
   "cell_type": "markdown",
   "metadata": {},
   "source": [
    "- Summary"
   ]
  },
  {
   "cell_type": "code",
   "execution_count": 11,
   "metadata": {
    "collapsed": false
   },
   "outputs": [
    {
     "name": "stdout",
     "output_type": "stream",
     "text": [
      "Kota Semarang (Hanacaraka: ꦑꦸꦛꦯꦼꦩꦫꦁ) adalah ibukota Provinsi Jawa Tengah, Indonesia sekaligus kota metropolitan terbesar kelima di Indonesia sesudah Jakarta, Surabaya, Bandung, dan Medan.\n"
     ]
    }
   ],
   "source": [
    "print (wikipedia.summary(\"Semarang\", sentences=1))"
   ]
  },
  {
   "cell_type": "markdown",
   "metadata": {},
   "source": [
    "- Page"
   ]
  },
  {
   "cell_type": "code",
   "execution_count": 12,
   "metadata": {
    "collapsed": false
   },
   "outputs": [
    {
     "name": "stdout",
     "output_type": "stream",
     "text": [
      "Kota Semarang\n",
      "https://id.wikipedia.org/wiki/Kota_Semarang\n",
      "Kota Semarang (Hanacaraka: ꦑꦸꦛꦯꦼꦩꦫꦁ) adalah ibukota Provinsi Jawa Tengah, Indonesia sekaligus kota metropolitan terbesar kelima di Indonesia sesudah Jakarta, Surabaya, Bandung, dan Medan. Sebagai salah satu kota paling berkembang di Pulau Jawa, Kota Semarang mempunyai jumlah penduduk yang hampir mencapai 2 juta jiwa dan siang hari bisa mencapai 2,5 juta jiwa. Bahkan, Area Metropolitan Kedungsapur (Kendal, Demak, Ungaran Kabupaten Semarang, Kota Salatiga, dan Purwodadi Kabupaten Grobogan) dengan penduduk sekitar 6 juta jiwa, merupakan Wilayah Metropolis terpadat keempat, setelah Jabodetabek (Jakarta), Gerbangkertosusilo (Surabaya), dan Bandung Raya. Dalam beberapa tahun terakhir, perkembangan Semarang ditandai pula dengan munculnya beberapa gedung pencakar langit di beberapa sudut kota. Sayangnya, pesatnya jumlah penduduk membuat kemacetan lalu lintas di dalam Kota Semarang semakin macet. Kota Semarang dipimpin oleh wali kota Hendrar Prihadi, S.E, M.M dan wakil wali kota Ir. Hj. Hevearita Gunaryanti Rahayu. Kota ini terletak sekitar 558 km sebelah timur Jakarta, atau 312 km sebelah barat Surabaya, atau 621 km sebalah barat daya Banjarmasin (via udara). Semarang berbatasan dengan Laut Jawa di utara, Kabupaten Demak di timur, Kabupaten Semarang di selatan, dan Kabupaten Kendal di barat.Luas Kota 373.67 km2.\n",
      "\n",
      "\n",
      "== Geografi ==\n",
      "Daerah dataran rendah di Kota Semarang sangat sempit, yakni sekitar 4 kilometer dari garis pantai. Dataran rendah ini dikenal dengan sebutan kota bawah. Kawasan kota bawah seringkali dilanda banjir, dan di sejumlah kawasan, banjir ini disebabkan luapan air laut (rob). Di sebelah selatan merupakan dataran tinggi, yang dikenal dengan sebutan kota atas, di antaranya meliputi Kecamatan Candi, Mijen, Gunungpati, Tembalang dan Banyumanik. Pusat pertumbuhan di Semarang sebagai pusat aktivitas dan aglomerasi penduduk muncul menjadi kota kecil baru, seperti di Semarang bagian atas tumbuhnya daerah Banyumanik sebagai pusat aktivitas dan aglomerasi penduduk Kota Semarang bagian atas menjadikan daerah ini cukup padat. Fasilitas umum dan sosial yang mendukung aktivitas penduduk dalam bekerja maupun sebagai tempat tinggal juga telah terpenuhi. Banyumanik menjadi pusat pertumbuhan baru di Semarang bagian atas, dikarenakan munculnya aglomerasi perumahan di daerah ini. Dahulunya Banyumanik hanya merupakan daerah sepi tempat tinggal penduduk Semarang yang bekerja di Semarang bawah (hanya sebagai dormitory town). Namun saat ini daerah ini menjadi pusat aktivitas dan pertumbuhan baru di Kota Semarang, dengan dukungan infrastruktur jalan dan aksessibilitas yang terjangkau. Fasilitas perdagangan dan perumahan baru banyak bermunculan di daerah ini, seperti Carefour, Mall Banyumanik, Ada Swalayan, Perumahan Banyumanik, Perumahan Pucang Gading, dan fasilitas pendidikan baik negeri maupun swasta, seperti Undip, Polines, Unika, dll, dengan dukungan akses jalan tol dan terminal moda yang memperlancar transportasi. Cepatnya pertumbuhan di daerah ini dikarenakan kondisi lahan di Semarang bawah sering terkena bencana rob banjir.\n",
      "\n",
      "\n",
      "== Sejarah ==\n",
      "\n",
      "Sejarah Semarang berawal kurang lebih pada abad ke-6 M, yaitu daerah pesisir yang bernama Pragota (sekarang menjadi Bergota) dan merupakan bagian dari kerajaan Mataram Kuno. Daerah tersebut pada masa itu merupakan pelabuhan dan di depannya terdapat gugusan pulau-pulau kecil. Akibat pengendapan, yang hingga sekarang masih terus berlangsung, gugusan tersebut sekarang menyatu membentuk daratan. Bagian kota Semarang Bawah yang dikenal sekarang ini dengan demikian dahulu merupakan laut. Pelabuhan tersebut diperkirakan berada di daerah Pasar Bulu sekarang dan memanjang masuk ke Pelabuhan Simongan, tempat armada Laksamana Cheng Ho bersandar pada tahun 1435 M. Di tempat pendaratannya, Laksamana Cheng Ho mendirikan kelenteng dan mesjid yang sampai sekarang masih dikunjungi dan disebut Kelenteng Sam Po Kong (Gedung Batu).\n",
      "Pada akhir abad ke-15 M ada seseorang ditempatkan oleh Kerajaan Demak, dikenal sebagai Pangeran Made Pandan (Sunan Pandanaran I), untuk menyebarkan agama Islam dari perbukitan Pragota. Dari waktu ke waktu daerah itu semakin subur, dari sela-sela kesuburan itu muncullah pohon asam yang arang (bahasa Jawa: Asem Arang), sehingga memberikan gelar atau nama daerah itu menjadi Semarang.\n",
      "\n",
      "Sebagai pendiri desa, kemudian menjadi kepala daerah setempat, dengan gelar Kyai Ageng Pandan Arang I. Sepeninggalnya, pimpinan daerah dipegang oleh putranya yang bergelar Pandan Arang II (kelak disebut sebagai Sunan Bayat atau Sunan Pandanaran II atau Sunan Pandanaran Bayat atau Ki Ageng Pandanaran atau Sunan Pandanaran saja). Di bawah pimpinan Pandan Arang II, daerah Semarang semakin menunjukkan pertumbuhannya yang meningkat, sehingga menarik perhatian Sultan Hadiwijaya dari Pajang. Karena persyaratan peningkatan daerah dapat dipenuhi, maka diputuskan untuk menjadikan Semarang setingkat dengan Kabupaten. Pada tanggal 2 Mei 1547 bertepatan dengan peringatan maulid Nabi Muhammad SAW, tanggal 12 rabiul awal tahun 954 H disahkan oleh Sultan Hadiwijaya setelah berkonsultasi dengan Sunan Kalijaga. Tanggal 2 Mei kemudian ditetapkan sebagai hari jadi kota Semarang.\n",
      "\n",
      "Kemudian pada tahun 1678 Amangkurat II dari Mataram, berjanji kepada VOC untuk memberikan Semarang sebagai pembayaran hutangnya, dia mengklaim daerah Priangan dan pajak dari pelabuhan pesisir sampai hutangnya lunas. Pada tahun 1705 Susuhunan Pakubuwono I menyerahkan Semarang kepada VOC sebagai bagian dari perjanjiannya karena telah dibantu untuk merebut Kartasura. Sejak saat itu Semarang resmi menjadi kota milik VOC dan kemudian Pemerintah Hindia Belanda.\n",
      "Pada tahun 1906 dengan Stanblat Nomor 120 tahun 1906 dibentuklah Pemerintah Gemeente. Pemerintah kota besar ini dikepalai oleh seorang Burgemeester (Wali kota). Sistem Pemerintahan ini dipegang oleh orang-orang Belanda berakhir pada tahun 1942 dengan datangya pemerintahan pendudukan Jepang.\n",
      "Pada masa Jepang terbentuklah pemerintah daerah Semarang yang dikepalai Militer (Shico) dari Jepang. Didampingi oleh dua orang wakil (Fuku Shico) yang masing-masing dari Jepang dan seorang bangsa Indonesia. Tidak lama sesudah kemerdekaan, yaitu tanggal 15 sampai 20 Oktober 1945 terjadilah peristiwa kepahlawanan pemuda-pemuda Semarang yang bertempur melawan balatentara Jepang yang bersikeras tidak bersedia menyerahkan diri kepada Pasukan Republik. Perjuangan ini dikenal dengan nama Pertempuran Lima Hari.\n",
      "Tahun 1946 Inggris atas nama Sekutu menyerahkan kota Semarang kepada pihak Belanda. Ini terjadi pada tanggal l6 Mei 1946. Tanggal 3 Juni 1946 dengan tipu muslihatnya, pihak Belanda menangkap Mr. Imam Sudjahri, wali kota Semarang sebelum proklamasi kemerdekaan. Selama masa pendudukan Belanda tidak ada pemerintahan daerah kota Semarang. Namun para pejuang di bidang pemerintahan tetap menjalankan pemerintahan di daerah pedalaman atau daerah pengungsian di luar kota sampai dengan bulan Desember 1948. daerah pengungsian berpindah-pindah mulai dari kota Purwodadi, Gubug, Kedungjati, Salatiga, dan akhirnya di Yogyakarta. Pimpinan pemerintahan berturut-turut dipegang oleh R Patah, R.Prawotosudibyo dan Mr Ichsan. Pemerintahan pendudukan Belanda yang dikenal dengan Recomba berusaha membentuk kembali pemerintahan Gemeente seperti pada masa kolonial dulu di bawah pimpinan R Slamet Tirtosubroto. Hal itu tidak berhasil, karena dalam masa pemulihan kedaulatan harus menyerahkan kepada Komandan KMKB Semarang pada bulan Februari 1950. tanggal I April 1950 Mayor Suhardi, Komandan KMKB. menyerahkan kepemimpinan pemerintah daerah Semarang kepada Mr Koesoedibyono, seorang pegawai tinggi Kementerian Dalam Negeri di Yogyakarta. Ia menyusun kembali aparat pemerintahan guna memperlancar jalannya pemerintahan.\n",
      "\n",
      "\n",
      "== Ekonomi ==\n",
      "Ekonomi Kota Semarang cukup besar karena statusnya sebagai ibu kota provinsi Jawa Tengah. Perekonomian Kota Semarang menurut data BPS 2012 didominasi sektor Industri dan sektor Perdagangan:43; PDRB (Produk Domestik Regional Bruto) 2012 atas dasar harga berlaku mencapai Rp. 54,38 Triliun.:38-39 Pertumbuhan ekonomi yang tinggi ditandai dengan banyaknya gedung tinggi berupa hotel, kantor dan apartemen di Kota Semarang; Daftar gedung tertinggi di Semarang menunjukkan Kota Semarang memiliki 30 gedung dengan ketinggian minimal 12 lantai dan 75 gedung dengan ketinggian berkisar antara 7-11 lantai.\n",
      "\n",
      "\n",
      "=== Kawasan Bisnis Terpadu - Central Business Districts (CBD) ===\n",
      "Sebagai ibukota provinsi Jawa Tengah dan kota metropolitan terbesar kelima di wilayah Republik Indonesia, Semarang telah bertransformasi dan berubah berdinamika menuju kearah yang lebih baik lagi. Dalam kurung waktu kurang dari 10 tahun Metropolitan Semarang terus membangun mempunyai andil dalam finansial yang vital di Indonesia dikarenakan sektor perdagangan dan industri serta jasanya yang berkembang. Sebagai konsekuensinya daya beli masyarakat meningkat, arus modal masuk, indeks kepercayaan konsumen dan doing business yang relatif kondusif berkembang beberapa Kawasan Bisnis Terpadu atau CBD (Central Business District). Beberapa CBD yang masuk dalam kawasan prime segitiga emas antara lain.\n",
      "\n",
      "\n",
      "=== Simpang Lima City Center (SLCC) ===\n",
      "\n",
      "Simpang Lima Ciy Center (SLCC) adalah salah satu Central Business District (CBD) atau Kawasan Bisnis Terpadu yang terletak di Semarang Pusat dan salah satu CBD yang berkembang di jantung kota Semarang. Tidak heran apabila banyak bangunan-bangunan jangkung atau biasa disebut pencakar langit hadir dikawasan ini. Beberapa signature building yang menjadi ciri khas dari SLCC Semarang adalah Ciputa Swiss-Belhotel International Hotel Semarang, Ciputra Mall, Horison Hotel, Plaza Simpang Lima, Louis Kienne Serviced Apartment Hotel, HA-KA Hotel (coming soon), Santika Premiere Hotel, Wisma HSBC, INDOSAT Oooredoo Tower, Living Plaza ACE Hardware & InForma, Gramedia Center Pandanaran, Accor Ibis Simpang Lima Hotel, Amaris Simpang Lima Hotel, Tentrem MIxed-Use Tower (coming soon), Simpang Lima Residences, SMC (Semarang Medical Centerl) Telogorejo Hospital, Pandanaran Hotel, DBS Center, @Hom Hotel, SentraLand Superblock, Graha Bank Indonesia, Plaza Telkom, WIsma Telkomsel, XL Axiata Center Simpang Lima, Bank Mandiri Plaza, CitiBank Square, Pramuka Building,\n",
      "\n",
      "\n",
      "=== Pemuda Central Business District (PCBD) ===\n",
      "\n",
      "Lawang Sewu Heritage Complex, Semarang Tourism Center, Pandanaran Building, Danamon Tower, Wisma BII Maybank, Menara Juang 45, Wisma Sucofindo (FWD & DanaReksa), DP Mall, SmartFren Galeri, Bank Panin Plaza, Menara Suara Merdeka, Premier Inn Hotel Office Tower (coming soon), The Pinnacle Apartment Tower, Menara Bank Mega, Manulife Building, ANZ Square, Graha BRI, House of Indonesia Stock Exchange (IDX) Pandanaran, Dafam Hotel, Graha Bina Artha (Bank JaTeng headquarter), Amaris Hotel, Gramedia Plaza Pemuda, Paragon City Mall, Crowne Plaza Hotel, Accor Novotel Hotel, Whiz Hotel, CitraDream Hotel, Accor Ibis Budget Hotel, Menara Bank Mandiri, Wisma BCA, Marquis de Lafayette Pollux, Sri Ratu Plaza.\n",
      "\n",
      "\n",
      "=== Gajahmada Golden Triangle (GGT) ===\n",
      "Kawasan Budaya Tionghoa (Pecinan) Semarang - Semarang Chinatown Heritage Complex, Gumaya Tower Hotel, ACE Gajahmada, MG Suites Maven Hotel & Residences, Chanti Hotel, Semarang Town Square (SETOS), 3 Store Gajahmada, Grandhika Hotel.\n",
      "\n",
      "\n",
      "== Daftar wali kota ==\n",
      "\n",
      "\n",
      "=== Sejak 1945 ===\n",
      "Sejak tahun 1945 para wali kota yang memimpin kota besar Semarang yang kemudian menjadi Kota Praja dan akhirnya menjadi Kota Semarang adalah sebagai berikut:\n",
      "Mr. Moch.lchsan (1945-1949)\n",
      "Mr. Koesoedibiyono Tjondrowibowo (1949–1 Juli 1951)\n",
      "RM. Hadisoebeno Sosrowerdoyo (1 Juli 1951–1 Januari 1958)\n",
      "Mr. Abdulmadjid Djojoadiningrat (7 Januari 1958–1 Januari 1960)\n",
      "RM Soebagyono Tjondrokoesoemo (1 Januari 1961–26 April 1964)\n",
      "Mr. Wuryanto (25 April 1964–1 September 1966)\n",
      "Letkol. Soeparno (1 September 1966–6 Maret 1967)\n",
      "Letkol. R. Warsito Soegiarto (6 Maret 1967–2 Januari 1973)\n",
      "Kolonel Hadijanto (2 Januari 1973–15 Januari 1980)\n",
      "Kol. H. Iman Soeparto Tjakrajoeda SH (15 Januari 1980–19 Januari 1990)\n",
      "Kol. H. Soetrisno Suharto (19 Januari 1990–19 Januari 2000)\n",
      "H. Sukawi Sutarip SH. (19 Januari 2000–2010)\n",
      "Drs. H. Soemarmo HS, MSi. (2010–2013)\n",
      "Hendrar Prihadi, SE, MM. (2013-2015; 2016-sekarang)\n",
      "Tavip Supriyanto (Pejabat Sementara, 2015-2016)\n",
      "\n",
      "\n",
      "== Daftar penguasa Semarang ==\n",
      "\n",
      "\n",
      "=== Di bawah Kerajaan Demak ===\n",
      "Kin San/Raden Kusen (1478-1529)\n",
      "Ki Ageng Pandan Arang\n",
      "Sunan Bayat (Sunan Pandan Arang II)\n",
      "\n",
      "\n",
      "=== Di bawah Kesultanan Pajang dan Kesultanan Mataram ===\n",
      "Pangeran Kanoman atau Pandan Arang III (1553-1586)\n",
      "Mas R.Tumenggung Tambi (1657-1659)\n",
      "Mas Tumenggung Wongsorejo (1659 - 1666)\n",
      "Mas Tumenggung Prawiroprojo (1666-1670)\n",
      "Mas Tumenggung Alap-alap (1670-1674)\n",
      "Kyai Mertonoyo, Kyai Tumenggung Yudonegoro atau Kyai Adipati Suromenggolo (1674 -1701)\n",
      "\n",
      "\n",
      "=== Di bawah VOC ===\n",
      "Raden Martoyudo atau Raden Sumoningrat (1743-1751)\n",
      "Marmowijoyo atau Sumowijoyo atau Sumonegoro atau Surohadimenggolo (1751-1773)\n",
      "Surohadimenggolo IV (1773-?)\n",
      "Adipati Surohadimenggolo V atau kanjeng Terboyo (?)\n",
      "\n",
      "\n",
      "=== Pemerintahan Hindia Belanda ===\n",
      "Raden Tumenggung Surohadiningrat (?-1841)\n",
      "Putro Surohadimenggolo (1841-1855)\n",
      "Mas Ngabehi Reksonegoro (1855-1860)\n",
      "RTP Suryokusurno (1860-1887)\n",
      "RTP Reksodirjo (1887-1891)\n",
      "RMTA Purbaningrat (1891-?)\n",
      "Pemerintahan kemudian dibagi dua, yakni Kota Praja dan Kabupaten. Penguasa pribumi kemudian menjadi Bupati Semarang:\n",
      "Raden Cokrodipuro (?-1927)\n",
      "RM Soebiyono (1897-1927)\n",
      "RM Amin Suyitno (1927-1942)\n",
      "RMAA Sukarman Mertohadinegoro (1942-1945)\n",
      "Sementara penguasa Belanda menjadi Wali Kota Semarang:\n",
      "D. de Jongh (1916-1927)\n",
      "A. Bagchus (1928-1935)\n",
      "H.E. Boissevain (1936-1942)\n",
      "\n",
      "\n",
      "=== Pemerintahan Republik Indonesia ===\n",
      "R. Soediyono Taruna Kusumo (1945-1945), hanya berlangsung satu bulan\n",
      "M. Soemardjito Priyohadisubroto (tahun 1946)\n",
      "\n",
      "\n",
      "=== Pemerintahan Republik Indonesia Serikat ===\n",
      "RM. Condronegoro hingga tahun 1949\n",
      "\n",
      "\n",
      "=== Setelah pengakuan kedaulatan ===\n",
      "M. Soemardjito Priyohadisubroto (1946-1952)\n",
      "R. Oetoyo Koesoemo (1952-1956).\n",
      "Untuk bupati selanjutnya lihat Kabupaten Semarang.\n",
      "Kotamadya Semarang secara definitif ditetapkan berdasarkan UU Nomor 13 tahun 1950 tentang pembentukan kabupaten-kabupaten dalam lingkungan Provinsi Jawa Tengah.\n",
      "\n",
      "\n",
      "== Pembagian administratif ==\n",
      "Kota Semarang terdiri atas 16 kecamatan dan 177 kelurahan\n",
      "\n",
      "\n",
      "== Perwakilan ==\n",
      "DPRD Kota Semarang hasil Pemilihan Umum Legislatif 2014 tersusun dari 9 partai, dengan perincian sebagai berikut:\n",
      "\n",
      "\n",
      "== Penduduk ==\n",
      "Penduduk Semarang umumnya adalah suku Jawa dan menggunakan Bahasa Jawa sebagai bahasa sehari-hari. Agama mayoritas yang dianut adalah Islam. Semarang memiliki komunitas Tionghoa yang besar. Seperti di daerah lainnya di Jawa, terutama di Jawa Tengah, mereka sudah berbaur erat dengan penduduk setempat dan menggunakan Bahasa Jawa dalam berkomunikasi sejak ratusan tahun silam.\n",
      "\n",
      "\n",
      "== Julukan ==\n",
      "Kota Semarang mempunyai mempunyai beberapa julukan, antara lain:\n",
      "Venetië van Java\n",
      "Semarang dilalui banyak sungai di tengah kota seperti di Venesia (Italia), sehingga Belanda menyebut Semarang sebagai Venetië van Java.\n",
      "Kota Lumpia\n",
      "Lumpia adalah makanan khas Semarang, yang terbuat dari akulturasi 2 budaya yaitu budaya Jawa dan China.\n",
      "Kota Atlas\n",
      "Semarang memiliki semboyan Kota ATLAS akronim (Aman, Tertib, Lancar, Asri dan Sehat), sebagai slogan pemeliharaan keindahan kota.\n",
      "The Port of Java\n",
      "Untuk kepentingan pemasaran pariwisata, Wali Kota Semarang mengambil slogan pariwisata Semarang, The Port of Java (Pelabuhannya Jawa) sebagai upaya pencitraan kota Semarang sebagai pusat Pelabuhan Jawa. Karena Setiap orang yang hendak pergi dari Jakarta atau Jawa Barat ke Surabaya atau Jawa Timur dan juga sebaliknya, harus melewati dan singgah di Kota Semarang. Bahkan menurut sejarah Laksamana Ceng Ho pun berlabuh di Kota Semarang untuk singgah.\n",
      "Semarang Pesona Asia\n",
      "Pada tahun 2009 dari wacana beberapa pihak, Wali Kota Semarang menyetujui slogan \"SPA\", di mana konsekuensinya, dilakukan pembersihan dan pembangunan di mana mana, (perbaikan saluran, jalan, trotoar, taman, penataan pkl)\n",
      "\n",
      "\n",
      "== Pariwisata ==\n",
      "\n",
      "\n",
      "=== Wisata Alam ===\n",
      "Pulau Tirangcawang, di Kelurahan Tugu\n",
      "Pantai Tirang, di Kelurahan Tambak Harjo\n",
      "Pantai Marina, di Kelurahan Tawangsari\n",
      "Pantai Maron, di Kelurahan Tambak Harjo\n",
      "Goa Kreo, di Kelurahan Kandri\n",
      "Taman Lele Semarang, di Kelurahan Tambakaji\n",
      "Curug Lawe di Gunungpati\n",
      "Curug Benowo di Gunungpati\n",
      "\n",
      "\n",
      "=== Wisata sejarah ===\n",
      "Museum MURI, di Kelurahan Tegalsari\n",
      "Museum Perkembangan Islam Jawa Tengah, di Kelurahan Tegalsari\n",
      "Museum Jamu Nyonya Meneer, di Kelurahan Muktiharjo\n",
      "Museum Jawa Tengah, di Kelurahan Gisikdrono\n",
      "Museum Mandala Bhakti, di Kelurahan Pindrikan Kidul\n",
      "Lawang Sewu, di Kelurahan Pindrikan Kidul\n",
      "Tugu Muda, di Kelurahan Pindrikan Kidul\n",
      "Candi Tugu, di Kelurahan Tugurejo\n",
      "Little Netherland (Kota Tua Semarang), di Kelurahan Purwodinatan\n",
      "\n",
      "\n",
      "=== Wisata religius ===\n",
      "\n",
      "Masjid Agung Jawa Tengah, di Kelurahan Sambirejo\n",
      "Masjid Baiturrahman Semarang, di Simpanglima\n",
      "Masjid Kauman Semarang, di daerah Kauman, Johar\n",
      "Klenteng Sam Po Kong, di daerah Simongan\n",
      "Kelenteng Tay Kak Sie Tri Dharma, di Gang Lombok, Semarang Pusat\n",
      "Gereja Blenduk, di Kecamatan Semarang Utara\n",
      "Gereja Katedral Semarang di Kelurahan Randusari\n",
      "Gereja JKI Injil Kerajaan Semarang di Kelurahan Tawangsari\n",
      "Vihara Mahavira Graha di Kelurahan Tawangsari\n",
      "Pagoda Buddhagaya, di Pudak Payung, Banyumanik, Semarang Selatan\n",
      "\n",
      "\n",
      "=== Wisata keluarga ===\n",
      "Wonderia, di Kelurahan Tegalsari\n",
      "Kebun Binatang Mangkang, di Kelurahan Mangkang Kulon\n",
      "Taman Mini Jawa Tengah (Maerokoco), di Kelurahan Tawangsari\n",
      "\n",
      "\n",
      "=== Wisata belanja ===\n",
      "Pasar Johar, di Kelurahan Kauman\n",
      "Mall Ciputra (Ramayana), Simpang Lima City Center\n",
      "Simpang Lima Plaza (Matahari), Simpang Lima City Center\n",
      "Java Super Mall (Hypermart), di Kelurahan Peterongan\n",
      "Paragon City Mall (Matahari), Pemuda Central Business District (PCBD) di Kelurahan Sekayu\n",
      "Sri Ratu (Matahari), di Kelurahan Peterongan\n",
      "DP Mall (Carrefour), di Kelurahan Pekunden Jl. Pemuda Semarang Tengah\n",
      "M-Art Shop, Jl. Mataram 653 Semarang\n",
      "\n",
      "\n",
      "== Perayaan ==\n",
      "Kota Semarang memiliki beberapa event perayaan, yaitu:\n",
      "Dugderan\n",
      "Semarang Expo\n",
      "Semarang Great Sale\n",
      "Semarang Fashion Festival\n",
      "Semarang Fashion On The Street\n",
      "Festival Kota Lama Semarang\n",
      "\n",
      "\n",
      "== Kuliner ==\n",
      "\n",
      "\n",
      "=== Masakan ===\n",
      "Makanan khas Semarang antara lain adalah:\n",
      "Bandeng presto\n",
      "Soto Bangkong \"Soto Semarang\"\n",
      "Mie Kopyok\n",
      "Nasi pindang\n",
      "Nasi Ayam Semarang\n",
      "Sega Becak\n",
      "Sega Lunyu\n",
      "Tahu Pong\n",
      "Pecel Koyor\n",
      "Tahu Petis\n",
      "Tahu Gimbal\n",
      "\n",
      "\n",
      "=== Jajanan ===\n",
      "\n",
      "Jajanan Pasar khas Semarang antara lain adalah:\n",
      "Madu Semarang\n",
      "Lunpia Semarang\n",
      "Wingko Babat\n",
      "Spekoek\n",
      "Jongkong Singkong\n",
      "Gandos\n",
      "Kue Moci\n",
      "Blanggem\n",
      "Mentho\n",
      "Timus\n",
      "Gilo-gilo\n",
      "Bakpia\n",
      "Tahu Gimbal\n",
      "\n",
      "\n",
      "=== Minuman ===\n",
      "Minuman khas Semarang antara lain adalah:\n",
      "Es Cao\n",
      "Es Congklik\n",
      "Wedang tahu\n",
      "Wedang Jahe\n",
      "Wedang Ronde\n",
      "Wedang Kacang Tanah\n",
      "Wedang Durian\n",
      "Wedang Jalang (Wedang Jahe Alang-alang)\n",
      "Wedang Lengkeng\n",
      "Kolak Setup\n",
      "\n",
      "\n",
      "=== Oleh-oleh ===\n",
      "Roti Gandjel Rel\n",
      "Lumpia\n",
      "Jambu Semarang\n",
      "Tahu Bakso Ungaran\n",
      "Mari Wijen\n",
      "\n",
      "\n",
      "== Media ==\n",
      "\n",
      "\n",
      "=== Surat kabar ===\n",
      "Kota Semarang memiliki beberapa surat kabar di antaranya:\n",
      "\n",
      "\n",
      "==== Terrestrial televisi ====\n",
      "Kota Semarang juga memiliki beberapa terdiri dari 18 stasiun televisi (15 siaran nasional & 3 siaran lokal) seperti:\n",
      "\n",
      "\n",
      "==== Televisi berlangganan ====\n",
      "Kota Semarang juga memiliki beberapa televisi berlangganan seperti:\n",
      "Aora TV\n",
      "Astro Nusantara\n",
      "BiG TV\n",
      "Centrin TV\n",
      "Groovia TV\n",
      "UseeTV\n",
      "\n",
      "Indovision\n",
      "Top TV\n",
      "OkeVision\n",
      "\n",
      "Max3\n",
      "Nexmedia\n",
      "OrangeTV/Skynindo\n",
      "\n",
      "Transvision\n",
      "YesTV\n",
      "\n",
      "Topas TV\n",
      "Viva+\n",
      "\n",
      "\n",
      "=== Radio ===\n",
      "Kota Semarang juga memiliki 42 stasiun radio seperti:\n",
      "\n",
      "\n",
      "== Sarana umum ==\n",
      "\n",
      "\n",
      "=== Olahraga ===\n",
      "PSIS Semarang merupakan satu-satunya klub sepak bola profesional di Kota Semarang. Pada musim 1999, PSIS berhasil menjadi juara Liga Indonesia, namun pada musim kompetisi 2000 terdegradasi ke Divisi I. Pada musim 2006 bermain di Divisi Utama Liga Djarum Wilayah 1 dan meraih juara kedua setelah dalam final kalah 0–1 oleh Persik Kediri Pada tahun ini PSIS kembali berlaga di Indonesia Super League tanpa dana bantuan APBD sama sekali.\n",
      "Semarang United FC merupakan klub sepak bola yang mengikuti turnamen dalam ajang Liga Primer Indonesia.\n",
      "Sasana Tinju Tugu Muda Semarang merupakan sasana tinju yang membina amatir dan profesional tingkat dunia di Kota Semarang. Perjalanan Sasana Tinju Tugu Muda Semarang yang dirintis oleh Muklis Sutan Rambing Th 1970 (1976 s/d 1978)Membentuk Sasana Tinju Adam (dengan latar belakang sponsorship Bis Adam). Th 1980 (1978 s/d 1989) Membentuk Sasana Tinju Orang Tua (dengan latar belakang sponsor jamu cap Orang Tua) Selama tahun 1984 – 1985 memiliki beberapa petinju amatir dan profesional, namun kurang maksimal karena iklim pertandingan yang jarang. Rata-rata pertandingan profesional setahun sekali, saat itu Sasana Orang Tua sempat mencetak juara Nasional atas nama Agus Suyanto. Th 1990 (1989 s/d 2008). Th 1990 membentuk Sasana Tinju Bank Buana dengan konsentrasi pembinaan tinju amatir. Th 1997 ketika tinju profesional boming di televisi, Muklis Sutan Rambing mencoba fokus kepada tinju pro dengan nama Sasana Tinju Tugu Muda Semarang (Tugu Muda merupakan lambang kota Semarang). Saat itu Sasana Tinju Bank Buana tetap jalan namun konsen di Tinju amatir, untuk Tinju profesional dengan nama Sasana Tinju Tugu Muda Semarang. Pada akhir tahun 1999 Sasana Tinju Tugu Muda Semarang berhasil mencetak 3 (tiga) juara Nasional : Chris Jhon (57 Kg / kelas Bulu), Arthur Rambing (58,1 Kg / kelas Ringan Jr) dan Sonny Rambing (63 Kg / kelas Welter Jr). Karena tertarik , Sponsorship Bank Buana ikut merambah pada pembinaan tinju profesional. Lama kelamaan ketika berprestasi tingkat internasional , berubah menjadi Sasana Tinju Bank Buana Semarang, hingga tahun 2006 menjadi Sasana Tinju UOB Buana Semarang / UOB Boxing Camp (karena nama perusahaan sponsor berubah menjadi UOB Buana). Th 2009 (2008 s/d 2011)Perubahan nama Sasana menjadi Kuku Bima Energy, menurunnya minat atlet untuk berlatih mempengaruhi prestasi tinju kota Semarang kususnya Jawa Tengah menjadi minim juara. Th 2010 (2009 s/d sekarang) Perubahan nama sasana menjadi “Sasana Tinju Temujin Rambing” sebagai wujud mengenang meninggalnya putra, pelatih sekaligus promotor tinju penggerak roda pertinjuan tanah air dan Jawa Tengah (Semarang)khususnya.\n",
      "\n",
      "\n",
      "=== Transportasi ===\n",
      "Kota Semarang dapat ditempuh dengan perjalanan darat, laut, dan udara. Semarang dilalui jalur pantura yang menghubungkan Jakarta dengan kota-kota di pantai utara Pulau Jawa. Saat ini sedang dibangun jalan tol yang menghubungkan Semarang dengan Solo. Angkutan bus antarkota dipusatkan di Terminal Terboyo, Kecamatan Genuk. Angkutan dalam kota dilayani oleh bus kota, angkot, dan becak. Pada tahun 2009 mulai beroperasi TransSemarang, yang juga dikenal dengan BRT (Bus Rapid Transit), sebuah moda angkutan massal meskipun tidak menggunakan jalur khusus seperti busway (Trans Jakarta) di Jakarta.\n",
      "Semarang memiliki peranan penting dalam sejarah kereta api Indonesia. Di sinilah tonggak pertama pembangunan kereta api Hindia Belanda dimulai, dengan pembangunan jalan kereta api yang dimulai dari desa Kemijen menuju desa Tanggung sepanjang 26 Km) dengan lebar sepur 1435 mm. Pencangkulan pertama dilakukan oleh Gubernur Jenderal Hindia Belanda, Mr LAJ Baron Sloet van den Beele, Jumat 17 Juni 1864. Jalan kereta api ini mulai dioperasikan untuk umum Sabtu, 10 Agustus 1867.\n",
      "Pembangunan jalan KA ini diprakarsai sebuah perusahaan swasta Naamlooze Venootschap Nederlandsch Indische Spoorweg Maatschappij (NV NISM) (terjemahan: Perseroan tak bernama Perusahaan Kereta Api Nederland-Indonesia) yang dipimpin oleh Ir JP de Bordes. Kemudian, setelah ruas rel Kemijen - Tanggung, dilanjutkan pembangunan rel yang dapat menghubungkan kota Semarang - Surakarta (110 Km), pada 10 Februari 1870. Semarang memiliki dua stasiun kereta api: Stasiun Semarang Tawang untuk kereta api kelas bisnis dan eksekutif, serta Stasiun Semarang Poncol untuk kereta api kelas ekonomi dan angkutan barang. Kereta api di antaranya jurusan Semarang-Jakarta, Semarang-Bandung, Semarang-Surabaya, Jakarta-Semarang-Jombang, Jakarta-Semarang-Malang, Semarang-Tegal, dan Semarang-Bojonegoro.\n",
      "Angkutan udara dilayani di Bandara Ahmad Yani, menghubungkan Semarang dengan sejumlah kota-kota besar Indonesia setiap harinya. Sejak tahun 2008 Bandara Ahmad Yani menjadi bandara Internasional dengan adanya penerbangan langsung ke luar negri, contohnya ke Singapura dan Kualalumpur. Pelabuhan Tanjung Mas menghubungkan Semarang dengan sejumlah kota-kota pelabuhan Indonesia; pelabuhan ini juga terdapat terminal peti kemas.\n",
      "Untuk memperlancar jalur transportasi ke arah kota/kabupaten di Jawa Tengah di Bagian Selatan terutama jalur padat Semarang-Solo, saat ini sedang dibangun Jalan Tol Semarang-Solo. Pada tahap pertama, pembangunan jalan tol tersebut telah dioperasikan sebagian, yaitu Semarang-Ungaran yang telah mulai digunakan tahun 2011. Saat ini, pembangunan jalan tol ruas Ungaran-Bawen sedang dilakukan.\n",
      "\n",
      "\n",
      "=== Kesehatan (rumah sakit) ===\n",
      "Terdapat beberapa rumah sakit besar di Semarang antara lain:\n",
      "RSUP Dr. Karyadi\n",
      "RSUD Kota Semarang\n",
      "RSU Tlogorejo\n",
      "Rumah Sakit Elizabeth\n",
      "Rumah Sakit Panti Wilasa Citarum\n",
      "Rumah Sakit Panti Wilasa Dr. Cipto\n",
      "RSU PKU Muhammadiyah Roemani\n",
      "Rumah Sakit William Both\n",
      "Rumah Sakit Islam Sultan Agung\n",
      "Rumah Sakit Columbia Asia Semarang\n",
      "Rumah Sakit Nasional Diponegoro (RSND)\n",
      "\n",
      "\n",
      "=== Pendidikan ===\n",
      "Semarang terdapat sejumlah perguruan tinggi ternama baik negeri maupun swasta. Bahkan berdasarkan Peringkat universitas di Indonesia menurut Webometrics terdapat 6 universitas di Semarang termasuk 100 universitas terbaik Indonesia. Berdasarkan data dari DAPODIK Kota Semarang 2010/2011, perguruan tinggi di Kota Semarang:\n",
      "\n",
      "\n",
      "==== Perguruan tinggi negeri ====\n",
      "Perguruan tinggi negeri tersebut adalah:\n",
      "Universitas Diponegoro (UNDIP)\n",
      "Universitas Negeri Semarang (UNNES)\n",
      "Politeknik Negeri Semarang (POLINES)\n",
      "UIN Walisongo\n",
      "Politeknik Ilmu Pelayaran Semarang (P3B/BPLP/PIP)\n",
      "Politeknik Kesehatan Kemenkes Semarang (POLTEKKES Semarang)\n",
      "\n",
      "\n",
      "==== Perguruan tinggi swasta ====\n",
      "Perguruan tinggi swasta antara lain:\n",
      "Universitas Dian Nuswantoro (UDINUS)\n",
      "Universitas Katolik Soegijapranata (UNIKA)\n",
      "Universitas STIKUBANK\n",
      "Universitas Pandanaran (UNPAND)\n",
      "STIE Totalwin Semarang\n",
      "Sekolah Tinggi Ilmu Elektronika dan Komputer Semarang (STEKOM)\n",
      "Universitas Sultan Agung (UNISSULA)\n",
      "Universitas Semarang\n",
      "Universitas 17 Agustus 1945 (UNTAG)\n",
      "Universitas Muhammadiyah Semarang\n",
      "Universitas Wahid Hasyim Semarang\n",
      "Universitas AKI Semarang\n",
      "Akademi Statistika (AIS) Muhammadiyah Semarang\n",
      "STMIK ProVisi IT College\n",
      "AKABA 17 Agustus 1945\n",
      "STIE Dharma Putra\n",
      "Sekolah Tinggi Ilmu Ekonomi Bank BPD Jateng\n",
      "Kolese PIKA\n",
      "Sekolah Tinggi Maritim Dan Transport Amni Semarang (STIMART AMNI)\n",
      "\n",
      "\n",
      "==== Sekolah menengah atas ====\n",
      "SMA Negeri 1 Semarang\n",
      "SMA Negeri 2 Semarang\n",
      "SMA Negeri 3 Semarang\n",
      "SMA Negeri 4 Semarang\n",
      "SMA Negeri 5 Semarang\n",
      "SMA Negeri 6 Semarang\n",
      "SMA Negeri 7 Semarang\n",
      "SMA Negeri 8 Semarang\n",
      "SMA Negeri 9 Semarang\n",
      "SMA Negeri 10 Semarang\n",
      "SMA Negeri 11 Semarang\n",
      "SMA Negeri 12 Semarang\n",
      "SMA Negeri 13 Semarang\n",
      "SMA Negeri 14 Semarang\n",
      "SMA Negeri 15 Semarang\n",
      "SMA Negeri 16 Semarang\n",
      "SMA Ibu Kartini\n",
      "SMA Budi Luhur Saint Michael\n",
      "SMA Citi School\n",
      "SMA Kolese Loyola\n",
      "SMA Karangturi\n",
      "SMA Lab School Institut Indonesia\n",
      "SMA Sedes Sapiantiae\n",
      "SMA Kebon Dalem\n",
      "SMA Kristen Terang Bangsa\n",
      "SMA Kristen Tri Tunggal\n",
      "SMA Kristen YSKI\n",
      "SMA Krista Mitra\n",
      "SMA Pangudi Luhur Don Bosco\n",
      "SMA Theresiana 1\n",
      "SMA Theresiana 2\n",
      "SMA Islam Sultan Agung 1\n",
      "SMA Islam Sultan Agung 2\n",
      "SMA Semesta\n",
      "SMA Sint Louis\n",
      "SMA Kesatrian 1\n",
      "SMA Kesatrian 2\n",
      "SMA Hidayatullah\n",
      "SMA Nasima\n",
      "SMA Mataram\n",
      "\n",
      "\n",
      "== Kota kembar ==\n",
      " Beihai, Republik Rakyat Tiongkok\n",
      " Fuzhou, Republik Rakyat Tiongkok\n",
      " Brisbane, Australia\n",
      " Da Nang, Vietnam\n",
      " Tallahassee, Florida, Amerika Serikat\n",
      " Kota Melaka, Malaysia\n",
      " Tegucigalpa, Honduras\n",
      "\n",
      "\n",
      "== Lain-lain ==\n",
      "Semarang memiliki slogan sebagai Kota ATLAS (Aman, Tertib, Lancar, Asri dan Sehat).\n",
      "Beberapa pasar besar anatara lain pasar Johar, pasar Peterongan, pasar Jatingaleh, pasar Banyumanik, pasar Kobong, pasar Karangayu, pasar Bulu, pasar Gang Baru, dll.\n",
      "Perusahaan Farmasi antara lain Phapros, Saka Farma, DGPharm, dan Zenith.\n",
      "Pabrik Jamu antara lain Jamu Jago, Sido Muncul, Nyonya Meneer, Jamu Leo, dll.\n",
      "Pernah populer penggunaan bahasa pergaulan yang disebut bahasa Walikan.\n",
      "\n",
      "\n",
      "== Seniman dan selebriti ==\n",
      "Tukul Arwana, pelawak dan presenter talkshow Bukan Empat Mata di stasiun televisi Trans 7.\n",
      "Ki Joko Hadiwijoyo, dalang wayang kulit asal Kota Semarang.\n",
      "Ki Nartosabdho, dalang Wayang kulit asal Kota Semarang kelahiran Klaten yang meninggal pada tahun 1985 lalu.\n",
      "Anne Avantie, desainer kondang\n",
      "Asty Ananta, pemain sinetron dan pembawa acara\n",
      "Tia AFI, pemenang AFI indosiar\n",
      "Raden Saleh, pelukis Indonesia\n",
      "Philip ten Klooster, pematung Belanda\n",
      "Max van Egmond, penyanyi bas-bariton Belanda\n",
      "Daniel Sahuleka, penyanyi Belanda berdarah Maluku-Tionghoa-Sunda\n",
      "Nedly Andrew Girke Elstak, komponis, peniup terompet, dan pianis jazz Belanda\n",
      "Johanna Carolina van der Wal, musikus dan pianis Belanda\n",
      "Robert Maingay, pematung Belanda\n",
      "Willem Einthoven (1860–1927), dokter dan peneliti Belanda. Usaha penelitiannya mengarah kepada Elektrokardiogram (mendapatkan hadiah Nobel bidang kedokteran 1924)\n",
      "Fuad Hassan (1929–2007), politikus, Menteri Pendidikan dan Kebudayaan (1985–1993)\n",
      "Nh. Dini 1936), sastrawati\n",
      "Shania Junianatha, personel JKT48\n",
      "Muklis Sutan Rambing, pemilik dan pelatih Sasana Tinju Tugu Muda Semarang sekarang berubah Sasana Tinju Temujin Rambing di Kampung Lasipin 339A, Kota Semarang Timur.\n",
      "Anindya Kusuma Putri, Puteri Indonesia 2015.\n",
      "Clarisa Dewi, Runner Up X Factor Indonesia Season 2 Tahun 2015.\n",
      "Petrus Agung Purnomo, pemuka agama Protestan yang paling disegani di Kota Semarang dan pendiri Gereja Holy Stadium milik JKI Injil Kerajaan yang terletak di kawasan Pantai Marina Semarang\n",
      "Angie Ang, presenter berita di stasiun televisi NET.\n",
      "\n",
      "\n",
      "== Referensi ==\n",
      "\n",
      "\n",
      "== Pranala luar ==\n",
      "(Indonesia) Situs web Semarang\n",
      "Panduan Wisata Semarang\n"
     ]
    }
   ],
   "source": [
    "page = wikipedia.page(\"Semarang\")\n",
    "\n",
    "print (page.title)\n",
    "print (page.url)\n",
    "print (page.content)"
   ]
  },
  {
   "cell_type": "markdown",
   "metadata": {},
   "source": [
    "- Images & Links"
   ]
  },
  {
   "cell_type": "code",
   "execution_count": 13,
   "metadata": {
    "collapsed": false
   },
   "outputs": [
    {
     "name": "stdout",
     "output_type": "stream",
     "text": [
      "https://upload.wikimedia.org/wikipedia/id/1/14/Semarangskyline.jpeg\n",
      "1547\n",
      "['Kategori:Halaman dengan argumen ganda di pemanggilan templat', 'Kategori:Halaman dengan galat skrip', 'Kategori:Ibu kota provinsi di Indonesia', 'Kategori:Kategori dengan pranala berbeda dengan Wikidata', 'Kategori:Kota Pusaka di Indonesia', 'Kategori:Kota Semarang', 'Kategori:Kota di Indonesia', 'Kategori:Kota di Jawa Tengah', 'Kategori:Pages using invalid self-closed HTML tags']\n"
     ]
    }
   ],
   "source": [
    "print (page.images[0])\n",
    "print (page.links[0])\n",
    "print (page.categories)"
   ]
  },
  {
   "cell_type": "markdown",
   "metadata": {},
   "source": [
    "- Geosearch"
   ]
  },
  {
   "cell_type": "code",
   "execution_count": 15,
   "metadata": {
    "collapsed": false
   },
   "outputs": [
    {
     "name": "stdout",
     "output_type": "stream",
     "text": [
      "['Stasiun Semarang Poncol']\n"
     ]
    }
   ],
   "source": [
    "print (wikipedia.geosearch(-6.966667, 110.41666699999996))"
   ]
  },
  {
   "cell_type": "markdown",
   "metadata": {},
   "source": [
    "### 3. Foursquare (Masih Ada Kendala)\n",
    "\n",
    "#### a. Register app\n",
    "Lakukan register app di [sini](https://id.foursquare.com/developers/). Pastikan mendapatkan <i>Client ID</i> dan <i>Client Secret</i>\n",
    "\n",
    "#### b. Install Foursquare\n",
    "Install menggunakan <u>pip install foursquare</u>. Untuk link github bisa menuju ke [sini](https://github.com/mLewisLogic/foursquare) dan untuk dokumentasi bisa dibaca di [sini](https://developer.foursquare.com/docs/)"
   ]
  },
  {
   "cell_type": "code",
   "execution_count": null,
   "metadata": {
    "collapsed": false
   },
   "outputs": [],
   "source": [
    "import foursquare\n",
    "\n",
    "client_id = \"TSILZOA3WXF2KBIF1PLMU0BGGZPUKD0RAF4NVYBDON33Z15Y\"\n",
    "client_secret = \"OLQEWJW4X0AIERO0ZBMDAPWG5ZB1LRSW4W5NFY4CJOYQF4WS\"\n",
    "\n",
    "client = foursquare.Foursquare(client_id, client_secret)"
   ]
  },
  {
   "cell_type": "code",
   "execution_count": null,
   "metadata": {
    "collapsed": true
   },
   "outputs": [],
   "source": [
    "# Construct the client object\n",
    "client = foursquare.Foursquare(client_id=client_id, client_secret=client_secret, redirect_uri='http://localhost')\n",
    "\n",
    "# Build the authorization url for your app\n",
    "auth_uri = client.oauth.auth_url()"
   ]
  },
  {
   "cell_type": "code",
   "execution_count": null,
   "metadata": {
    "collapsed": false
   },
   "outputs": [],
   "source": [
    "# Interrogate foursquare's servers to get the user's access_token\n",
    "access_token = client.oauth.get_token('XX_CODE_RETURNED_IN_REDIRECT_XX')\n",
    "\n",
    "# Apply the returned access token to the client\n",
    "client.set_access_token(access_token)\n",
    "\n",
    "# Get the user's data\n",
    "user = client.users()"
   ]
  },
  {
   "cell_type": "markdown",
   "metadata": {},
   "source": [
    "### 4. Facebook\n",
    "Facebook juga menyediakan API untuk mengambil data. Namun, memiliki keterbatasan pada API-nya\n",
    "\n",
    "#### a. Register App\n",
    "Lakukan register app di [sini](https://developers.facebook.com). Untuk mendapatkan access token dari Graph API Explorer bisa menuju ke [sini](https://developers.facebook.com/tools-and-support/). Saat ini kita akan menggunakan access token melalui [sini](https://developers.facebook.com/tools/explorer/145634995501895/)\n",
    "#### b. Install facebook library\n",
    "Untuk meng-install dapat menggunakan <u>pip install facebook-sdk</u>. Dokumentasi mengenai library facebook bisa diakses di [sini](https://pypi.python.org/pypi/facebook-sdk)"
   ]
  },
  {
   "cell_type": "markdown",
   "metadata": {},
   "source": [
    "#### c. Inisialisasi "
   ]
  },
  {
   "cell_type": "code",
   "execution_count": 19,
   "metadata": {
    "collapsed": false
   },
   "outputs": [],
   "source": [
    "import facebook\n",
    "import json\n",
    "\n",
    "token = 'EAACEdEose0cBAFhPr6wijKPaHdWpYj184Iameqgrk3h72K88NJZBd2kfNTCrHZAnikXsqyZBxby1WZBmM2fZAduUwQnycUTRJAFxPuhbb9X4QvUQFZAYX0egfLA2t0qXimjZAEiILoUVI7kH4Q4eeJpxoh29L8ZADZBiabHJE4PDDUwZDZD'\n",
    "\n",
    "graph = facebook.GraphAPI(token, version='2.4')"
   ]
  },
  {
   "cell_type": "markdown",
   "metadata": {},
   "source": [
    "- Mendapatkan post facebook : disini mendapatkan post facebook pada status [berikut](https://www.facebook.com/yasirabdr/posts/10202364671435487?comment_id=10202365367372885&notif_t=feed_comment&notif_id=1477468971875752)\n",
    "<br>\n",
    "Id <b>1753611558_10202364671435487</b>, artinya <b>1753611558</b> adalah user_id dan <b>10202364671435487</b> adalah post_id\n",
    "<br>\n",
    "Untuk mendapatkan user_id bisa melalui [sini](http://findmyfbid.com/)"
   ]
  },
  {
   "cell_type": "code",
   "execution_count": 20,
   "metadata": {
    "collapsed": false
   },
   "outputs": [
    {
     "name": "stdout",
     "output_type": "stream",
     "text": [
      "a\n"
     ]
    }
   ],
   "source": [
    "post = graph.get_object(id='1753611558_10202364671435487')\n",
    "print(post['message'])"
   ]
  },
  {
   "cell_type": "markdown",
   "metadata": {},
   "source": [
    "- Mendapatkan jumlah attending event : disini mendapatkan dari event facebook [berikut](https://www.facebook.com/events/152338271896393/permalink/152339035229650/?notif_t=event_mall_reply&notif_id=1477479240069992)\n",
    "<br>\n",
    "Id <b>152338271896393</b> merupakan event_id."
   ]
  },
  {
   "cell_type": "code",
   "execution_count": 21,
   "metadata": {
    "collapsed": false
   },
   "outputs": [
    {
     "name": "stdout",
     "output_type": "stream",
     "text": [
      "3\n",
      "0\n"
     ]
    }
   ],
   "source": [
    "event = graph.get_object(id='152338271896393', fields='attending_count,declined_count')\n",
    "print(event['attending_count'])\n",
    "print(event['declined_count'])"
   ]
  },
  {
   "cell_type": "markdown",
   "metadata": {},
   "source": [
    "- Mendapatkan jumlah teman"
   ]
  },
  {
   "cell_type": "code",
   "execution_count": 22,
   "metadata": {
    "collapsed": false
   },
   "outputs": [
    {
     "name": "stdout",
     "output_type": "stream",
     "text": [
      "{\n",
      "    \"data\": [\n",
      "        {\n",
      "            \"id\": \"553501854\",\n",
      "            \"name\": \"Andri Yadi\"\n",
      "        },\n",
      "        {\n",
      "            \"id\": \"659694820\",\n",
      "            \"name\": \"Ibnu Sina Wardy\"\n",
      "        },\n",
      "        {\n",
      "            \"id\": \"702116903\",\n",
      "            \"name\": \"Adhil Abdat\"\n",
      "        },\n",
      "        {\n",
      "            \"id\": \"706495204\",\n",
      "            \"name\": \"Sofian Hadiwijaya\"\n",
      "        },\n",
      "        {\n",
      "            \"id\": \"749132299\",\n",
      "            \"name\": \"Brian Arfi Faridhi\"\n",
      "        },\n",
      "        {\n",
      "            \"id\": \"1031093453\",\n",
      "            \"name\": \"Noor Siti Halimah\"\n",
      "        },\n",
      "        {\n",
      "            \"id\": \"10203966558220740\",\n",
      "            \"name\": \"Ali Jaya Meilio\"\n",
      "        },\n",
      "        {\n",
      "            \"id\": \"1126861557\",\n",
      "            \"name\": \"Abdurrosyid Broto Handoyo\"\n",
      "        },\n",
      "        {\n",
      "            \"id\": \"1161974319\",\n",
      "            \"name\": \"Vriga Ramadhan Putra\"\n",
      "        },\n",
      "        {\n",
      "            \"id\": \"10203575999821779\",\n",
      "            \"name\": \"Muhammad Imran Hirawan\"\n",
      "        },\n",
      "        {\n",
      "            \"id\": \"1296602340\",\n",
      "            \"name\": \"Richard Vinc\"\n",
      "        },\n",
      "        {\n",
      "            \"id\": \"10202603162822824\",\n",
      "            \"name\": \"Sidiq Permana\"\n",
      "        },\n",
      "        {\n",
      "            \"id\": \"1332060892\",\n",
      "            \"name\": \"Aris Lesmana\"\n",
      "        },\n",
      "        {\n",
      "            \"id\": \"1335811482\",\n",
      "            \"name\": \"Lhuqita Fazry\"\n",
      "        },\n",
      "        {\n",
      "            \"id\": \"10202871488334689\",\n",
      "            \"name\": \"Arryangga Aliev Pratamaputra\"\n",
      "        },\n",
      "        {\n",
      "            \"id\": \"1459909409\",\n",
      "            \"name\": \"Dwi Aji Kurniawan\"\n",
      "        },\n",
      "        {\n",
      "            \"id\": \"1471116003\",\n",
      "            \"name\": \"Haydar Ali Ismail\"\n",
      "        },\n",
      "        {\n",
      "            \"id\": \"10203671084406217\",\n",
      "            \"name\": \"Sindunuraga R Putra\"\n",
      "        },\n",
      "        {\n",
      "            \"id\": \"10203460082733300\",\n",
      "            \"name\": \"Toni Haryanto\"\n",
      "        },\n",
      "        {\n",
      "            \"id\": \"1618235386\",\n",
      "            \"name\": \"Sonny Lazuardi Hermawan\"\n",
      "        },\n",
      "        {\n",
      "            \"id\": \"1619147610\",\n",
      "            \"name\": \"Kresna Galuh\"\n",
      "        },\n",
      "        {\n",
      "            \"id\": \"10204135280495908\",\n",
      "            \"name\": \"Wendi Rudi Madoe\"\n",
      "        },\n",
      "        {\n",
      "            \"id\": \"1683092457\",\n",
      "            \"name\": \"Budi Sunaryo\"\n",
      "        },\n",
      "        {\n",
      "            \"id\": \"10202099822296721\",\n",
      "            \"name\": \"Randi Dwi Nandra\"\n",
      "        },\n",
      "        {\n",
      "            \"id\": \"779598122062653\",\n",
      "            \"name\": \"Muhammad Muhlas Abror\"\n",
      "        }\n",
      "    ],\n",
      "    \"summary\": {\n",
      "        \"total_count\": 1581\n",
      "    },\n",
      "    \"paging\": {\n",
      "        \"cursors\": {\n",
      "            \"before\": \"QVFIUmExYno4U3pWOXlhb0RxTTZAuS1RIOXMwT1NxTnkxZAXREaU9NLXBXZAFZAXUkI0N2x2eW9xRFUzVGdiLUh3SnRxd3gZD\",\n",
      "            \"after\": \"QVFIUjN3OExYMlJ5RUV1US1zSFd2WGFaekdON08tQVZAkZAXhEWHNhRDhtam1JV19Xa0ZAPV2YtSEVFTGZA0ME5BbVB5RlJYZAkdaQUl3VkpDU3k2ZA3dzdlBnVWV3\"\n",
      "        },\n",
      "        \"next\": \"https://graph.facebook.com/v2.4/4429573754827/friends?access_token=EAACEdEose0cBAFhPr6wijKPaHdWpYj184Iameqgrk3h72K88NJZBd2kfNTCrHZAnikXsqyZBxby1WZBmM2fZAduUwQnycUTRJAFxPuhbb9X4QvUQFZAYX0egfLA2t0qXimjZAEiILoUVI7kH4Q4eeJpxoh29L8ZADZBiabHJE4PDDUwZDZD&limit=25&after=QVFIUjN3OExYMlJ5RUV1US1zSFd2WGFaekdON08tQVZAkZAXhEWHNhRDhtam1JV19Xa0ZAPV2YtSEVFTGZA0ME5BbVB5RlJYZAkdaQUl3VkpDU3k2ZA3dzdlBnVWV3\"\n",
      "    }\n",
      "}\n"
     ]
    }
   ],
   "source": [
    "# Get all of the authenticated user's friends\n",
    "friends = graph.get_connections(id='me', connection_name='friends')\n",
    "\n",
    "print(json.dumps(friends, indent=4))"
   ]
  },
  {
   "cell_type": "markdown",
   "metadata": {},
   "source": [
    "- Melakukan comment pada post facebook : disini melakukan comment post facebook pada status [berikut](https://www.facebook.com/yasirabdr/posts/10202364671435487?comment_id=10202365367372885&notif_t=feed_comment&notif_id=1477468971875752)\n",
    "<br>\n",
    "Id <b>1753611558_10202364671435487</b>, artinya <b>1753611558</b> adalah user_id dan <b>10202364671435487</b> adalah post_id"
   ]
  },
  {
   "cell_type": "code",
   "execution_count": 23,
   "metadata": {
    "collapsed": false
   },
   "outputs": [
    {
     "data": {
      "text/plain": [
       "{'id': '10202364671435487_10202401073625519'}"
      ]
     },
     "execution_count": 23,
     "metadata": {},
     "output_type": "execute_result"
    }
   ],
   "source": [
    "graph.put_object(parent_object='1753611558_10202364671435487', connection_name='comments',message='Tes API!')"
   ]
  },
  {
   "cell_type": "markdown",
   "metadata": {},
   "source": [
    "- Melakukan update status pada wall"
   ]
  },
  {
   "cell_type": "code",
   "execution_count": 24,
   "metadata": {
    "collapsed": false
   },
   "outputs": [
    {
     "data": {
      "text/plain": [
       "{'id': '4429573754827_10202401073665520'}"
      ]
     },
     "execution_count": 24,
     "metadata": {},
     "output_type": "execute_result"
    }
   ],
   "source": [
    "# put_wall_post\n",
    "attachment =  {\n",
    "    'name': 'Link name',\n",
    "    'link': 'https://www.example.com/',\n",
    "    'caption': 'Check out this example',\n",
    "    'description': 'This is a longer description of the attachment',\n",
    "    'picture': 'https://www.example.com/thumbnail.jpg'\n",
    "}\n",
    "\n",
    "graph.put_wall_post(message='Check this out...', attachment=attachment)"
   ]
  },
  {
   "cell_type": "markdown",
   "metadata": {},
   "source": [
    "- Melakukan comment pada post facebook"
   ]
  },
  {
   "cell_type": "code",
   "execution_count": 25,
   "metadata": {
    "collapsed": false
   },
   "outputs": [
    {
     "data": {
      "text/plain": [
       "{'id': '10202364671435487_10202401074105531'}"
      ]
     },
     "execution_count": 25,
     "metadata": {},
     "output_type": "execute_result"
    }
   ],
   "source": [
    "# put_comment\n",
    "graph.put_comment(object_id='1753611558_10202364671435487', message='Great post...')"
   ]
  },
  {
   "cell_type": "markdown",
   "metadata": {},
   "source": [
    "- Melakukan 'like' pada object tertentu, misal : comment post facebook [berikut](https://www.facebook.com/yasirabdr/posts/10202364671435487?comment_id=10202365367372885&notif_t=feed_comment&notif_id=1477468971875752)"
   ]
  },
  {
   "cell_type": "code",
   "execution_count": 26,
   "metadata": {
    "collapsed": false
   },
   "outputs": [
    {
     "data": {
      "text/plain": [
       "{'success': True}"
      ]
     },
     "execution_count": 26,
     "metadata": {},
     "output_type": "execute_result"
    }
   ],
   "source": [
    "# put_like\n",
    "graph.put_like(object_id='10202365367372885')"
   ]
  },
  {
   "cell_type": "markdown",
   "metadata": {},
   "source": [
    "- Mendapatkan post dari facebook kita dengan atribut tertentu"
   ]
  },
  {
   "cell_type": "code",
   "execution_count": 27,
   "metadata": {
    "collapsed": false
   },
   "outputs": [],
   "source": [
    "import requests\n",
    "\n",
    "posts = graph.get_connections('me', 'posts', fields='message,created_time,description,caption,link,place,status_type,shares')\n",
    "while True:  # keep paginating\n",
    "    try:\n",
    "        with open('my_posts_35.json', 'a') as f:\n",
    "            for post in posts['data']:\n",
    "                f.write(json.dumps(post)+\"\\n\")\n",
    "            # get next page\n",
    "            posts = requests.get(posts['paging']['next']).json()\n",
    "    except KeyError:\n",
    "        # no more pages, break the loop\n",
    "        break"
   ]
  },
  {
   "cell_type": "markdown",
   "metadata": {},
   "source": [
    "- Mendapatkan profile facebook"
   ]
  },
  {
   "cell_type": "code",
   "execution_count": 28,
   "metadata": {
    "collapsed": false
   },
   "outputs": [
    {
     "name": "stdout",
     "output_type": "stream",
     "text": [
      "{\n",
      "    \"id\": \"4429573754827\",\n",
      "    \"location\": {\n",
      "        \"id\": \"106330572737890\",\n",
      "        \"location\": {\n",
      "            \"latitude\": -6.96667,\n",
      "            \"city\": \"Semarang\",\n",
      "            \"country\": \"Indonesia\",\n",
      "            \"longitude\": 110.417\n",
      "        }\n",
      "    },\n",
      "    \"name\": \"Yasir Abdurrahman\"\n",
      "}\n"
     ]
    }
   ],
   "source": [
    "profile = graph.get_object(\"me\", fields='name,location{general_info,location},languages{name,description}')\n",
    "print(json.dumps(profile, indent=4))"
   ]
  },
  {
   "cell_type": "markdown",
   "metadata": {
    "collapsed": false
   },
   "source": [
    "### 5. Instagram\n"
   ]
  },
  {
   "cell_type": "markdown",
   "metadata": {},
   "source": [
    "Instagram juga menyediakan API untuk mengambil data. Namun, memiliki keterbatasan pada API-nya.\n",
    "\n",
    "#### a. Register App\n",
    "Lakukan register app di [sini](https://www.instagram.com/developer/). Untuk mendapatkan access token melalui link [sini](https://instagram.com/oauth/authorize/?client_id=[CLIENT_ID_HERE]&redirect_uri=http://localhost&response_type=token) dengan terlebih dahulu mendefinisikan pada app client redirect uri-nya.\n",
    "<br><br>\n",
    "Pastikan juga redirect uri yang terdapat pada app dan link di atas sama.\n",
    "\n",
    "#### b. Install instagram library\n",
    "Untuk meng-install dapat menggunakan <u>pip install python-instagram</u>. Dokumentasi mengenai library instagram bisa diakses pada github di [sini](https://github.com/facebookarchive/python-instagram). Walaupun library-nya sepertinya sudah tidak di-update lagi."
   ]
  },
  {
   "cell_type": "markdown",
   "metadata": {},
   "source": [
    "- Inisialisasi"
   ]
  },
  {
   "cell_type": "code",
   "execution_count": 3,
   "metadata": {
    "collapsed": false,
    "scrolled": true
   },
   "outputs": [],
   "source": [
    "from instagram.client import InstagramAPI\n",
    "\n",
    "access_token = '1397096926.dc637bd.b8b3dc8571914eb09e95772139086196'\n",
    "client_secret = 'ee7d8da7b1bb45dd9f2b66e75950682f'\n",
    "api = InstagramAPI(access_token=access_token, client_secret=client_secret)"
   ]
  },
  {
   "cell_type": "markdown",
   "metadata": {},
   "source": [
    "### Catatan\n",
    "Jika mendapatkan error <i>KeyError : 'data'</i>. Lakukan langkah berikut:\n",
    "1. Buka file <b>models.py</b> pada Anaconda, misalnya C:\\Users\\yasir\\Anaconda3\\Lib\\site-packages\\instagram\n",
    "2. Kemudian pada line 99-101 tambah kode berikut ini"
   ]
  },
  {
   "cell_type": "raw",
   "metadata": {},
   "source": [
    "if 'data' in entry['comments']:\n",
    "    for comment in entry['comments']['data']:\n",
    "        new_media.comments.append(Comment.object_from_dictionary(comment))"
   ]
  },
  {
   "cell_type": "markdown",
   "metadata": {},
   "source": [
    "<b>PASTIKAN</b> indentasi benar dengan jumlah tab selebar 4 spaces."
   ]
  },
  {
   "cell_type": "markdown",
   "metadata": {},
   "source": [
    "- Mendapatkan caption\n",
    "<br>\n",
    "Angka <b>1397096926</b> merupakan user_id. Untuk mendapatkan user_id bisa melalui [ini](https://smashballoon.com/instagram-feed/find-instagram-user-id/)"
   ]
  },
  {
   "cell_type": "code",
   "execution_count": 4,
   "metadata": {
    "collapsed": false
   },
   "outputs": [
    {
     "name": "stdout",
     "output_type": "stream",
     "text": [
      "Tes\n",
      "Selamat Reza & Reva. Semoga jadi keluarga samawa. \n",
      "Semoga bisa segera nyusul nikah juga 😆\n",
      "Developer Day! #Bekraf #Dicoding\n",
      "Kucing dalam pangkuan ._.\n",
      "Para manusia yang bertahan dari malam ke malam ... programmer..\n",
      "Hackathon Android Kejar\n",
      "Awal yang bagus, semoga informatika undip bisa dapet medali gemastik.\n",
      "MIT App Inventor ez android apps\n"
     ]
    }
   ],
   "source": [
    "recent_media, next_ = api.user_recent_media(user_id=\"1397096926\", count=10)\n",
    "for media in recent_media:\n",
    "    print(media.caption.text)"
   ]
  },
  {
   "cell_type": "markdown",
   "metadata": {},
   "source": [
    "- Mendapatkan user yang terdaftar pada app"
   ]
  },
  {
   "cell_type": "code",
   "execution_count": 7,
   "metadata": {
    "collapsed": false
   },
   "outputs": [
    {
     "data": {
      "text/plain": [
       "User: yasirabdr"
      ]
     },
     "execution_count": 7,
     "metadata": {},
     "output_type": "execute_result"
    }
   ],
   "source": [
    "api.user(1397096926)"
   ]
  },
  {
   "cell_type": "markdown",
   "metadata": {},
   "source": [
    "- Mendapatkan media yang disukai"
   ]
  },
  {
   "cell_type": "code",
   "execution_count": 8,
   "metadata": {
    "collapsed": false
   },
   "outputs": [
    {
     "data": {
      "text/plain": [
       "([], None)"
      ]
     },
     "execution_count": 8,
     "metadata": {},
     "output_type": "execute_result"
    }
   ],
   "source": [
    "api.user_liked_media()"
   ]
  },
  {
   "cell_type": "markdown",
   "metadata": {},
   "source": [
    "- Mendapatkan detail user"
   ]
  },
  {
   "cell_type": "code",
   "execution_count": 10,
   "metadata": {
    "collapsed": false
   },
   "outputs": [
    {
     "name": "stdout",
     "output_type": "stream",
     "text": [
      "User id is 1397096926 and name is  yasirabdr\n"
     ]
    }
   ],
   "source": [
    "user = api.user_search('yasirabdr')\n",
    "my_usr = user[0]\n",
    "print ('User id is', my_usr.id, 'and name is ', my_usr.username)"
   ]
  },
  {
   "cell_type": "markdown",
   "metadata": {},
   "source": [
    "- Mendapatkan request masuk"
   ]
  },
  {
   "cell_type": "code",
   "execution_count": 11,
   "metadata": {
    "collapsed": false
   },
   "outputs": [
    {
     "data": {
      "text/plain": [
       "[]"
      ]
     },
     "execution_count": 11,
     "metadata": {},
     "output_type": "execute_result"
    }
   ],
   "source": [
    "api.user_incoming_requests()"
   ]
  },
  {
   "cell_type": "markdown",
   "metadata": {},
   "source": [
    "- Melakukan follow user (hanya bisa pada user yang terdapat di app)"
   ]
  },
  {
   "cell_type": "code",
   "execution_count": 12,
   "metadata": {
    "collapsed": false
   },
   "outputs": [
    {
     "data": {
      "text/plain": [
       "('', None)"
      ]
     },
     "execution_count": 12,
     "metadata": {},
     "output_type": "execute_result"
    }
   ],
   "source": [
    "api.follow_user(user_id=1397096926)"
   ]
  },
  {
   "cell_type": "markdown",
   "metadata": {},
   "source": [
    "- Melakukan unfollow user (hanya bisa pada user yang terdapat di app)"
   ]
  },
  {
   "cell_type": "code",
   "execution_count": 13,
   "metadata": {
    "collapsed": false
   },
   "outputs": [
    {
     "data": {
      "text/plain": [
       "(Relationship: (Follows: False, Followed by: False), None)"
      ]
     },
     "execution_count": 13,
     "metadata": {},
     "output_type": "execute_result"
    }
   ],
   "source": [
    "api.unfollow_user(user_id=1397096926)"
   ]
  },
  {
   "cell_type": "markdown",
   "metadata": {},
   "source": [
    "- Menampilkan comment pada post\n",
    "<br>\n",
    "Id <b>1372565131599223982_1397096926</b> merupakan media_id yang terdapat pada post [berikut](https://www.instagram.com/p/BMMVLcMDxyu/)\n",
    "<br>\n",
    "Untuk mendapatkan media_id gunakan url [berikut](https://api.instagram.com/oembed/?url=https://www.instagram.com/p/BMMVLcMDxyu/)\n",
    "<br>\n",
    "Untuk mendapatkan media_id yang lain, tinggal mengganti url-nya saja"
   ]
  },
  {
   "cell_type": "code",
   "execution_count": 14,
   "metadata": {
    "collapsed": false
   },
   "outputs": [
    {
     "data": {
      "text/plain": [
       "[Comment: yasirabdr said \"this is my comment!\",\n",
       " Comment: yasirabdr said \"soon to be deleted\",\n",
       " Comment: yasirabdr said \"Dateng aja ke praktikum tkh setiap kamis jam 08.00 pagi @jundanaaa @faqihsch heee\",\n",
       " Comment: yasirabdr said \"Di lab e2 @faqihsch @jundanaa\",\n",
       " Comment: yasirabdr said \"Dateng aja @faqihsch belajar bareng hee\",\n",
       " Comment: yasirabdr said \"Kan lab e2 @jundanaa\",\n",
       " Comment: yasirabdr said \"this is my comment!\"]"
      ]
     },
     "execution_count": 14,
     "metadata": {},
     "output_type": "execute_result"
    }
   ],
   "source": [
    "api.media_comments(media_id='1372565131599223982_1397096926')"
   ]
  },
  {
   "cell_type": "markdown",
   "metadata": {},
   "source": [
    "- Menuliskan comment"
   ]
  },
  {
   "cell_type": "code",
   "execution_count": 15,
   "metadata": {
    "collapsed": false
   },
   "outputs": [
    {
     "data": {
      "text/plain": [
       "[]"
      ]
     },
     "execution_count": 15,
     "metadata": {},
     "output_type": "execute_result"
    }
   ],
   "source": [
    "api.create_media_comment(media_id='1372565131599223982_1397096926', text='this is my comment!')"
   ]
  },
  {
   "cell_type": "markdown",
   "metadata": {},
   "source": [
    "- Melakukan like"
   ]
  },
  {
   "cell_type": "code",
   "execution_count": 16,
   "metadata": {
    "collapsed": false
   },
   "outputs": [
    {
     "data": {
      "text/plain": [
       "[]"
      ]
     },
     "execution_count": 16,
     "metadata": {},
     "output_type": "execute_result"
    }
   ],
   "source": [
    "api.like_media(media_id='1372565131599223982_1397096926')"
   ]
  },
  {
   "cell_type": "markdown",
   "metadata": {},
   "source": [
    "- Melakukan unlike"
   ]
  },
  {
   "cell_type": "code",
   "execution_count": 17,
   "metadata": {
    "collapsed": false
   },
   "outputs": [
    {
     "data": {
      "text/plain": [
       "[]"
      ]
     },
     "execution_count": 17,
     "metadata": {},
     "output_type": "execute_result"
    }
   ],
   "source": [
    "api.unlike_media(media_id='1372565131599223982_1397096926')"
   ]
  },
  {
   "cell_type": "markdown",
   "metadata": {
    "collapsed": true
   },
   "source": [
    "### 6. Scrapping pada web ecommerce (Amazon)\n",
    "Melakukan scrapping adalah melakukan ekstraksi informasi pada suatu website. Pada proses scrapping yang digunakan kali ini menggunakan library python yaitu [Scrapy](https://scrapy.org/). Scrapy adalah framework untuk melakukan ekstraksi data pada web."
   ]
  },
  {
   "cell_type": "markdown",
   "metadata": {},
   "source": [
    "#### a. Install Scrapy\n",
    "Cara mudah untuk melakukan install menggunakan <u>pip install Scrapy</u>"
   ]
  },
  {
   "cell_type": "markdown",
   "metadata": {},
   "source": [
    "### Catatan\n",
    "Jika gagal melakukan install dan mendapatkan <i>error : Microsoft Visual C++ 14.0 is required</i>. Maka lakukan install dengan men-download di [sini](http://landinghub.visualstudio.com/visual-cpp-build-tools). "
   ]
  },
  {
   "cell_type": "markdown",
   "metadata": {},
   "source": [
    "#### b. Get Started with Scrapy\n",
    "Untuk memulai kita terlebih dahulu membuat sebuah projek baru melalui <b>console</b> dengan terlebih dahulu mengarahkan ke folder tujuan\n",
    "<br><br><b><pre>scrapy startproject bukalapak</pre></b><br>\n",
    "Dengan melakukan hal tersebut, maka otomatis akan menghasilkan seperti berikut:\n",
    "<br><b>\n",
    "<pre>bukalapak/\n",
    "    scrapy.cfg\n",
    "   bukalapak/\n",
    "       __init__.py\n",
    "       items.py\n",
    "       pipelines.py\n",
    "       settings.py\n",
    "       spiders/\n",
    "           __init__.py\n",
    "</pre>\n",
    "</b><br>\n",
    "Scrapy adalah <b>Object Oriented</b> programming dalam mendefinisikan item dan spider. Berikut penjelasan dari tiap item\n",
    "- <b>scrapy.cfg</b><br> \n",
    "It is a project configuration file which contains information for setting module for the project along with its deployment information.<br><br>\n",
    "- <b>bukalapak</b> : application directory\n",
    "<br><br>\n",
    "- <b>items.py</b><br>\n",
    "Items are containers that will be loaded with the scraped data; they work like simple <b>Python dicts</b>. While one can use plain Python dicts with Scrapy, Items provide additional protection against populating undeclared fields, preventing typos. They are declared by creating a <b>scrapy.Item</b> class and defining its attributes as <b>scrapy.Field</b> objects.\n",
    "<br><br>\n",
    "- <b>pipelines.py</b><br>\n",
    "After an item has been scraped by a spider, it is sent to the Item <b>Pipeline</b> which processes it through several components that are executed sequentially.Each item pipeline component is a Python class which has to implement a method called <b>process_item</b> to process scraped items. It receives an item and performs an action on it, also decides if the item should continue through the pipeline or should be dropped and and not processed any longer. If it wants to drop an item then it raises <b>DropItem</b> exception to drop it.\n",
    "<br><br>\n",
    "- <b>settings.py</b> : <br>\n",
    "It allows one to customise the behaviour of all Scrapy <b>components</b>, including the core, extensions, pipelines and spiders themselves. It provides a global namespace of key-value mappings that the code can use to pull configuration values from.\n",
    "<br><br>\n",
    "- <b>spiders</b> : <br>\n",
    "Spiders is a directory which contains all <b>spiders/crawlers</b> as Python classes. Whenever one runs/crawls any spider then scrapy looks into this directory and tries to find the spider with its name provided by user. Spiders define how a certain site or a group of sites will be scraped, including how to perform the crawl and how to extract data from their pages. In other words, Spiders are the place where one defines the custom behavior for crawling and parsing pages for a particular site.Spiders have to define three major attributes i.e <b>start_urls</b> which tells which URLs are to be scrapped, <b>allowed_domains</b> which defines  only those domain names which need to scraped and <b>parse</b> is a method which is called when any response comes from lodged requests. These attributes are important because these constitute the base of Spider definitions."
   ]
  },
  {
   "cell_type": "markdown",
   "metadata": {},
   "source": [
    "#### c. Lets Scrap\n",
    "Dalam melakukan scrapping terdapat 3 hal yang perlu dilakukan yaitu:\n",
    "1. Melakukan update <b>items.py</b> dengan mengisi field yang akan di extract.\n",
    "2. Membuat sebuah <b>Spider</b> baru untuk mendefinisikan <b>allowed_domains, start_urls, parse</b> method\n",
    "3. Melakukan update <b>pipelines.py</b> untuk data processing lebih jauh.\n",
    "\n",
    "Sekarang ayo kita melakukan scrapping."
   ]
  },
  {
   "cell_type": "markdown",
   "metadata": {},
   "source": [
    "- Update <b>items.py</b>\n",
    "<br>\n",
    "Update file <b>items.py</b> menggunakan notepad dengan kode di bawah ini"
   ]
  },
  {
   "cell_type": "raw",
   "metadata": {
    "collapsed": true
   },
   "source": [
    "# -*- coding: utf-8 -*-\n",
    "\n",
    "# Define here the models for your scraped items\n",
    "#\n",
    "# See documentation in:\n",
    "# http://doc.scrapy.org/en/latest/topics/items.html\n",
    "\n",
    "import scrapy\n",
    "\n",
    "\n",
    "class BukalapakItem(scrapy.Item):\n",
    "    # define the fields for your item here like:\n",
    "    product_name = scrapy.Field()\n",
    "    product_category = scrapy.Field()\n",
    "    product_currency_price = scrapy.Field()\n",
    "    product_price = scrapy.Field()"
   ]
  },
  {
   "cell_type": "markdown",
   "metadata": {},
   "source": [
    "- Create new <b>Spider</b>\n",
    "Untuk membuatnya, kita bisa menggunakan default utility <b>genspider</b>. Lakukan hal tersebut pada <b>console</b>. Untuk melakukan hal ini terlebih dahulu masuk ke dalam directory <b>bukalapak</b> dengan perinyah <b>cd bukalapak</b>\n",
    "<br><br><b><pre>\n",
    "scrapy genspider BukalapakProductSpider bukalapak.com\n",
    "</pre></b><br>"
   ]
  },
  {
   "cell_type": "markdown",
   "metadata": {},
   "source": [
    "- Update <b>BukalapakProductSpider.py</b>"
   ]
  },
  {
   "cell_type": "raw",
   "metadata": {
    "collapsed": true
   },
   "source": [
    "import scrapy\n",
    "from bukalapak.items import BukalapakItem\n",
    "\n",
    "class BukalapakProductSpider(scrapy.Spider):\n",
    "    name = \"BukalapakDeals\"\n",
    "    allowed_domains = [\"bukalapak.com\"]\n",
    "\n",
    "    #Use working product URL below\n",
    "    start_urls = [\n",
    "        \"https://www.bukalapak.com/p/komputer/laptop/43mglk-jual-laptop-hp-8560w-elitebook-workstation-core-i7\", \n",
    "        \"https://www.bukalapak.com/p/komputer/laptop/3sz46v-jual-hp-1000\",\n",
    "        \"https://www.bukalapak.com/p/komputer/laptop/43ohlq-jual-dell-e6420-core-i5\", \n",
    "        \"https://www.bukalapak.com/p/komputer/laptop/45uqjz-jual-macbook-white-core-2-duo-mulus-normal-lancar\"\n",
    "    ]\n",
    "\n",
    "    def parse(self, response):\n",
    "        items = BukalapakItem()\n",
    "        name = response.xpath('//h1[@itemprop=\"name\"]/text()').extract()\n",
    "        category = response.xpath('//dd[@itemprop=\"category\"]/text()').extract()\n",
    "        currency_price = response.xpath('//span[@itemprop=\"priceCurrency\"]/text()').extract()\n",
    "        price = response.xpath('//span[@itemprop=\"price\"]/text()').extract()\n",
    "\n",
    "        items['product_name'] = ''.join(name).strip()\n",
    "        items['product_category'] = ''.join(category).strip()\n",
    "        items['product_currency_price'] = ''.join(currency_price).strip()\n",
    "        items['product_price'] = ''.join(price).strip()\n",
    "        \n",
    "        yield items\n"
   ]
  },
  {
   "cell_type": "markdown",
   "metadata": {},
   "source": [
    "- Pipeline<br>\n",
    "Pipeline classes implement <b>process_item</b> method which is called each and every time whenever items is being yielded by a Spider. It takes <b>item</b> and <b>spider</b> class as arguments and returns a <b>dict</b> object. So for this example, we are just returning item dict as it is.\n",
    "<br><br>\n",
    "Untuk menggunakan <b>pipeline</b> terlebih dahulu melakukan enable pada <b>settings.py</b>"
   ]
  },
  {
   "cell_type": "raw",
   "metadata": {
    "collapsed": true
   },
   "source": [
    "# Configure item pipelines\n",
    "# See http://scrapy.readthedocs.org/en/latest/topics/item-pipeline.html\n",
    "ITEM_PIPELINES = {\n",
    "    'bukalapak.pipelines.BukalapakPipeline': 300,\n",
    "}"
   ]
  },
  {
   "cell_type": "markdown",
   "metadata": {},
   "source": [
    "- Melakukan <b>crawling</b>\n",
    "Untuk melakukan crawing dan menyimpannya pada sebuah file json, gunakan perintah berikut\n",
    "<br><br><b>scrapy crawl BukalapakDeals -o items.json</b><br><br>\n",
    "Berikut output yang dihasilkan pada <b>items.json</b>"
   ]
  },
  {
   "cell_type": "raw",
   "metadata": {
    "collapsed": true
   },
   "source": [
    "[\n",
    "{\"product_category\": \"Laptop\", \"product_price\": \"6.000.000\", \"product_name\": \"Laptop HP 8560W EliteBook Workstation Core i7\", \"product_currency_price\": \"Rp\"},\n",
    "{\"product_category\": \"Laptop\", \"product_price\": \"2.400.000\", \"product_name\": \"HP 1000\", \"product_currency_price\": \"Rp\"},\n",
    "{\"product_category\": \"Laptop\", \"product_price\": \"3.200.000\", \"product_name\": \"DELL E6420 CORE I5\", \"product_currency_price\": \"Rp\"},\n",
    "{\"product_category\": \"Laptop\", \"product_price\": \"2.950.000\", \"product_name\": \"Macbook White Core 2 Duo Mulus , Normal,  Lancar\", \"product_currency_price\": \"Rp\"}\n",
    "]"
   ]
  },
  {
   "cell_type": "code",
   "execution_count": null,
   "metadata": {
    "collapsed": true
   },
   "outputs": [],
   "source": []
  }
 ],
 "metadata": {
  "anaconda-cloud": {},
  "kernelspec": {
   "display_name": "Python [default]",
   "language": "python",
   "name": "python3"
  }
 },
 "nbformat": 4,
 "nbformat_minor": 1
}
