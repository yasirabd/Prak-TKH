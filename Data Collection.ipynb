{
 "cells": [
  {
   "cell_type": "markdown",
   "metadata": {},
   "source": [
    "# Data Collection"
   ]
  },
  {
   "cell_type": "markdown",
   "metadata": {},
   "source": [
    "Pengumpulan data"
   ]
  },
  {
   "cell_type": "markdown",
   "metadata": {},
   "source": [
    "### 1. Twitter\n",
    "Pengambilan data tweet di twitter\n",
    "\n",
    "#### a. Register App\n",
    "Lakukan register app di [sini](http://apps.twitter.com). \n",
    "Pastikan mendapatkan <i>Consumer Key (API Key), Consumer Secret (API Secret), Access Token,</i> dan <i>Access Token Secret </i>.\n",
    "\n",
    "#### b. Install Tweepy (Python Library for Accessing Twitter-API)\n",
    "Untuk meng-install dapat menggunakan <u>pip install tweepy</u>.\n",
    "Dokumentasi mengenai tweepy bisa diakses di [sini](http://docs.tweepy.org/en/v3.5.0/)\n"
   ]
  },
  {
   "cell_type": "markdown",
   "metadata": {},
   "source": [
    "#### c. OAuth\n",
    "Lakukan inisialisasi untuk melakukan OAuth pada API Twitter"
   ]
  },
  {
   "cell_type": "code",
   "execution_count": 69,
   "metadata": {
    "collapsed": false
   },
   "outputs": [],
   "source": [
    "import tweepy\n",
    "from tweepy import OAuthHandler\n",
    " \n",
    "consumer_key = 'tVv1t7anKZTmZvE3i7sbkP4Wd'\n",
    "consumer_secret = 'selmdJRa0BK9MT7sOX4BCLmAz9VzjSJvWkrhCb3W6564dTiEvX'\n",
    "access_token = '477563933-KMDYT9D3sTwOrhuiSxXUcHBgVU7oKlt5hRdwyRBT'\n",
    "access_secret = 'AVDVzXVxXORD66rWPkloBdljHGRkBRzVAkXjmMlh3CE1Z'\n",
    " \n",
    "auth = OAuthHandler(consumer_key, consumer_secret)\n",
    "auth.set_access_token(access_token, access_secret)\n",
    " \n",
    "api = tweepy.API(auth)"
   ]
  },
  {
   "cell_type": "markdown",
   "metadata": {},
   "source": [
    "Variable <u>api</u> akan menjadi gerbang untuk akses pada API Twitter\n",
    "\n",
    "Berikut ini adalah salah satu contoh yang digunakan untuk menampilkan 10 items tweet pada <u>home timeline</u>"
   ]
  },
  {
   "cell_type": "code",
   "execution_count": 70,
   "metadata": {
    "collapsed": false
   },
   "outputs": [
    {
     "name": "stdout",
     "output_type": "stream",
     "text": [
      "(1, u'coba liat John Mayer deh :3 https://t.co/o8U0A8J3th')\n",
      "(2, u'si anak absurd menyenangkan yang tau2 hadir aja gitu di hidup saya :)) https://t.co/P1oGEulLEs')\n",
      "(3, u'Stick them with the pointy end.')\n",
      "(4, u'RT @hisnimilah: Ini Dia Jenis Operasi Plastik Yang Lagi Tren https://t.co/SYogkiOouh by @blogdokter')\n",
      "(5, u'gak ada rencana. kalo bisa terus, kenapa ngga? toh saya juga masih pemula. https://t.co/FA2Zy1CXiE')\n",
      "(6, u'The 21 most awesomely geeky (and cool!) T-shirts https://t.co/WZlKJXv6ck https://t.co/dsPx8CRfi5')\n",
      "(7, u'Tom Hanks sama Denzel Washington!!! Kalo aktris... hmmm... https://t.co/IudeRaVYCV')\n",
      "(8, u'#breakingnewsBDG via @Relawan_Damkar : Breaking News #KEBAKARAN Sptrn Jl.Cijerah ,Unit Damkar Luncur TKP')\n",
      "(9, u'Ini Dia Jenis Operasi Plastik Yang Lagi Tren https://t.co/tlR589UZg5')\n",
      "(10, u'Wadaw.. https://t.co/u88HP2Uhhd')\n"
     ]
    }
   ],
   "source": [
    "from tweepy import Cursor\n",
    "\n",
    "i = 1\n",
    "for status in Cursor(api.home_timeline).items(10):\n",
    "    # Process a single status\n",
    "    print(i, status.text)\n",
    "    i+=1"
   ]
  },
  {
   "cell_type": "markdown",
   "metadata": {},
   "source": [
    "Bisa juga kita meletakkan file hasil <i>crawling</i> pada suatu file <i>json, csv, txt, dll</i>\n",
    "\n",
    "- JSON"
   ]
  },
  {
   "cell_type": "code",
   "execution_count": 71,
   "metadata": {
    "collapsed": false
   },
   "outputs": [],
   "source": [
    "import json\n",
    "\n",
    "with open('home_timeline.json', 'w') as f:\n",
    "    for status in Cursor(api.home_timeline).items(2):\n",
    "        # Process a single status\n",
    "        f.write(json.dumps(status._json)+\"\\n\")"
   ]
  },
  {
   "cell_type": "markdown",
   "metadata": {
    "collapsed": true
   },
   "source": [
    "- CSV"
   ]
  },
  {
   "cell_type": "code",
   "execution_count": 72,
   "metadata": {
    "collapsed": false
   },
   "outputs": [],
   "source": [
    "import csv\n",
    "\n",
    "csvFile = open('home_timeline.csv', 'wb')\n",
    "csvWriter = csv.writer(csvFile)\n",
    "\n",
    "row = [ \"user\", \"text\" ]\n",
    "csvWriter.writerow(row)\n",
    "\n",
    "for tweet in tweepy.Cursor(api.home_timeline).items(2):\n",
    "    #Write a row to the csv file/ I use encode utf-8\n",
    "    csvWriter.writerow([tweet.user.screen_name, tweet.text.encode('utf-8')])\n",
    "csvFile.close()"
   ]
  },
  {
   "cell_type": "markdown",
   "metadata": {},
   "source": [
    "- TXT"
   ]
  },
  {
   "cell_type": "code",
   "execution_count": 84,
   "metadata": {
    "collapsed": false
   },
   "outputs": [],
   "source": [
    "import sys\n",
    "\n",
    "with open('home_timeline.txt', 'w') as txt:\n",
    "    for status in Cursor(api.home_timeline).items(2):\n",
    "        # Process a single status\n",
    "        txt.write(status.user.screen_name + \" = \" + status.text.encode('utf-8') + \"\\n\")"
   ]
  },
  {
   "cell_type": "markdown",
   "metadata": {},
   "source": [
    "#### d. Twitter Streaming\n"
   ]
  },
  {
   "cell_type": "code",
   "execution_count": 88,
   "metadata": {
    "collapsed": false
   },
   "outputs": [
    {
     "name": "stdout",
     "output_type": "stream",
     "text": [
      "{\"created_at\":\"Tue Oct 25 09:06:57 +0000 2016\",\"id\":790842070491463680,\"id_str\":\"790842070491463680\",\"text\":\"RT @MikeQuindazzi: Where to find the world's best #programmers? \\u007b#ArtificialIntelligence #Java #Python #SQL #Ruby\\u007d via @gp_pulipaka\\u2026 \",\"source\":\"\\u003ca href=\\\"http:\\/\\/twitter.com\\/download\\/iphone\\\" rel=\\\"nofollow\\\"\\u003eTwitter for iPhone\\u003c\\/a\\u003e\",\"truncated\":false,\"in_reply_to_status_id\":null,\"in_reply_to_status_id_str\":null,\"in_reply_to_user_id\":null,\"in_reply_to_user_id_str\":null,\"in_reply_to_screen_name\":null,\"user\":{\"id\":198030688,\"id_str\":\"198030688\",\"name\":\"Alok Bhatt\",\"screen_name\":\"alok_bhatt\",\"location\":\"Bharat\",\"url\":null,\"description\":\"Back to original!\",\"protected\":false,\"verified\":false,\"followers_count\":31220,\"friends_count\":566,\"listed_count\":276,\"favourites_count\":18324,\"statuses_count\":180974,\"created_at\":\"Sun Oct 03 04:21:13 +0000 2010\",\"utc_offset\":19800,\"time_zone\":\"New Delhi\",\"geo_enabled\":true,\"lang\":\"en\",\"contributors_enabled\":false,\"is_translator\":false,\"profile_background_color\":\"E8FBFF\",\"profile_background_image_url\":\"http:\\/\\/pbs.twimg.com\\/profile_background_images\\/765213542\\/e4d0c56c4bdbbf14fee6514008443980.jpeg\",\"profile_background_image_url_https\":\"https:\\/\\/pbs.twimg.com\\/profile_background_images\\/765213542\\/e4d0c56c4bdbbf14fee6514008443980.jpeg\",\"profile_background_tile\":true,\"profile_link_color\":\"0099B9\",\"profile_sidebar_border_color\":\"000000\",\"profile_sidebar_fill_color\":\"A0C5C7\",\"profile_text_color\":\"333333\",\"profile_use_background_image\":true,\"profile_image_url\":\"http:\\/\\/pbs.twimg.com\\/profile_images\\/785285454887133184\\/t03_196x_normal.jpg\",\"profile_image_url_https\":\"https:\\/\\/pbs.twimg.com\\/profile_images\\/785285454887133184\\/t03_196x_normal.jpg\",\"profile_banner_url\":\"https:\\/\\/pbs.twimg.com\\/profile_banners\\/198030688\\/1358333353\",\"default_profile\":false,\"default_profile_image\":false,\"following\":null,\"follow_request_sent\":null,\"notifications\":null},\"geo\":null,\"coordinates\":null,\"place\":null,\"contributors\":null,\"retweeted_status\":{\"created_at\":\"Tue Oct 25 09:01:02 +0000 2016\",\"id\":790840583719968768,\"id_str\":\"790840583719968768\",\"text\":\"Where to find the world's best #programmers? \\u007b#ArtificialIntelligence #Java #Python #SQL #Ruby\\u007d via @gp_pulipaka\\u2026 https:\\/\\/t.co\\/GQoqP3nlZP\",\"display_text_range\":[0,140],\"source\":\"\\u003ca href=\\\"https:\\/\\/statusbrew.com\\\" rel=\\\"nofollow\\\"\\u003eStatusbrew\\u003c\\/a\\u003e\",\"truncated\":true,\"in_reply_to_status_id\":null,\"in_reply_to_status_id_str\":null,\"in_reply_to_user_id\":null,\"in_reply_to_user_id_str\":null,\"in_reply_to_screen_name\":null,\"user\":{\"id\":2344530218,\"id_str\":\"2344530218\",\"name\":\"Mike Quindazzi \\u2728\",\"screen_name\":\"MikeQuindazzi\",\"location\":\"Greater Los Angeles Area\",\"url\":\"http:\\/\\/www.linkedin.com\\/in\\/MikeQuindazzi\",\"description\":\"Managing Director | @StrategyAnd @PwC_LLP | Economic Council Co-Chair | @LAEDC | Tweets for C-Suite #CEO #CFO #CMO #CIO #CDO #CTO #CISO on Global #Megatrends |\",\"protected\":false,\"verified\":false,\"followers_count\":16397,\"friends_count\":3731,\"listed_count\":2250,\"favourites_count\":6216,\"statuses_count\":11428,\"created_at\":\"Sat Feb 15 04:17:08 +0000 2014\",\"utc_offset\":-25200,\"time_zone\":\"Pacific Time (US & Canada)\",\"geo_enabled\":true,\"lang\":\"en\",\"contributors_enabled\":false,\"is_translator\":false,\"profile_background_color\":\"131516\",\"profile_background_image_url\":\"http:\\/\\/abs.twimg.com\\/images\\/themes\\/theme14\\/bg.gif\",\"profile_background_image_url_https\":\"https:\\/\\/abs.twimg.com\\/images\\/themes\\/theme14\\/bg.gif\",\"profile_background_tile\":true,\"profile_link_color\":\"F00909\",\"profile_sidebar_border_color\":\"FFFFFF\",\"profile_sidebar_fill_color\":\"EFEFEF\",\"profile_text_color\":\"333333\",\"profile_use_background_image\":true,\"profile_image_url\":\"http:\\/\\/pbs.twimg.com\\/profile_images\\/710972032813404163\\/6IrFzK6c_normal.jpg\",\"profile_image_url_https\":\"https:\\/\\/pbs.twimg.com\\/profile_images\\/710972032813404163\\/6IrFzK6c_normal.jpg\",\"profile_banner_url\":\"https:\\/\\/pbs.twimg.com\\/profile_banners\\/2344530218\\/1470845558\",\"default_profile\":false,\"default_profile_image\":false,\"following\":null,\"follow_request_sent\":null,\"notifications\":null},\"geo\":null,\"coordinates\":null,\"place\":null,\"contributors\":null,\"is_quote_status\":false,\"extended_tweet\":{\"full_text\":\"Where to find the world's best #programmers? \\u007b#ArtificialIntelligence #Java #Python #SQL #Ruby\\u007d via @gp_pulipaka https:\\/\\/t.co\\/klgTFogMds https:\\/\\/t.co\\/CQd3jbLt5s\",\"display_text_range\":[0,136],\"entities\":{\"hashtags\":[{\"text\":\"programmers\",\"indices\":[31,43]},{\"text\":\"ArtificialIntelligence\",\"indices\":[46,69]},{\"text\":\"Java\",\"indices\":[70,75]},{\"text\":\"Python\",\"indices\":[76,83]},{\"text\":\"SQL\",\"indices\":[84,88]},{\"text\":\"Ruby\",\"indices\":[89,94]}],\"urls\":[{\"url\":\"https:\\/\\/t.co\\/klgTFogMds\",\"expanded_url\":\"http:\\/\\/buff.ly\\/2e4siVL\",\"display_url\":\"buff.ly\\/2e4siVL\",\"indices\":[113,136]}],\"user_mentions\":[{\"screen_name\":\"gp_pulipaka\",\"name\":\"Dr. GP Pulipaka\",\"id\":4263007693,\"id_str\":\"4263007693\",\"indices\":[100,112]}],\"symbols\":[],\"media\":[{\"id\":790840581031399424,\"id_str\":\"790840581031399424\",\"indices\":[137,160],\"media_url\":\"http:\\/\\/pbs.twimg.com\\/media\\/CvmhUYJXEAAwXB9.jpg\",\"media_url_https\":\"https:\\/\\/pbs.twimg.com\\/media\\/CvmhUYJXEAAwXB9.jpg\",\"url\":\"https:\\/\\/t.co\\/CQd3jbLt5s\",\"display_url\":\"pic.twitter.com\\/CQd3jbLt5s\",\"expanded_url\":\"https:\\/\\/twitter.com\\/MikeQuindazzi\\/status\\/790840583719968768\\/photo\\/1\",\"type\":\"photo\",\"sizes\":{\"small\":{\"w\":622,\"h\":680,\"resize\":\"fit\"},\"large\":{\"w\":700,\"h\":765,\"resize\":\"fit\"},\"thumb\":{\"w\":150,\"h\":150,\"resize\":\"crop\"},\"medium\":{\"w\":700,\"h\":765,\"resize\":\"fit\"}}}]},\"extended_entities\":{\"media\":[{\"id\":790840581031399424,\"id_str\":\"790840581031399424\",\"indices\":[137,160],\"media_url\":\"http:\\/\\/pbs.twimg.com\\/media\\/CvmhUYJXEAAwXB9.jpg\",\"media_url_https\":\"https:\\/\\/pbs.twimg.com\\/media\\/CvmhUYJXEAAwXB9.jpg\",\"url\":\"https:\\/\\/t.co\\/CQd3jbLt5s\",\"display_url\":\"pic.twitter.com\\/CQd3jbLt5s\",\"expanded_url\":\"https:\\/\\/twitter.com\\/MikeQuindazzi\\/status\\/790840583719968768\\/photo\\/1\",\"type\":\"photo\",\"sizes\":{\"small\":{\"w\":622,\"h\":680,\"resize\":\"fit\"},\"large\":{\"w\":700,\"h\":765,\"resize\":\"fit\"},\"thumb\":{\"w\":150,\"h\":150,\"resize\":\"crop\"},\"medium\":{\"w\":700,\"h\":765,\"resize\":\"fit\"}}}]}},\"retweet_count\":3,\"favorite_count\":4,\"entities\":{\"hashtags\":[{\"text\":\"programmers\",\"indices\":[31,43]},{\"text\":\"ArtificialIntelligence\",\"indices\":[46,69]},{\"text\":\"Java\",\"indices\":[70,75]},{\"text\":\"Python\",\"indices\":[76,83]},{\"text\":\"SQL\",\"indices\":[84,88]},{\"text\":\"Ruby\",\"indices\":[89,94]}],\"urls\":[{\"url\":\"https:\\/\\/t.co\\/GQoqP3nlZP\",\"expanded_url\":\"https:\\/\\/twitter.com\\/i\\/web\\/status\\/790840583719968768\",\"display_url\":\"twitter.com\\/i\\/web\\/status\\/7\\u2026\",\"indices\":[114,137]}],\"user_mentions\":[{\"screen_name\":\"gp_pulipaka\",\"name\":\"Dr. GP Pulipaka\",\"id\":4263007693,\"id_str\":\"4263007693\",\"indices\":[100,112]}],\"symbols\":[]},\"favorited\":false,\"retweeted\":false,\"possibly_sensitive\":false,\"filter_level\":\"low\",\"lang\":\"en\"},\"is_quote_status\":false,\"retweet_count\":0,\"favorite_count\":0,\"entities\":{\"hashtags\":[{\"text\":\"programmers\",\"indices\":[50,62]},{\"text\":\"ArtificialIntelligence\",\"indices\":[65,88]},{\"text\":\"Java\",\"indices\":[89,94]},{\"text\":\"Python\",\"indices\":[95,102]},{\"text\":\"SQL\",\"indices\":[103,107]},{\"text\":\"Ruby\",\"indices\":[108,113]}],\"urls\":[{\"url\":\"\",\"expanded_url\":null,\"indices\":[133,133]}],\"user_mentions\":[{\"screen_name\":\"MikeQuindazzi\",\"name\":\"Mike Quindazzi \\u2728\",\"id\":2344530218,\"id_str\":\"2344530218\",\"indices\":[3,17]},{\"screen_name\":\"gp_pulipaka\",\"name\":\"Dr. GP Pulipaka\",\"id\":4263007693,\"id_str\":\"4263007693\",\"indices\":[119,131]}],\"symbols\":[]},\"favorited\":false,\"retweeted\":false,\"filter_level\":\"low\",\"lang\":\"en\",\"timestamp_ms\":\"1477386417397\"}\n",
      "\n",
      "{\"created_at\":\"Tue Oct 25 09:06:57 +0000 2016\",\"id\":790842070491463680,\"id_str\":\"790842070491463680\",\"text\":\"RT @MikeQuindazzi: Where to find the world's best #programmers? \\u007b#ArtificialIntelligence #Java #Python #SQL #Ruby\\u007d via @gp_pulipaka\\u2026 \",\"source\":\"\\u003ca href=\\\"http:\\/\\/twitter.com\\/download\\/iphone\\\" rel=\\\"nofollow\\\"\\u003eTwitter for iPhone\\u003c\\/a\\u003e\",\"truncated\":false,\"in_reply_to_status_id\":null,\"in_reply_to_status_id_str\":null,\"in_reply_to_user_id\":null,\"in_reply_to_user_id_str\":null,\"in_reply_to_screen_name\":null,\"user\":{\"id\":198030688,\"id_str\":\"198030688\",\"name\":\"Alok Bhatt\",\"screen_name\":\"alok_bhatt\",\"location\":\"Bharat\",\"url\":null,\"description\":\"Back to original!\",\"protected\":false,\"verified\":false,\"followers_count\":31220,\"friends_count\":566,\"listed_count\":276,\"favourites_count\":18324,\"statuses_count\":180974,\"created_at\":\"Sun Oct 03 04:21:13 +0000 2010\",\"utc_offset\":19800,\"time_zone\":\"New Delhi\",\"geo_enabled\":true,\"lang\":\"en\",\"contributors_enabled\":false,\"is_translator\":false,\"profile_background_color\":\"E8FBFF\",\"profile_background_image_url\":\"http:\\/\\/pbs.twimg.com\\/profile_background_images\\/765213542\\/e4d0c56c4bdbbf14fee6514008443980.jpeg\",\"profile_background_image_url_https\":\"https:\\/\\/pbs.twimg.com\\/profile_background_images\\/765213542\\/e4d0c56c4bdbbf14fee6514008443980.jpeg\",\"profile_background_tile\":true,\"profile_link_color\":\"0099B9\",\"profile_sidebar_border_color\":\"000000\",\"profile_sidebar_fill_color\":\"A0C5C7\",\"profile_text_color\":\"333333\",\"profile_use_background_image\":true,\"profile_image_url\":\"http:\\/\\/pbs.twimg.com\\/profile_images\\/785285454887133184\\/t03_196x_normal.jpg\",\"profile_image_url_https\":\"https:\\/\\/pbs.twimg.com\\/profile_images\\/785285454887133184\\/t03_196x_normal.jpg\",\"profile_banner_url\":\"https:\\/\\/pbs.twimg.com\\/profile_banners\\/198030688\\/1358333353\",\"default_profile\":false,\"default_profile_image\":false,\"following\":null,\"follow_request_sent\":null,\"notifications\":null},\"geo\":null,\"coordinates\":null,\"place\":null,\"contributors\":null,\"retweeted_status\":{\"created_at\":\"Tue Oct 25 09:01:02 +0000 2016\",\"id\":790840583719968768,\"id_str\":\"790840583719968768\",\"text\":\"Where to find the world's best #programmers? \\u007b#ArtificialIntelligence #Java #Python #SQL #Ruby\\u007d via @gp_pulipaka\\u2026 https:\\/\\/t.co\\/GQoqP3nlZP\",\"display_text_range\":[0,140],\"source\":\"\\u003ca href=\\\"https:\\/\\/statusbrew.com\\\" rel=\\\"nofollow\\\"\\u003eStatusbrew\\u003c\\/a\\u003e\",\"truncated\":true,\"in_reply_to_status_id\":null,\"in_reply_to_status_id_str\":null,\"in_reply_to_user_id\":null,\"in_reply_to_user_id_str\":null,\"in_reply_to_screen_name\":null,\"user\":{\"id\":2344530218,\"id_str\":\"2344530218\",\"name\":\"Mike Quindazzi \\u2728\",\"screen_name\":\"MikeQuindazzi\",\"location\":\"Greater Los Angeles Area\",\"url\":\"http:\\/\\/www.linkedin.com\\/in\\/MikeQuindazzi\",\"description\":\"Managing Director | @StrategyAnd @PwC_LLP | Economic Council Co-Chair | @LAEDC | Tweets for C-Suite #CEO #CFO #CMO #CIO #CDO #CTO #CISO on Global #Megatrends |\",\"protected\":false,\"verified\":false,\"followers_count\":16397,\"friends_count\":3731,\"listed_count\":2250,\"favourites_count\":6216,\"statuses_count\":11428,\"created_at\":\"Sat Feb 15 04:17:08 +0000 2014\",\"utc_offset\":-25200,\"time_zone\":\"Pacific Time (US & Canada)\",\"geo_enabled\":true,\"lang\":\"en\",\"contributors_enabled\":false,\"is_translator\":false,\"profile_background_color\":\"131516\",\"profile_background_image_url\":\"http:\\/\\/abs.twimg.com\\/images\\/themes\\/theme14\\/bg.gif\",\"profile_background_image_url_https\":\"https:\\/\\/abs.twimg.com\\/images\\/themes\\/theme14\\/bg.gif\",\"profile_background_tile\":true,\"profile_link_color\":\"F00909\",\"profile_sidebar_border_color\":\"FFFFFF\",\"profile_sidebar_fill_color\":\"EFEFEF\",\"profile_text_color\":\"333333\",\"profile_use_background_image\":true,\"profile_image_url\":\"http:\\/\\/pbs.twimg.com\\/profile_images\\/710972032813404163\\/6IrFzK6c_normal.jpg\",\"profile_image_url_https\":\"https:\\/\\/pbs.twimg.com\\/profile_images\\/710972032813404163\\/6IrFzK6c_normal.jpg\",\"profile_banner_url\":\"https:\\/\\/pbs.twimg.com\\/profile_banners\\/2344530218\\/1470845558\",\"default_profile\":false,\"default_profile_image\":false,\"following\":null,\"follow_request_sent\":null,\"notifications\":null},\"geo\":null,\"coordinates\":null,\"place\":null,\"contributors\":null,\"is_quote_status\":false,\"extended_tweet\":{\"full_text\":\"Where to find the world's best #programmers? \\u007b#ArtificialIntelligence #Java #Python #SQL #Ruby\\u007d via @gp_pulipaka https:\\/\\/t.co\\/klgTFogMds https:\\/\\/t.co\\/CQd3jbLt5s\",\"display_text_range\":[0,136],\"entities\":{\"hashtags\":[{\"text\":\"programmers\",\"indices\":[31,43]},{\"text\":\"ArtificialIntelligence\",\"indices\":[46,69]},{\"text\":\"Java\",\"indices\":[70,75]},{\"text\":\"Python\",\"indices\":[76,83]},{\"text\":\"SQL\",\"indices\":[84,88]},{\"text\":\"Ruby\",\"indices\":[89,94]}],\"urls\":[{\"url\":\"https:\\/\\/t.co\\/klgTFogMds\",\"expanded_url\":\"http:\\/\\/buff.ly\\/2e4siVL\",\"display_url\":\"buff.ly\\/2e4siVL\",\"indices\":[113,136]}],\"user_mentions\":[{\"screen_name\":\"gp_pulipaka\",\"name\":\"Dr. GP Pulipaka\",\"id\":4263007693,\"id_str\":\"4263007693\",\"indices\":[100,112]}],\"symbols\":[],\"media\":[{\"id\":790840581031399424,\"id_str\":\"790840581031399424\",\"indices\":[137,160],\"media_url\":\"http:\\/\\/pbs.twimg.com\\/media\\/CvmhUYJXEAAwXB9.jpg\",\"media_url_https\":\"https:\\/\\/pbs.twimg.com\\/media\\/CvmhUYJXEAAwXB9.jpg\",\"url\":\"https:\\/\\/t.co\\/CQd3jbLt5s\",\"display_url\":\"pic.twitter.com\\/CQd3jbLt5s\",\"expanded_url\":\"https:\\/\\/twitter.com\\/MikeQuindazzi\\/status\\/790840583719968768\\/photo\\/1\",\"type\":\"photo\",\"sizes\":{\"small\":{\"w\":622,\"h\":680,\"resize\":\"fit\"},\"large\":{\"w\":700,\"h\":765,\"resize\":\"fit\"},\"thumb\":{\"w\":150,\"h\":150,\"resize\":\"crop\"},\"medium\":{\"w\":700,\"h\":765,\"resize\":\"fit\"}}}]},\"extended_entities\":{\"media\":[{\"id\":790840581031399424,\"id_str\":\"790840581031399424\",\"indices\":[137,160],\"media_url\":\"http:\\/\\/pbs.twimg.com\\/media\\/CvmhUYJXEAAwXB9.jpg\",\"media_url_https\":\"https:\\/\\/pbs.twimg.com\\/media\\/CvmhUYJXEAAwXB9.jpg\",\"url\":\"https:\\/\\/t.co\\/CQd3jbLt5s\",\"display_url\":\"pic.twitter.com\\/CQd3jbLt5s\",\"expanded_url\":\"https:\\/\\/twitter.com\\/MikeQuindazzi\\/status\\/790840583719968768\\/photo\\/1\",\"type\":\"photo\",\"sizes\":{\"small\":{\"w\":622,\"h\":680,\"resize\":\"fit\"},\"large\":{\"w\":700,\"h\":765,\"resize\":\"fit\"},\"thumb\":{\"w\":150,\"h\":150,\"resize\":\"crop\"},\"medium\":{\"w\":700,\"h\":765,\"resize\":\"fit\"}}}]}},\"retweet_count\":3,\"favorite_count\":4,\"entities\":{\"hashtags\":[{\"text\":\"programmers\",\"indices\":[31,43]},{\"text\":\"ArtificialIntelligence\",\"indices\":[46,69]},{\"text\":\"Java\",\"indices\":[70,75]},{\"text\":\"Python\",\"indices\":[76,83]},{\"text\":\"SQL\",\"indices\":[84,88]},{\"text\":\"Ruby\",\"indices\":[89,94]}],\"urls\":[{\"url\":\"https:\\/\\/t.co\\/GQoqP3nlZP\",\"expanded_url\":\"https:\\/\\/twitter.com\\/i\\/web\\/status\\/790840583719968768\",\"display_url\":\"twitter.com\\/i\\/web\\/status\\/7\\u2026\",\"indices\":[114,137]}],\"user_mentions\":[{\"screen_name\":\"gp_pulipaka\",\"name\":\"Dr. GP Pulipaka\",\"id\":4263007693,\"id_str\":\"4263007693\",\"indices\":[100,112]}],\"symbols\":[]},\"favorited\":false,\"retweeted\":false,\"possibly_sensitive\":false,\"filter_level\":\"low\",\"lang\":\"en\"},\"is_quote_status\":false,\"retweet_count\":0,\"favorite_count\":0,\"entities\":{\"hashtags\":[{\"text\":\"programmers\",\"indices\":[50,62]},{\"text\":\"ArtificialIntelligence\",\"indices\":[65,88]},{\"text\":\"Java\",\"indices\":[89,94]},{\"text\":\"Python\",\"indices\":[95,102]},{\"text\":\"SQL\",\"indices\":[103,107]},{\"text\":\"Ruby\",\"indices\":[108,113]}],\"urls\":[{\"url\":\"\",\"expanded_url\":null,\"indices\":[133,133]}],\"user_mentions\":[{\"screen_name\":\"MikeQuindazzi\",\"name\":\"Mike Quindazzi \\u2728\",\"id\":2344530218,\"id_str\":\"2344530218\",\"indices\":[3,17]},{\"screen_name\":\"gp_pulipaka\",\"name\":\"Dr. GP Pulipaka\",\"id\":4263007693,\"id_str\":\"4263007693\",\"indices\":[119,131]}],\"symbols\":[]},\"favorited\":false,\"retweeted\":false,\"filter_level\":\"low\",\"lang\":\"en\",\"timestamp_ms\":\"1477386417397\"}\n",
      "\n",
      "{\"created_at\":\"Tue Oct 25 09:07:00 +0000 2016\",\"id\":790842082508279808,\"id_str\":\"790842082508279808\",\"text\":\"re6stnet 0.477: Resilient, Scalable, IPv6 Network https:\\/\\/t.co\\/wD47DlErFg\",\"source\":\"\\u003ca href=\\\"http:\\/\\/github.com\\/tell-k\\\" rel=\\\"nofollow\\\"\\u003epypi_updates2\\u003c\\/a\\u003e\",\"truncated\":false,\"in_reply_to_status_id\":null,\"in_reply_to_status_id_str\":null,\"in_reply_to_user_id\":null,\"in_reply_to_user_id_str\":null,\"in_reply_to_screen_name\":null,\"user\":{\"id\":739422728168476673,\"id_str\":\"739422728168476673\",\"name\":\"PyPI Recent Updates\",\"screen_name\":\"pypi_updates2\",\"location\":null,\"url\":\"https:\\/\\/github.com\\/tell-k\\/pypi-updates\",\"description\":\"Unofficial bot to flow PyPI recent updates.\",\"protected\":false,\"verified\":false,\"followers_count\":157,\"friends_count\":0,\"listed_count\":85,\"favourites_count\":0,\"statuses_count\":84786,\"created_at\":\"Sun Jun 05 11:44:51 +0000 2016\",\"utc_offset\":32400,\"time_zone\":\"Tokyo\",\"geo_enabled\":false,\"lang\":\"ja\",\"contributors_enabled\":false,\"is_translator\":false,\"profile_background_color\":\"000000\",\"profile_background_image_url\":\"http:\\/\\/pbs.twimg.com\\/profile_background_images\\/739434327839100930\\/pW4Eyp0y.jpg\",\"profile_background_image_url_https\":\"https:\\/\\/pbs.twimg.com\\/profile_background_images\\/739434327839100930\\/pW4Eyp0y.jpg\",\"profile_background_tile\":false,\"profile_link_color\":\"000000\",\"profile_sidebar_border_color\":\"000000\",\"profile_sidebar_fill_color\":\"000000\",\"profile_text_color\":\"000000\",\"profile_use_background_image\":true,\"profile_image_url\":\"http:\\/\\/pbs.twimg.com\\/profile_images\\/739434790688956417\\/KjhAltTQ_normal.jpg\",\"profile_image_url_https\":\"https:\\/\\/pbs.twimg.com\\/profile_images\\/739434790688956417\\/KjhAltTQ_normal.jpg\",\"profile_banner_url\":\"https:\\/\\/pbs.twimg.com\\/profile_banners\\/739422728168476673\\/1465129858\",\"default_profile\":false,\"default_profile_image\":false,\"following\":null,\"follow_request_sent\":null,\"notifications\":null},\"geo\":null,\"coordinates\":null,\"place\":null,\"contributors\":null,\"is_quote_status\":false,\"retweet_count\":0,\"favorite_count\":0,\"entities\":{\"hashtags\":[],\"urls\":[{\"url\":\"https:\\/\\/t.co\\/wD47DlErFg\",\"expanded_url\":\"http:\\/\\/pypi.python.org\\/pypi\\/re6stnet\\/0.477\",\"display_url\":\"pypi.python.org\\/pypi\\/re6stnet\\/\\u2026\",\"indices\":[50,73]}],\"user_mentions\":[],\"symbols\":[]},\"favorited\":false,\"retweeted\":false,\"possibly_sensitive\":false,\"filter_level\":\"low\",\"lang\":\"en\",\"timestamp_ms\":\"1477386420262\"}\n",
      "\n",
      "{\"created_at\":\"Tue Oct 25 09:07:00 +0000 2016\",\"id\":790842082508279808,\"id_str\":\"790842082508279808\",\"text\":\"re6stnet 0.477: Resilient, Scalable, IPv6 Network https:\\/\\/t.co\\/wD47DlErFg\",\"source\":\"\\u003ca href=\\\"http:\\/\\/github.com\\/tell-k\\\" rel=\\\"nofollow\\\"\\u003epypi_updates2\\u003c\\/a\\u003e\",\"truncated\":false,\"in_reply_to_status_id\":null,\"in_reply_to_status_id_str\":null,\"in_reply_to_user_id\":null,\"in_reply_to_user_id_str\":null,\"in_reply_to_screen_name\":null,\"user\":{\"id\":739422728168476673,\"id_str\":\"739422728168476673\",\"name\":\"PyPI Recent Updates\",\"screen_name\":\"pypi_updates2\",\"location\":null,\"url\":\"https:\\/\\/github.com\\/tell-k\\/pypi-updates\",\"description\":\"Unofficial bot to flow PyPI recent updates.\",\"protected\":false,\"verified\":false,\"followers_count\":157,\"friends_count\":0,\"listed_count\":85,\"favourites_count\":0,\"statuses_count\":84786,\"created_at\":\"Sun Jun 05 11:44:51 +0000 2016\",\"utc_offset\":32400,\"time_zone\":\"Tokyo\",\"geo_enabled\":false,\"lang\":\"ja\",\"contributors_enabled\":false,\"is_translator\":false,\"profile_background_color\":\"000000\",\"profile_background_image_url\":\"http:\\/\\/pbs.twimg.com\\/profile_background_images\\/739434327839100930\\/pW4Eyp0y.jpg\",\"profile_background_image_url_https\":\"https:\\/\\/pbs.twimg.com\\/profile_background_images\\/739434327839100930\\/pW4Eyp0y.jpg\",\"profile_background_tile\":false,\"profile_link_color\":\"000000\",\"profile_sidebar_border_color\":\"000000\",\"profile_sidebar_fill_color\":\"000000\",\"profile_text_color\":\"000000\",\"profile_use_background_image\":true,\"profile_image_url\":\"http:\\/\\/pbs.twimg.com\\/profile_images\\/739434790688956417\\/KjhAltTQ_normal.jpg\",\"profile_image_url_https\":\"https:\\/\\/pbs.twimg.com\\/profile_images\\/739434790688956417\\/KjhAltTQ_normal.jpg\",\"profile_banner_url\":\"https:\\/\\/pbs.twimg.com\\/profile_banners\\/739422728168476673\\/1465129858\",\"default_profile\":false,\"default_profile_image\":false,\"following\":null,\"follow_request_sent\":null,\"notifications\":null},\"geo\":null,\"coordinates\":null,\"place\":null,\"contributors\":null,\"is_quote_status\":false,\"retweet_count\":0,\"favorite_count\":0,\"entities\":{\"hashtags\":[],\"urls\":[{\"url\":\"https:\\/\\/t.co\\/wD47DlErFg\",\"expanded_url\":\"http:\\/\\/pypi.python.org\\/pypi\\/re6stnet\\/0.477\",\"display_url\":\"pypi.python.org\\/pypi\\/re6stnet\\/\\u2026\",\"indices\":[50,73]}],\"user_mentions\":[],\"symbols\":[]},\"favorited\":false,\"retweeted\":false,\"possibly_sensitive\":false,\"filter_level\":\"low\",\"lang\":\"en\",\"timestamp_ms\":\"1477386420262\"}\n",
      "\n",
      "{\"created_at\":\"Tue Oct 25 09:07:17 +0000 2016\",\"id\":790842153081663488,\"id_str\":\"790842153081663488\",\"text\":\"Photos..Video: 13ft Python swallows 4ft Iguana whole https:\\/\\/t.co\\/iNA8pu78vp\",\"source\":\"\\u003ca href=\\\"http:\\/\\/ooduarere.com\\\" rel=\\\"nofollow\\\"\\u003eood\\u003c\\/a\\u003e\",\"truncated\":false,\"in_reply_to_status_id\":null,\"in_reply_to_status_id_str\":null,\"in_reply_to_user_id\":null,\"in_reply_to_user_id_str\":null,\"in_reply_to_screen_name\":null,\"user\":{\"id\":613551677,\"id_str\":\"613551677\",\"name\":\"\\u1eccm\\u1ecd O\\u00f2du\\u00e0\",\"screen_name\":\"OmoOduaRere\",\"location\":\"Lagos, Nigeria.\",\"url\":\"http:\\/\\/ooduarere.com\",\"description\":\"Networking\\/News\\/Art\\/Entertainment\\/ Latest news\\/gist archive, Forum with Yoruba Culture and Tradition.Sharing is Caring! http:\\/\\/ooduarere.com\",\"protected\":false,\"verified\":false,\"followers_count\":56858,\"friends_count\":2788,\"listed_count\":328,\"favourites_count\":10876,\"statuses_count\":510625,\"created_at\":\"Wed Jun 20 16:08:55 +0000 2012\",\"utc_offset\":10800,\"time_zone\":\"Baghdad\",\"geo_enabled\":false,\"lang\":\"en\",\"contributors_enabled\":false,\"is_translator\":false,\"profile_background_color\":\"C0DEED\",\"profile_background_image_url\":\"http:\\/\\/pbs.twimg.com\\/profile_background_images\\/744293182\\/d782ca45a9642dc7356517b2f742fa90.jpeg\",\"profile_background_image_url_https\":\"https:\\/\\/pbs.twimg.com\\/profile_background_images\\/744293182\\/d782ca45a9642dc7356517b2f742fa90.jpeg\",\"profile_background_tile\":true,\"profile_link_color\":\"FA743E\",\"profile_sidebar_border_color\":\"FFFFFF\",\"profile_sidebar_fill_color\":\"DDEEF6\",\"profile_text_color\":\"333333\",\"profile_use_background_image\":true,\"profile_image_url\":\"http:\\/\\/pbs.twimg.com\\/profile_images\\/2676065806\\/84e48ee745fbd4d5da4e4cecc7b405b7_normal.jpeg\",\"profile_image_url_https\":\"https:\\/\\/pbs.twimg.com\\/profile_images\\/2676065806\\/84e48ee745fbd4d5da4e4cecc7b405b7_normal.jpeg\",\"profile_banner_url\":\"https:\\/\\/pbs.twimg.com\\/profile_banners\\/613551677\\/1467941763\",\"default_profile\":false,\"default_profile_image\":false,\"following\":null,\"follow_request_sent\":null,\"notifications\":null},\"geo\":null,\"coordinates\":null,\"place\":null,\"contributors\":null,\"is_quote_status\":false,\"retweet_count\":0,\"favorite_count\":0,\"entities\":{\"hashtags\":[],\"urls\":[{\"url\":\"https:\\/\\/t.co\\/iNA8pu78vp\",\"expanded_url\":\"https:\\/\\/shar.es\\/1CT9tL\",\"display_url\":\"shar.es\\/1CT9tL\",\"indices\":[53,76]}],\"user_mentions\":[],\"symbols\":[]},\"favorited\":false,\"retweeted\":false,\"possibly_sensitive\":false,\"filter_level\":\"low\",\"lang\":\"en\",\"timestamp_ms\":\"1477386437088\"}\n",
      "\n",
      "{\"created_at\":\"Tue Oct 25 09:07:17 +0000 2016\",\"id\":790842153081663488,\"id_str\":\"790842153081663488\",\"text\":\"Photos..Video: 13ft Python swallows 4ft Iguana whole https:\\/\\/t.co\\/iNA8pu78vp\",\"source\":\"\\u003ca href=\\\"http:\\/\\/ooduarere.com\\\" rel=\\\"nofollow\\\"\\u003eood\\u003c\\/a\\u003e\",\"truncated\":false,\"in_reply_to_status_id\":null,\"in_reply_to_status_id_str\":null,\"in_reply_to_user_id\":null,\"in_reply_to_user_id_str\":null,\"in_reply_to_screen_name\":null,\"user\":{\"id\":613551677,\"id_str\":\"613551677\",\"name\":\"\\u1eccm\\u1ecd O\\u00f2du\\u00e0\",\"screen_name\":\"OmoOduaRere\",\"location\":\"Lagos, Nigeria.\",\"url\":\"http:\\/\\/ooduarere.com\",\"description\":\"Networking\\/News\\/Art\\/Entertainment\\/ Latest news\\/gist archive, Forum with Yoruba Culture and Tradition.Sharing is Caring! http:\\/\\/ooduarere.com\",\"protected\":false,\"verified\":false,\"followers_count\":56858,\"friends_count\":2788,\"listed_count\":328,\"favourites_count\":10876,\"statuses_count\":510625,\"created_at\":\"Wed Jun 20 16:08:55 +0000 2012\",\"utc_offset\":10800,\"time_zone\":\"Baghdad\",\"geo_enabled\":false,\"lang\":\"en\",\"contributors_enabled\":false,\"is_translator\":false,\"profile_background_color\":\"C0DEED\",\"profile_background_image_url\":\"http:\\/\\/pbs.twimg.com\\/profile_background_images\\/744293182\\/d782ca45a9642dc7356517b2f742fa90.jpeg\",\"profile_background_image_url_https\":\"https:\\/\\/pbs.twimg.com\\/profile_background_images\\/744293182\\/d782ca45a9642dc7356517b2f742fa90.jpeg\",\"profile_background_tile\":true,\"profile_link_color\":\"FA743E\",\"profile_sidebar_border_color\":\"FFFFFF\",\"profile_sidebar_fill_color\":\"DDEEF6\",\"profile_text_color\":\"333333\",\"profile_use_background_image\":true,\"profile_image_url\":\"http:\\/\\/pbs.twimg.com\\/profile_images\\/2676065806\\/84e48ee745fbd4d5da4e4cecc7b405b7_normal.jpeg\",\"profile_image_url_https\":\"https:\\/\\/pbs.twimg.com\\/profile_images\\/2676065806\\/84e48ee745fbd4d5da4e4cecc7b405b7_normal.jpeg\",\"profile_banner_url\":\"https:\\/\\/pbs.twimg.com\\/profile_banners\\/613551677\\/1467941763\",\"default_profile\":false,\"default_profile_image\":false,\"following\":null,\"follow_request_sent\":null,\"notifications\":null},\"geo\":null,\"coordinates\":null,\"place\":null,\"contributors\":null,\"is_quote_status\":false,\"retweet_count\":0,\"favorite_count\":0,\"entities\":{\"hashtags\":[],\"urls\":[{\"url\":\"https:\\/\\/t.co\\/iNA8pu78vp\",\"expanded_url\":\"https:\\/\\/shar.es\\/1CT9tL\",\"display_url\":\"shar.es\\/1CT9tL\",\"indices\":[53,76]}],\"user_mentions\":[],\"symbols\":[]},\"favorited\":false,\"retweeted\":false,\"possibly_sensitive\":false,\"filter_level\":\"low\",\"lang\":\"en\",\"timestamp_ms\":\"1477386437088\"}\n",
      "\n",
      "{\"created_at\":\"Tue Oct 25 09:07:27 +0000 2016\",\"id\":790842197964906500,\"id_str\":\"790842197964906500\",\"text\":\"#PyCharm - can only create a pure python project\\n#Tech #Internet #Question #HowTO\\nhttps:\\/\\/t.co\\/qDNYYWGDGn\",\"source\":\"\\u003ca href=\\\"http:\\/\\/ifttt.com\\\" rel=\\\"nofollow\\\"\\u003eIFTTT\\u003c\\/a\\u003e\",\"truncated\":false,\"in_reply_to_status_id\":null,\"in_reply_to_status_id_str\":null,\"in_reply_to_user_id\":null,\"in_reply_to_user_id_str\":null,\"in_reply_to_screen_name\":null,\"user\":{\"id\":4329396154,\"id_str\":\"4329396154\",\"name\":\"Marlon Samuels\",\"screen_name\":\"UriSamuels\",\"location\":\"USA\",\"url\":\"http:\\/\\/goo.gl\\/XE7aPF\",\"description\":\"#Tech #Internet #News #Question #HowTo\\n: Stay connected with us, keep updated yourself & join the world\\u2019s conversation.\",\"protected\":false,\"verified\":false,\"followers_count\":462,\"friends_count\":44,\"listed_count\":919,\"favourites_count\":0,\"statuses_count\":607242,\"created_at\":\"Mon Nov 30 13:36:35 +0000 2015\",\"utc_offset\":null,\"time_zone\":null,\"geo_enabled\":false,\"lang\":\"en\",\"contributors_enabled\":false,\"is_translator\":false,\"profile_background_color\":\"C0DEED\",\"profile_background_image_url\":\"http:\\/\\/abs.twimg.com\\/images\\/themes\\/theme1\\/bg.png\",\"profile_background_image_url_https\":\"https:\\/\\/abs.twimg.com\\/images\\/themes\\/theme1\\/bg.png\",\"profile_background_tile\":false,\"profile_link_color\":\"0084B4\",\"profile_sidebar_border_color\":\"C0DEED\",\"profile_sidebar_fill_color\":\"DDEEF6\",\"profile_text_color\":\"333333\",\"profile_use_background_image\":true,\"profile_image_url\":\"http:\\/\\/pbs.twimg.com\\/profile_images\\/673373529908207616\\/E6EWF84p_normal.jpg\",\"profile_image_url_https\":\"https:\\/\\/pbs.twimg.com\\/profile_images\\/673373529908207616\\/E6EWF84p_normal.jpg\",\"profile_banner_url\":\"https:\\/\\/pbs.twimg.com\\/profile_banners\\/4329396154\\/1449379772\",\"default_profile\":true,\"default_profile_image\":false,\"following\":null,\"follow_request_sent\":null,\"notifications\":null},\"geo\":null,\"coordinates\":null,\"place\":null,\"contributors\":null,\"is_quote_status\":false,\"retweet_count\":0,\"favorite_count\":0,\"entities\":{\"hashtags\":[{\"text\":\"PyCharm\",\"indices\":[0,8]},{\"text\":\"Tech\",\"indices\":[49,54]},{\"text\":\"Internet\",\"indices\":[55,64]},{\"text\":\"Question\",\"indices\":[65,74]},{\"text\":\"HowTO\",\"indices\":[75,81]}],\"urls\":[{\"url\":\"https:\\/\\/t.co\\/qDNYYWGDGn\",\"expanded_url\":\"http:\\/\\/abizy.com\\/p\\/view.html?url=http:\\/\\/stackoverflow.com\\/questions\\/40232767\\/pycharm-can-only-create-a-pure-python-project\",\"display_url\":\"abizy.com\\/p\\/view.html?ur\\u2026\",\"indices\":[82,105]}],\"user_mentions\":[],\"symbols\":[]},\"favorited\":false,\"retweeted\":false,\"possibly_sensitive\":false,\"filter_level\":\"low\",\"lang\":\"en\",\"timestamp_ms\":\"1477386447789\"}\n",
      "\n",
      "{\"created_at\":\"Tue Oct 25 09:07:27 +0000 2016\",\"id\":790842197964906500,\"id_str\":\"790842197964906500\",\"text\":\"#PyCharm - can only create a pure python project\\n#Tech #Internet #Question #HowTO\\nhttps:\\/\\/t.co\\/qDNYYWGDGn\",\"source\":\"\\u003ca href=\\\"http:\\/\\/ifttt.com\\\" rel=\\\"nofollow\\\"\\u003eIFTTT\\u003c\\/a\\u003e\",\"truncated\":false,\"in_reply_to_status_id\":null,\"in_reply_to_status_id_str\":null,\"in_reply_to_user_id\":null,\"in_reply_to_user_id_str\":null,\"in_reply_to_screen_name\":null,\"user\":{\"id\":4329396154,\"id_str\":\"4329396154\",\"name\":\"Marlon Samuels\",\"screen_name\":\"UriSamuels\",\"location\":\"USA\",\"url\":\"http:\\/\\/goo.gl\\/XE7aPF\",\"description\":\"#Tech #Internet #News #Question #HowTo\\n: Stay connected with us, keep updated yourself & join the world\\u2019s conversation.\",\"protected\":false,\"verified\":false,\"followers_count\":462,\"friends_count\":44,\"listed_count\":919,\"favourites_count\":0,\"statuses_count\":607242,\"created_at\":\"Mon Nov 30 13:36:35 +0000 2015\",\"utc_offset\":null,\"time_zone\":null,\"geo_enabled\":false,\"lang\":\"en\",\"contributors_enabled\":false,\"is_translator\":false,\"profile_background_color\":\"C0DEED\",\"profile_background_image_url\":\"http:\\/\\/abs.twimg.com\\/images\\/themes\\/theme1\\/bg.png\",\"profile_background_image_url_https\":\"https:\\/\\/abs.twimg.com\\/images\\/themes\\/theme1\\/bg.png\",\"profile_background_tile\":false,\"profile_link_color\":\"0084B4\",\"profile_sidebar_border_color\":\"C0DEED\",\"profile_sidebar_fill_color\":\"DDEEF6\",\"profile_text_color\":\"333333\",\"profile_use_background_image\":true,\"profile_image_url\":\"http:\\/\\/pbs.twimg.com\\/profile_images\\/673373529908207616\\/E6EWF84p_normal.jpg\",\"profile_image_url_https\":\"https:\\/\\/pbs.twimg.com\\/profile_images\\/673373529908207616\\/E6EWF84p_normal.jpg\",\"profile_banner_url\":\"https:\\/\\/pbs.twimg.com\\/profile_banners\\/4329396154\\/1449379772\",\"default_profile\":true,\"default_profile_image\":false,\"following\":null,\"follow_request_sent\":null,\"notifications\":null},\"geo\":null,\"coordinates\":null,\"place\":null,\"contributors\":null,\"is_quote_status\":false,\"retweet_count\":0,\"favorite_count\":0,\"entities\":{\"hashtags\":[{\"text\":\"PyCharm\",\"indices\":[0,8]},{\"text\":\"Tech\",\"indices\":[49,54]},{\"text\":\"Internet\",\"indices\":[55,64]},{\"text\":\"Question\",\"indices\":[65,74]},{\"text\":\"HowTO\",\"indices\":[75,81]}],\"urls\":[{\"url\":\"https:\\/\\/t.co\\/qDNYYWGDGn\",\"expanded_url\":\"http:\\/\\/abizy.com\\/p\\/view.html?url=http:\\/\\/stackoverflow.com\\/questions\\/40232767\\/pycharm-can-only-create-a-pure-python-project\",\"display_url\":\"abizy.com\\/p\\/view.html?ur\\u2026\",\"indices\":[82,105]}],\"user_mentions\":[],\"symbols\":[]},\"favorited\":false,\"retweeted\":false,\"possibly_sensitive\":false,\"filter_level\":\"low\",\"lang\":\"en\",\"timestamp_ms\":\"1477386447789\"}\n",
      "\n",
      "{\"created_at\":\"Tue Oct 25 09:07:40 +0000 2016\",\"id\":790842250661998592,\"id_str\":\"790842250661998592\",\"text\":\"python-sqlparse 0.2.2-1 any https:\\/\\/t.co\\/o1Y336vwfJ #Archlinux\",\"source\":\"\\u003ca href=\\\"http:\\/\\/dlvr.it\\\" rel=\\\"nofollow\\\"\\u003edlvr.it\\u003c\\/a\\u003e\",\"truncated\":false,\"in_reply_to_status_id\":null,\"in_reply_to_status_id_str\":null,\"in_reply_to_user_id\":null,\"in_reply_to_user_id_str\":null,\"in_reply_to_screen_name\":null,\"user\":{\"id\":287085434,\"id_str\":\"287085434\",\"name\":\"ArchLinux Updates\",\"screen_name\":\"ArchUpdates\",\"location\":null,\"url\":\"http:\\/\\/archlinuxupdates.altervista.org\\/\",\"description\":\"All ArchLinux packages updates HERE! (:\\r\\n\\r\\n(Unofficial Archlinux Account)\",\"protected\":false,\"verified\":false,\"followers_count\":524,\"friends_count\":1,\"listed_count\":68,\"favourites_count\":0,\"statuses_count\":241769,\"created_at\":\"Sun Apr 24 08:45:35 +0000 2011\",\"utc_offset\":7200,\"time_zone\":\"Rome\",\"geo_enabled\":false,\"lang\":\"it\",\"contributors_enabled\":false,\"is_translator\":false,\"profile_background_color\":\"C0DEED\",\"profile_background_image_url\":\"http:\\/\\/abs.twimg.com\\/images\\/themes\\/theme1\\/bg.png\",\"profile_background_image_url_https\":\"https:\\/\\/abs.twimg.com\\/images\\/themes\\/theme1\\/bg.png\",\"profile_background_tile\":false,\"profile_link_color\":\"0084B4\",\"profile_sidebar_border_color\":\"C0DEED\",\"profile_sidebar_fill_color\":\"DDEEF6\",\"profile_text_color\":\"333333\",\"profile_use_background_image\":true,\"profile_image_url\":\"http:\\/\\/pbs.twimg.com\\/profile_images\\/1323447710\\/arch_reasonably_small_normal.png\",\"profile_image_url_https\":\"https:\\/\\/pbs.twimg.com\\/profile_images\\/1323447710\\/arch_reasonably_small_normal.png\",\"default_profile\":true,\"default_profile_image\":false,\"following\":null,\"follow_request_sent\":null,\"notifications\":null},\"geo\":null,\"coordinates\":null,\"place\":null,\"contributors\":null,\"is_quote_status\":false,\"retweet_count\":0,\"favorite_count\":0,\"entities\":{\"hashtags\":[{\"text\":\"Archlinux\",\"indices\":[52,62]}],\"urls\":[{\"url\":\"https:\\/\\/t.co\\/o1Y336vwfJ\",\"expanded_url\":\"http:\\/\\/dlvr.it\\/MWkZ7b\",\"display_url\":\"dlvr.it\\/MWkZ7b\",\"indices\":[28,51]}],\"user_mentions\":[],\"symbols\":[]},\"favorited\":false,\"retweeted\":false,\"possibly_sensitive\":false,\"filter_level\":\"low\",\"lang\":\"en\",\"timestamp_ms\":\"1477386460353\"}\n",
      "\n",
      "{\"created_at\":\"Tue Oct 25 09:07:40 +0000 2016\",\"id\":790842250661998592,\"id_str\":\"790842250661998592\",\"text\":\"python-sqlparse 0.2.2-1 any https:\\/\\/t.co\\/o1Y336vwfJ #Archlinux\",\"source\":\"\\u003ca href=\\\"http:\\/\\/dlvr.it\\\" rel=\\\"nofollow\\\"\\u003edlvr.it\\u003c\\/a\\u003e\",\"truncated\":false,\"in_reply_to_status_id\":null,\"in_reply_to_status_id_str\":null,\"in_reply_to_user_id\":null,\"in_reply_to_user_id_str\":null,\"in_reply_to_screen_name\":null,\"user\":{\"id\":287085434,\"id_str\":\"287085434\",\"name\":\"ArchLinux Updates\",\"screen_name\":\"ArchUpdates\",\"location\":null,\"url\":\"http:\\/\\/archlinuxupdates.altervista.org\\/\",\"description\":\"All ArchLinux packages updates HERE! (:\\r\\n\\r\\n(Unofficial Archlinux Account)\",\"protected\":false,\"verified\":false,\"followers_count\":524,\"friends_count\":1,\"listed_count\":68,\"favourites_count\":0,\"statuses_count\":241769,\"created_at\":\"Sun Apr 24 08:45:35 +0000 2011\",\"utc_offset\":7200,\"time_zone\":\"Rome\",\"geo_enabled\":false,\"lang\":\"it\",\"contributors_enabled\":false,\"is_translator\":false,\"profile_background_color\":\"C0DEED\",\"profile_background_image_url\":\"http:\\/\\/abs.twimg.com\\/images\\/themes\\/theme1\\/bg.png\",\"profile_background_image_url_https\":\"https:\\/\\/abs.twimg.com\\/images\\/themes\\/theme1\\/bg.png\",\"profile_background_tile\":false,\"profile_link_color\":\"0084B4\",\"profile_sidebar_border_color\":\"C0DEED\",\"profile_sidebar_fill_color\":\"DDEEF6\",\"profile_text_color\":\"333333\",\"profile_use_background_image\":true,\"profile_image_url\":\"http:\\/\\/pbs.twimg.com\\/profile_images\\/1323447710\\/arch_reasonably_small_normal.png\",\"profile_image_url_https\":\"https:\\/\\/pbs.twimg.com\\/profile_images\\/1323447710\\/arch_reasonably_small_normal.png\",\"default_profile\":true,\"default_profile_image\":false,\"following\":null,\"follow_request_sent\":null,\"notifications\":null},\"geo\":null,\"coordinates\":null,\"place\":null,\"contributors\":null,\"is_quote_status\":false,\"retweet_count\":0,\"favorite_count\":0,\"entities\":{\"hashtags\":[{\"text\":\"Archlinux\",\"indices\":[52,62]}],\"urls\":[{\"url\":\"https:\\/\\/t.co\\/o1Y336vwfJ\",\"expanded_url\":\"http:\\/\\/dlvr.it\\/MWkZ7b\",\"display_url\":\"dlvr.it\\/MWkZ7b\",\"indices\":[28,51]}],\"user_mentions\":[],\"symbols\":[]},\"favorited\":false,\"retweeted\":false,\"possibly_sensitive\":false,\"filter_level\":\"low\",\"lang\":\"en\",\"timestamp_ms\":\"1477386460353\"}\n",
      "\n"
     ]
    }
   ],
   "source": [
    "from tweepy import Stream\n",
    "\n",
    "class MyStreamListener(tweepy.StreamListener): \n",
    "    def on_data(self, kicau):\n",
    "        print(kicau.text)\n",
    " \n",
    "    def on_error(self, status_code):\n",
    "        if status_code == 420:\n",
    "            #returning False in on_data disconnects the stream\n",
    "            return False\n",
    "        \n",
    "myStream = tweepy.Stream(auth = api.auth, listener = MyStreamListener())\n",
    "\n",
    "myStream.filter(track=['python'], async=True)"
   ]
  },
  {
   "cell_type": "markdown",
   "metadata": {
    "collapsed": true
   },
   "source": [
    "### 2. Wikipedia\n",
    "\n",
    "#### a. Install Library Wikipedia\n",
    "Untuk meng-install menggunakan <u>pip install wikipedia</u>. Untuk dokumentasi bisa diakses di [sini](https://wikipedia.readthedocs.io/en/latest/quickstart.html)"
   ]
  },
  {
   "cell_type": "code",
   "execution_count": 25,
   "metadata": {
    "collapsed": false
   },
   "outputs": [],
   "source": [
    "import wikipedia\n",
    "\n",
    "wikipedia.set_lang(\"id\")"
   ]
  },
  {
   "cell_type": "markdown",
   "metadata": {},
   "source": [
    "- Search"
   ]
  },
  {
   "cell_type": "code",
   "execution_count": 23,
   "metadata": {
    "collapsed": false
   },
   "outputs": [
    {
     "name": "stdout",
     "output_type": "stream",
     "text": [
      "[u'Kota Semarang', u'Semarang Utara, Semarang', u'Semarang Barat, Semarang', u'Semarang Timur, Semarang', u'Semarang Tengah, Semarang', u'Bergas, Semarang', u'Suruh, Semarang', u'Semarang Selatan, Semarang', u'Getasan, Semarang', u'Ungaran Timur, Semarang']\n"
     ]
    }
   ],
   "source": [
    "print wikipedia.search(\"Semarang\")"
   ]
  },
  {
   "cell_type": "markdown",
   "metadata": {},
   "source": [
    "- Suggest"
   ]
  },
  {
   "cell_type": "code",
   "execution_count": 31,
   "metadata": {
    "collapsed": false
   },
   "outputs": [
    {
     "name": "stdout",
     "output_type": "stream",
     "text": [
      "semarang\n"
     ]
    }
   ],
   "source": [
    "print wikipedia.suggest(\"Semarng\")"
   ]
  },
  {
   "cell_type": "markdown",
   "metadata": {},
   "source": [
    "- Summary"
   ]
  },
  {
   "cell_type": "code",
   "execution_count": 32,
   "metadata": {
    "collapsed": false
   },
   "outputs": [
    {
     "name": "stdout",
     "output_type": "stream",
     "text": [
      "Kota Semarang (Hanacaraka: ꦑꦸꦛꦯꦼꦩꦫꦁ) adalah ibukota Provinsi Jawa Tengah, Indonesia sekaligus kota metropolitan terbesar kelima di Indonesia sesudah Jakarta, Surabaya, Bandung, dan Medan.\n"
     ]
    }
   ],
   "source": [
    "print wikipedia.summary(\"Semarang\", sentences=1)"
   ]
  },
  {
   "cell_type": "markdown",
   "metadata": {},
   "source": [
    "- Page"
   ]
  },
  {
   "cell_type": "code",
   "execution_count": 15,
   "metadata": {
    "collapsed": false
   },
   "outputs": [
    {
     "name": "stdout",
     "output_type": "stream",
     "text": [
      "Kota Semarang\n",
      "https://id.wikipedia.org/wiki/Kota_Semarang\n",
      "Kota Semarang (Hanacaraka: ꦑꦸꦛꦯꦼꦩꦫꦁ) adalah ibukota Provinsi Jawa Tengah, Indonesia sekaligus kota metropolitan terbesar kelima di Indonesia sesudah Jakarta, Surabaya, Bandung, dan Medan. Sebagai salah satu kota paling berkembang di Pulau Jawa, Kota Semarang mempunyai jumlah penduduk yang hampir mencapai 2 juta jiwa dan siang hari bisa mencapai 2,5 juta jiwa. Bahkan, Area Metropolitan Kedungsapur (Kendal, Demak, Ungaran Kabupaten Semarang, Kota Salatiga, dan Purwodadi Kabupaten Grobogan) dengan penduduk sekitar 6 juta jiwa, merupakan Wilayah Metropolis terpadat keempat, setelah Jabodetabek (Jakarta), Gerbangkertosusilo (Surabaya), dan Bandung Raya. Dalam beberapa tahun terakhir, perkembangan Semarang ditandai pula dengan munculnya beberapa gedung pencakar langit di beberapa sudut kota. Sayangnya, pesatnya jumlah penduduk membuat kemacetan lalu lintas di dalam Kota Semarang semakin macet. Kota Semarang dipimpin oleh wali kota Hendrar Prihadi, S.E, M.M dan wakil wali kota Ir. Hj. Hevearita Gunaryanti Rahayu. Kota ini terletak sekitar 558 km sebelah timur Jakarta, atau 312 km sebelah barat Surabaya, atau 621 km sebalah barat daya Banjarmasin (via udara). Semarang berbatasan dengan Laut Jawa di utara, Kabupaten Demak di timur, Kabupaten Semarang di selatan, dan Kabupaten Kendal di barat.Luas Kota 373.67 km2.\n",
      "\n",
      "\n",
      "== Geografi ==\n",
      "Daerah dataran rendah di Kota Semarang sangat sempit, yakni sekitar 4 kilometer dari garis pantai. Dataran rendah ini dikenal dengan sebutan kota bawah. Kawasan kota bawah seringkali dilanda banjir, dan di sejumlah kawasan, banjir ini disebabkan luapan air laut (rob). Di sebelah selatan merupakan dataran tinggi, yang dikenal dengan sebutan kota atas, di antaranya meliputi Kecamatan Candi, Mijen, Gunungpati, Tembalang dan Banyumanik. Pusat pertumbuhan di Semarang sebagai pusat aktivitas dan aglomerasi penduduk muncul menjadi kota kecil baru, seperti di Semarang bagian atas tumbuhnya daerah Banyumanik sebagai pusat aktivitas dan aglomerasi penduduk Kota Semarang bagian atas menjadikan daerah ini cukup padat. Fasilitas umum dan sosial yang mendukung aktivitas penduduk dalam bekerja maupun sebagai tempat tinggal juga telah terpenuhi. Banyumanik menjadi pusat pertumbuhan baru di Semarang bagian atas, dikarenakan munculnya aglomerasi perumahan di daerah ini. Dahulunya Banyumanik hanya merupakan daerah sepi tempat tinggal penduduk Semarang yang bekerja di Semarang bawah (hanya sebagai dormitory town). Namun saat ini daerah ini menjadi pusat aktivitas dan pertumbuhan baru di Kota Semarang, dengan dukungan infrastruktur jalan dan aksessibilitas yang terjangkau. Fasilitas perdagangan dan perumahan baru banyak bermunculan di daerah ini, seperti Carefour, Mall Banyumanik, Ada Swalayan, Perumahan Banyumanik, Perumahan Pucang Gading, dan fasilitas pendidikan baik negeri maupun swasta, seperti Undip, Polines, Unika, dll, dengan dukungan akses jalan tol dan terminal moda yang memperlancar transportasi. Cepatnya pertumbuhan di daerah ini dikarenakan kondisi lahan di Semarang bawah sering terkena bencana rob banjir.\n",
      "\n",
      "\n",
      "== Sejarah ==\n",
      "\n",
      "Sejarah Semarang berawal kurang lebih pada abad ke-6 M, yaitu daerah pesisir yang bernama Pragota (sekarang menjadi Bergota) dan merupakan bagian dari kerajaan Mataram Kuno. Daerah tersebut pada masa itu merupakan pelabuhan dan di depannya terdapat gugusan pulau-pulau kecil. Akibat pengendapan, yang hingga sekarang masih terus berlangsung, gugusan tersebut sekarang menyatu membentuk daratan. Bagian kota Semarang Bawah yang dikenal sekarang ini dengan demikian dahulu merupakan laut. Pelabuhan tersebut diperkirakan berada di daerah Pasar Bulu sekarang dan memanjang masuk ke Pelabuhan Simongan, tempat armada Laksamana Cheng Ho bersandar pada tahun 1435 M. Di tempat pendaratannya, Laksamana Cheng Ho mendirikan kelenteng dan mesjid yang sampai sekarang masih dikunjungi dan disebut Kelenteng Sam Po Kong (Gedung Batu).\n",
      "Pada akhir abad ke-15 M ada seseorang ditempatkan oleh Kerajaan Demak, dikenal sebagai Pangeran Made Pandan (Sunan Pandanaran I), untuk menyebarkan agama Islam dari perbukitan Pragota. Dari waktu ke waktu daerah itu semakin subur, dari sela-sela kesuburan itu muncullah pohon asam yang arang (bahasa Jawa: Asem Arang), sehingga memberikan gelar atau nama daerah itu menjadi Semarang.\n",
      "\n",
      "Sebagai pendiri desa, kemudian menjadi kepala daerah setempat, dengan gelar Kyai Ageng Pandan Arang I. Sepeninggalnya, pimpinan daerah dipegang oleh putranya yang bergelar Pandan Arang II (kelak disebut sebagai Sunan Bayat atau Sunan Pandanaran II atau Sunan Pandanaran Bayat atau Ki Ageng Pandanaran atau Sunan Pandanaran saja). Di bawah pimpinan Pandan Arang II, daerah Semarang semakin menunjukkan pertumbuhannya yang meningkat, sehingga menarik perhatian Sultan Hadiwijaya dari Pajang. Karena persyaratan peningkatan daerah dapat dipenuhi, maka diputuskan untuk menjadikan Semarang setingkat dengan Kabupaten. Pada tanggal 2 Mei 1547 bertepatan dengan peringatan maulid Nabi Muhammad SAW, tanggal 12 rabiul awal tahun 954 H disahkan oleh Sultan Hadiwijaya setelah berkonsultasi dengan Sunan Kalijaga. Tanggal 2 Mei kemudian ditetapkan sebagai hari jadi kota Semarang.\n",
      "\n",
      "Kemudian pada tahun 1678 Amangkurat II dari Mataram, berjanji kepada VOC untuk memberikan Semarang sebagai pembayaran hutangnya, dia mengklaim daerah Priangan dan pajak dari pelabuhan pesisir sampai hutangnya lunas. Pada tahun 1705 Susuhunan Pakubuwono I menyerahkan Semarang kepada VOC sebagai bagian dari perjanjiannya karena telah dibantu untuk merebut Kartasura. Sejak saat itu Semarang resmi menjadi kota milik VOC dan kemudian Pemerintah Hindia Belanda.\n",
      "Pada tahun 1906 dengan Stanblat Nomor 120 tahun 1906 dibentuklah Pemerintah Gemeente. Pemerintah kota besar ini dikepalai oleh seorang Burgemeester (Wali kota). Sistem Pemerintahan ini dipegang oleh orang-orang Belanda berakhir pada tahun 1942 dengan datangya pemerintahan pendudukan Jepang.\n",
      "Pada masa Jepang terbentuklah pemerintah daerah Semarang yang dikepalai Militer (Shico) dari Jepang. Didampingi oleh dua orang wakil (Fuku Shico) yang masing-masing dari Jepang dan seorang bangsa Indonesia. Tidak lama sesudah kemerdekaan, yaitu tanggal 15 sampai 20 Oktober 1945 terjadilah peristiwa kepahlawanan pemuda-pemuda Semarang yang bertempur melawan balatentara Jepang yang bersikeras tidak bersedia menyerahkan diri kepada Pasukan Republik. Perjuangan ini dikenal dengan nama Pertempuran Lima Hari.\n",
      "Tahun 1946 Inggris atas nama Sekutu menyerahkan kota Semarang kepada pihak Belanda. Ini terjadi pada tanggal l6 Mei 1946. Tanggal 3 Juni 1946 dengan tipu muslihatnya, pihak Belanda menangkap Mr. Imam Sudjahri, wali kota Semarang sebelum proklamasi kemerdekaan. Selama masa pendudukan Belanda tidak ada pemerintahan daerah kota Semarang. Namun para pejuang di bidang pemerintahan tetap menjalankan pemerintahan di daerah pedalaman atau daerah pengungsian di luar kota sampai dengan bulan Desember 1948. daerah pengungsian berpindah-pindah mulai dari kota Purwodadi, Gubug, Kedungjati, Salatiga, dan akhirnya di Yogyakarta. Pimpinan pemerintahan berturut-turut dipegang oleh R Patah, R.Prawotosudibyo dan Mr Ichsan. Pemerintahan pendudukan Belanda yang dikenal dengan Recomba berusaha membentuk kembali pemerintahan Gemeente seperti pada masa kolonial dulu di bawah pimpinan R Slamet Tirtosubroto. Hal itu tidak berhasil, karena dalam masa pemulihan kedaulatan harus menyerahkan kepada Komandan KMKB Semarang pada bulan Februari 1950. tanggal I April 1950 Mayor Suhardi, Komandan KMKB. menyerahkan kepemimpinan pemerintah daerah Semarang kepada Mr Koesoedibyono, seorang pegawai tinggi Kementerian Dalam Negeri di Yogyakarta. Ia menyusun kembali aparat pemerintahan guna memperlancar jalannya pemerintahan.\n",
      "\n",
      "\n",
      "== Ekonomi ==\n",
      "Ekonomi Kota Semarang cukup besar karena statusnya sebagai ibu kota provinsi Jawa Tengah. Perekonomian Kota Semarang menurut data BPS 2012 didominasi sektor Industri dan sektor Perdagangan:43; PDRB (Produk Domestik Regional Bruto) 2012 atas dasar harga berlaku mencapai Rp. 54,38 Triliun.:38-39 Pertumbuhan ekonomi yang tinggi ditandai dengan banyaknya gedung tinggi berupa hotel, kantor dan apartemen di Kota Semarang; Daftar gedung tertinggi di Semarang menunjukkan Kota Semarang memiliki 30 gedung dengan ketinggian minimal 12 lantai dan 75 gedung dengan ketinggian berkisar antara 7-11 lantai.\n",
      "\n",
      "\n",
      "=== Kawasan Bisnis Terpadu - Central Business Districts (CBD) ===\n",
      "Sebagai ibukota provinsi Jawa Tengah dan kota metropolitan terbesar kelima di wilayah Republik Indonesia, Semarang telah bertransformasi dan berubah berdinamika menuju kearah yang lebih baik lagi. Dalam kurung waktu kurang dari 10 tahun Metropolitan Semarang terus membangun mempunyai andil dalam finansial yang vital di Indonesia dikarenakan sektor perdagangan dan industri serta jasanya yang berkembang. Sebagai konsekuensinya daya beli masyarakat meningkat, arus modal masuk, indeks kepercayaan konsumen dan doing business yang relatif kondusif berkembang beberapa Kawasan Bisnis Terpadu atau CBD (Central Business District). Beberapa CBD yang masuk dalam kawasan prime segitiga emas antara lain.\n",
      "\n",
      "\n",
      "=== Simpang Lima City Center (SLCC) ===\n",
      "\n",
      "Simpang Lima Ciy Center (SLCC) adalah salah satu Central Business District (CBD) atau Kawasan Bisnis Terpadu yang terletak di Semarang Pusat dan salah satu CBD yang berkembang di jantung kota Semarang. Tidak heran apabila banyak bangunan-bangunan jangkung atau biasa disebut pencakar langit hadir dikawasan ini. Beberapa signature building yang menjadi ciri khas dari SLCC Semarang adalah Ciputa Swiss-Belhotel International Hotel Semarang, Ciputra Mall, Horison Hotel, Plaza Simpang Lima, Louis Kienne Serviced Apartment Hotel, HA-KA Hotel (coming soon), Santika Premiere Hotel, Wisma HSBC, INDOSAT Oooredoo Tower, Living Plaza ACE Hardware & InForma, Gramedia Center Pandanaran, Accor Ibis Simpang Lima Hotel, Amaris Simpang Lima Hotel, Tentrem MIxed-Use Tower (coming soon), Simpang Lima Residences, SMC (Semarang Medical Centerl) Telogorejo Hospital, Pandanaran Hotel, DBS Center, @Hom Hotel, SentraLand Superblock, Graha Bank Indonesia, Plaza Telkom, WIsma Telkomsel, XL Axiata Center Simpang Lima, Bank Mandiri Plaza, CitiBank Square, Pramuka Building,\n",
      "\n",
      "\n",
      "=== Pemuda Central Business District (PCBD) ===\n",
      "\n",
      "Lawang Sewu Heritage Complex, Semarang Tourism Center, Pandanaran Building, Danamon Tower, Wisma BII Maybank, Menara Juang 45, Wisma Sucofindo (FWD & DanaReksa), DP Mall, SmartFren Galeri, Bank Panin Plaza, Menara Suara Merdeka, Premier Inn Hotel Office Tower (coming soon), The Pinnacle Apartment Tower, Menara Bank Mega, Manulife Building, ANZ Square, Graha BRI, House of Indonesia Stock Exchange (IDX) Pandanaran, Dafam Hotel, Graha Bina Artha (Bank JaTeng headquarter), Amaris Hotel, Gramedia Plaza Pemuda, Paragon City Mall, Crowne Plaza Hotel, Accor Novotel Hotel, Whiz Hotel, CitraDream Hotel, Accor Ibis Budget Hotel, Menara Bank Mandiri, Wisma BCA, Marquis de Lafayette Pollux, Sri Ratu Plaza.\n",
      "\n",
      "\n",
      "=== Gajahmada Golden Triangle (GGT) ===\n",
      "Kawasan Budaya Tionghoa (Pecinan) Semarang - Semarang Chinatown Heritage Complex, Gumaya Tower Hotel, ACE Gajahmada, MG Suites Maven Hotel & Residences, Chanti Hotel, Semarang Town Square (SETOS), 3 Store Gajahmada, Grandhika Hotel.\n",
      "\n",
      "\n",
      "== Daftar wali kota ==\n",
      "\n",
      "\n",
      "=== Sejak 1945 ===\n",
      "Sejak tahun 1945 para wali kota yang memimpin kota besar Semarang yang kemudian menjadi Kota Praja dan akhirnya menjadi Kota Semarang adalah sebagai berikut:\n",
      "Mr. Moch.lchsan (1945-1949)\n",
      "Mr. Koesoedibiyono Tjondrowibowo (1949–1 Juli 1951)\n",
      "RM. Hadisoebeno Sosrowerdoyo (1 Juli 1951–1 Januari 1958)\n",
      "Mr. Abdulmadjid Djojoadiningrat (7 Januari 1958–1 Januari 1960)\n",
      "RM Soebagyono Tjondrokoesoemo (1 Januari 1961–26 April 1964)\n",
      "Mr. Wuryanto (25 April 1964–1 September 1966)\n",
      "Letkol. Soeparno (1 September 1966–6 Maret 1967)\n",
      "Letkol. R. Warsito Soegiarto (6 Maret 1967–2 Januari 1973)\n",
      "Kolonel Hadijanto (2 Januari 1973–15 Januari 1980)\n",
      "Kol. H. Iman Soeparto Tjakrajoeda SH (15 Januari 1980–19 Januari 1990)\n",
      "Kol. H. Soetrisno Suharto (19 Januari 1990–19 Januari 2000)\n",
      "H. Sukawi Sutarip SH. (19 Januari 2000–2010)\n",
      "Drs. H. Soemarmo HS, MSi. (2010–2013)\n",
      "Hendrar Prihadi, SE, MM. (2013-2015; 2016-sekarang)\n",
      "Tavip Supriyanto (Pejabat Sementara, 2015-2016)\n",
      "\n",
      "\n",
      "== Daftar penguasa Semarang ==\n",
      "\n",
      "\n",
      "=== Di bawah Kerajaan Demak ===\n",
      "Kin San/Raden Kusen (1478-1529)\n",
      "Ki Ageng Pandan Arang\n",
      "Sunan Bayat (Sunan Pandan Arang II)\n",
      "\n",
      "\n",
      "=== Di bawah Kesultanan Pajang dan Kesultanan Mataram ===\n",
      "Pangeran Kanoman atau Pandan Arang III (1553-1586)\n",
      "Mas R.Tumenggung Tambi (1657-1659)\n",
      "Mas Tumenggung Wongsorejo (1659 - 1666)\n",
      "Mas Tumenggung Prawiroprojo (1666-1670)\n",
      "Mas Tumenggung Alap-alap (1670-1674)\n",
      "Kyai Mertonoyo, Kyai Tumenggung Yudonegoro atau Kyai Adipati Suromenggolo (1674 -1701)\n",
      "\n",
      "\n",
      "=== Di bawah VOC ===\n",
      "Raden Martoyudo atau Raden Sumoningrat (1743-1751)\n",
      "Marmowijoyo atau Sumowijoyo atau Sumonegoro atau Surohadimenggolo (1751-1773)\n",
      "Surohadimenggolo IV (1773-?)\n",
      "Adipati Surohadimenggolo V atau kanjeng Terboyo (?)\n",
      "\n",
      "\n",
      "=== Pemerintahan Hindia Belanda ===\n",
      "Raden Tumenggung Surohadiningrat (?-1841)\n",
      "Putro Surohadimenggolo (1841-1855)\n",
      "Mas Ngabehi Reksonegoro (1855-1860)\n",
      "RTP Suryokusurno (1860-1887)\n",
      "RTP Reksodirjo (1887-1891)\n",
      "RMTA Purbaningrat (1891-?)\n",
      "Pemerintahan kemudian dibagi dua, yakni Kota Praja dan Kabupaten. Penguasa pribumi kemudian menjadi Bupati Semarang:\n",
      "Raden Cokrodipuro (?-1927)\n",
      "RM Soebiyono (1897-1927)\n",
      "RM Amin Suyitno (1927-1942)\n",
      "RMAA Sukarman Mertohadinegoro (1942-1945)\n",
      "Sementara penguasa Belanda menjadi Wali Kota Semarang:\n",
      "D. de Jongh (1916-1927)\n",
      "A. Bagchus (1928-1935)\n",
      "H.E. Boissevain (1936-1942)\n",
      "\n",
      "\n",
      "=== Pemerintahan Republik Indonesia ===\n",
      "R. Soediyono Taruna Kusumo (1945-1945), hanya berlangsung satu bulan\n",
      "M. Soemardjito Priyohadisubroto (tahun 1946)\n",
      "\n",
      "\n",
      "=== Pemerintahan Republik Indonesia Serikat ===\n",
      "RM. Condronegoro hingga tahun 1949\n",
      "\n",
      "\n",
      "=== Setelah pengakuan kedaulatan ===\n",
      "M. Soemardjito Priyohadisubroto (1946-1952)\n",
      "R. Oetoyo Koesoemo (1952-1956).\n",
      "Untuk bupati selanjutnya lihat Kabupaten Semarang.\n",
      "Kotamadya Semarang secara definitif ditetapkan berdasarkan UU Nomor 13 tahun 1950 tentang pembentukan kabupaten-kabupaten dalam lingkungan Provinsi Jawa Tengah.\n",
      "\n",
      "\n",
      "== Pembagian administratif ==\n",
      "Kota Semarang terdiri atas 16 kecamatan dan 177 kelurahan\n",
      "\n",
      "\n",
      "== Perwakilan ==\n",
      "DPRD Kota Semarang hasil Pemilihan Umum Legislatif 2014 tersusun dari 9 partai, dengan perincian sebagai berikut:\n",
      "\n",
      "\n",
      "== Penduduk ==\n",
      "Penduduk Semarang umumnya adalah suku Jawa dan menggunakan Bahasa Jawa sebagai bahasa sehari-hari. Agama mayoritas yang dianut adalah Islam. Semarang memiliki komunitas Tionghoa yang besar. Seperti di daerah lainnya di Jawa, terutama di Jawa Tengah, mereka sudah berbaur erat dengan penduduk setempat dan menggunakan Bahasa Jawa dalam berkomunikasi sejak ratusan tahun silam.\n",
      "\n",
      "\n",
      "== Julukan ==\n",
      "Kota Semarang mempunyai mempunyai beberapa julukan, antara lain:\n",
      "Venetië van Java\n",
      "Semarang dilalui banyak sungai di tengah kota seperti di Venesia (Italia), sehingga Belanda menyebut Semarang sebagai Venetië van Java.\n",
      "Kota Lumpia\n",
      "Lumpia adalah makanan khas Semarang, yang terbuat dari akulturasi 2 budaya yaitu budaya Jawa dan China.\n",
      "Kota Atlas\n",
      "Semarang memiliki semboyan Kota ATLAS akronim (Aman, Tertib, Lancar, Asri dan Sehat), sebagai slogan pemeliharaan keindahan kota.\n",
      "The Port of Java\n",
      "Untuk kepentingan pemasaran pariwisata, Wali Kota Semarang mengambil slogan pariwisata Semarang, The Port of Java (Pelabuhannya Jawa) sebagai upaya pencitraan kota Semarang sebagai pusat Pelabuhan Jawa. Karena Setiap orang yang hendak pergi dari Jakarta atau Jawa Barat ke Surabaya atau Jawa Timur dan juga sebaliknya, harus melewati dan singgah di Kota Semarang. Bahkan menurut sejarah Laksamana Ceng Ho pun berlabuh di Kota Semarang untuk singgah.\n",
      "Semarang Pesona Asia\n",
      "Pada tahun 2009 dari wacana beberapa pihak, Wali Kota Semarang menyetujui slogan \"SPA\", di mana konsekuensinya, dilakukan pembersihan dan pembangunan di mana mana, (perbaikan saluran, jalan, trotoar, taman, penataan pkl)\n",
      "\n",
      "\n",
      "== Pariwisata ==\n",
      "\n",
      "\n",
      "=== Wisata Alam ===\n",
      "Pulau Tirangcawang, di Kelurahan Tugu\n",
      "Pantai Tirang, di Kelurahan Tambak Harjo\n",
      "Pantai Marina, di Kelurahan Tawangsari\n",
      "Pantai Maron, di Kelurahan Tambak Harjo\n",
      "Goa Kreo, di Kelurahan Kandri\n",
      "Taman Lele Semarang, di Kelurahan Tambakaji\n",
      "Curug Lawe di Gunungpati\n",
      "Curug Benowo di Gunungpati\n",
      "\n",
      "\n",
      "=== Wisata sejarah ===\n",
      "Museum MURI, di Kelurahan Tegalsari\n",
      "Museum Perkembangan Islam Jawa Tengah, di Kelurahan Tegalsari\n",
      "Museum Jamu Nyonya Meneer, di Kelurahan Muktiharjo\n",
      "Museum Jawa Tengah, di Kelurahan Gisikdrono\n",
      "Museum Mandala Bhakti, di Kelurahan Pindrikan Kidul\n",
      "Lawang Sewu, di Kelurahan Pindrikan Kidul\n",
      "Tugu Muda, di Kelurahan Pindrikan Kidul\n",
      "Candi Tugu, di Kelurahan Tugurejo\n",
      "Little Netherland (Kota Tua Semarang), di Kelurahan Purwodinatan\n",
      "\n",
      "\n",
      "=== Wisata religius ===\n",
      "\n",
      "Masjid Agung Jawa Tengah, di Kelurahan Sambirejo\n",
      "Masjid Baiturrahman Semarang, di Simpanglima\n",
      "Masjid Kauman Semarang, di daerah Kauman, Johar\n",
      "Klenteng Sam Po Kong, di daerah Simongan\n",
      "Kelenteng Tay Kak Sie Tri Dharma, di Gang Lombok, Semarang Pusat\n",
      "Gereja Blenduk, di Kecamatan Semarang Utara\n",
      "Gereja Katedral Semarang di Kelurahan Randusari\n",
      "Gereja JKI Injil Kerajaan Semarang di Kelurahan Tawangsari\n",
      "Vihara Mahavira Graha di Kelurahan Tawangsari\n",
      "Pagoda Buddhagaya, di Pudak Payung, Banyumanik, Semarang Selatan\n",
      "\n",
      "\n",
      "=== Wisata keluarga ===\n",
      "Wonderia, di Kelurahan Tegalsari\n",
      "Kebun Binatang Mangkang, di Kelurahan Mangkang Kulon\n",
      "Taman Mini Jawa Tengah (Maerokoco), di Kelurahan Tawangsari\n",
      "\n",
      "\n",
      "=== Wisata belanja ===\n",
      "Pasar Johar, di Kelurahan Kauman\n",
      "Mall Ciputra (Ramayana), Simpang Lima City Center\n",
      "Simpang Lima Plaza (Matahari), Simpang Lima City Center\n",
      "Java Super Mall (Hypermart), di Kelurahan Peterongan\n",
      "Paragon City Mall (Matahari), Pemuda Central Business District (PCBD) di Kelurahan Sekayu\n",
      "Sri Ratu (Matahari), di Kelurahan Peterongan\n",
      "DP Mall (Carrefour), di Kelurahan Pekunden Jl. Pemuda Semarang Tengah\n",
      "M-Art Shop, Jl. Mataram 653 Semarang\n",
      "\n",
      "\n",
      "== Perayaan ==\n",
      "Kota Semarang memiliki beberapa event perayaan, yaitu:\n",
      "Dugderan\n",
      "Semarang Expo\n",
      "Semarang Great Sale\n",
      "Semarang Fashion Festival\n",
      "Semarang Fashion On The Street\n",
      "Festival Kota Lama Semarang\n",
      "\n",
      "\n",
      "== Kuliner ==\n",
      "\n",
      "\n",
      "=== Masakan ===\n",
      "Makanan khas Semarang antara lain adalah:\n",
      "Bandeng presto\n",
      "Soto Bangkong \"Soto Semarang\"\n",
      "Mie Kopyok\n",
      "Nasi pindang\n",
      "Nasi Ayam Semarang\n",
      "Sega Becak\n",
      "Sega Lunyu\n",
      "Tahu Pong\n",
      "Pecel Koyor\n",
      "Tahu Petis\n",
      "Tahu Gimbal\n",
      "\n",
      "\n",
      "=== Jajanan ===\n",
      "\n",
      "Jajanan Pasar khas Semarang antara lain adalah:\n",
      "Madu Semarang\n",
      "Lunpia Semarang\n",
      "Wingko Babat\n",
      "Spekoek\n",
      "Jongkong Singkong\n",
      "Gandos\n",
      "Kue Moci\n",
      "Blanggem\n",
      "Mentho\n",
      "Timus\n",
      "Gilo-gilo\n",
      "Bakpia\n",
      "Tahu Gimbal\n",
      "\n",
      "\n",
      "=== Minuman ===\n",
      "Minuman khas Semarang antara lain adalah:\n",
      "Es Cao\n",
      "Es Congklik\n",
      "Wedang tahu\n",
      "Wedang Jahe\n",
      "Wedang Ronde\n",
      "Wedang Kacang Tanah\n",
      "Wedang Durian\n",
      "Wedang Jalang (Wedang Jahe Alang-alang)\n",
      "Wedang Lengkeng\n",
      "Kolak Setup\n",
      "\n",
      "\n",
      "=== Oleh-oleh ===\n",
      "Roti Gandjel Rel\n",
      "Lumpia\n",
      "Jambu Semarang\n",
      "Tahu Bakso Ungaran\n",
      "Mari Wijen\n",
      "\n",
      "\n",
      "== Media ==\n",
      "\n",
      "\n",
      "=== Surat kabar ===\n",
      "Kota Semarang memiliki beberapa surat kabar di antaranya:\n",
      "\n",
      "\n",
      "==== Terrestrial televisi ====\n",
      "Kota Semarang juga memiliki beberapa terdiri dari 18 stasiun televisi (15 siaran nasional & 3 siaran lokal) seperti:\n",
      "\n",
      "\n",
      "==== Televisi berlangganan ====\n",
      "Kota Semarang juga memiliki beberapa televisi berlangganan seperti:\n",
      "Aora TV\n",
      "Astro Nusantara\n",
      "BiG TV\n",
      "Centrin TV\n",
      "Groovia TV\n",
      "UseeTV\n",
      "\n",
      "Indovision\n",
      "Top TV\n",
      "OkeVision\n",
      "\n",
      "Max3\n",
      "Nexmedia\n",
      "OrangeTV/Skynindo\n",
      "\n",
      "Transvision\n",
      "YesTV\n",
      "\n",
      "Topas TV\n",
      "Viva+\n",
      "\n",
      "\n",
      "=== Radio ===\n",
      "Kota Semarang juga memiliki 42 stasiun radio seperti:\n",
      "\n",
      "\n",
      "== Sarana umum ==\n",
      "\n",
      "\n",
      "=== Olahraga ===\n",
      "PSIS Semarang merupakan satu-satunya klub sepak bola profesional di Kota Semarang. Pada musim 1999, PSIS berhasil menjadi juara Liga Indonesia, namun pada musim kompetisi 2000 terdegradasi ke Divisi I. Pada musim 2006 bermain di Divisi Utama Liga Djarum Wilayah 1 dan meraih juara kedua setelah dalam final kalah 0–1 oleh Persik Kediri Pada tahun ini PSIS kembali berlaga di Indonesia Super League tanpa dana bantuan APBD sama sekali.\n",
      "Semarang United FC merupakan klub sepak bola yang mengikuti turnamen dalam ajang Liga Primer Indonesia.\n",
      "Sasana Tinju Tugu Muda Semarang merupakan sasana tinju yang membina amatir dan profesional tingkat dunia di Kota Semarang. Perjalanan Sasana Tinju Tugu Muda Semarang yang dirintis oleh Muklis Sutan Rambing Th 1970 (1976 s/d 1978)Membentuk Sasana Tinju Adam (dengan latar belakang sponsorship Bis Adam). Th 1980 (1978 s/d 1989) Membentuk Sasana Tinju Orang Tua (dengan latar belakang sponsor jamu cap Orang Tua) Selama tahun 1984 – 1985 memiliki beberapa petinju amatir dan profesional, namun kurang maksimal karena iklim pertandingan yang jarang. Rata-rata pertandingan profesional setahun sekali, saat itu Sasana Orang Tua sempat mencetak juara Nasional atas nama Agus Suyanto. Th 1990 (1989 s/d 2008). Th 1990 membentuk Sasana Tinju Bank Buana dengan konsentrasi pembinaan tinju amatir. Th 1997 ketika tinju profesional boming di televisi, Muklis Sutan Rambing mencoba fokus kepada tinju pro dengan nama Sasana Tinju Tugu Muda Semarang (Tugu Muda merupakan lambang kota Semarang). Saat itu Sasana Tinju Bank Buana tetap jalan namun konsen di Tinju amatir, untuk Tinju profesional dengan nama Sasana Tinju Tugu Muda Semarang. Pada akhir tahun 1999 Sasana Tinju Tugu Muda Semarang berhasil mencetak 3 (tiga) juara Nasional : Chris Jhon (57 Kg / kelas Bulu), Arthur Rambing (58,1 Kg / kelas Ringan Jr) dan Sonny Rambing (63 Kg / kelas Welter Jr). Karena tertarik , Sponsorship Bank Buana ikut merambah pada pembinaan tinju profesional. Lama kelamaan ketika berprestasi tingkat internasional , berubah menjadi Sasana Tinju Bank Buana Semarang, hingga tahun 2006 menjadi Sasana Tinju UOB Buana Semarang / UOB Boxing Camp (karena nama perusahaan sponsor berubah menjadi UOB Buana). Th 2009 (2008 s/d 2011)Perubahan nama Sasana menjadi Kuku Bima Energy, menurunnya minat atlet untuk berlatih mempengaruhi prestasi tinju kota Semarang kususnya Jawa Tengah menjadi minim juara. Th 2010 (2009 s/d sekarang) Perubahan nama sasana menjadi “Sasana Tinju Temujin Rambing” sebagai wujud mengenang meninggalnya putra, pelatih sekaligus promotor tinju penggerak roda pertinjuan tanah air dan Jawa Tengah (Semarang)khususnya.\n",
      "\n",
      "\n",
      "=== Transportasi ===\n",
      "Kota Semarang dapat ditempuh dengan perjalanan darat, laut, dan udara. Semarang dilalui jalur pantura yang menghubungkan Jakarta dengan kota-kota di pantai utara Pulau Jawa. Saat ini sedang dibangun jalan tol yang menghubungkan Semarang dengan Solo. Angkutan bus antarkota dipusatkan di Terminal Terboyo, Kecamatan Genuk. Angkutan dalam kota dilayani oleh bus kota, angkot, dan becak. Pada tahun 2009 mulai beroperasi TransSemarang, yang juga dikenal dengan BRT (Bus Rapid Transit), sebuah moda angkutan massal meskipun tidak menggunakan jalur khusus seperti busway (Trans Jakarta) di Jakarta.\n",
      "Semarang memiliki peranan penting dalam sejarah kereta api Indonesia. Di sinilah tonggak pertama pembangunan kereta api Hindia Belanda dimulai, dengan pembangunan jalan kereta api yang dimulai dari desa Kemijen menuju desa Tanggung sepanjang 26 Km) dengan lebar sepur 1435 mm. Pencangkulan pertama dilakukan oleh Gubernur Jenderal Hindia Belanda, Mr LAJ Baron Sloet van den Beele, Jumat 17 Juni 1864. Jalan kereta api ini mulai dioperasikan untuk umum Sabtu, 10 Agustus 1867.\n",
      "Pembangunan jalan KA ini diprakarsai sebuah perusahaan swasta Naamlooze Venootschap Nederlandsch Indische Spoorweg Maatschappij (NV NISM) (terjemahan: Perseroan tak bernama Perusahaan Kereta Api Nederland-Indonesia) yang dipimpin oleh Ir JP de Bordes. Kemudian, setelah ruas rel Kemijen - Tanggung, dilanjutkan pembangunan rel yang dapat menghubungkan kota Semarang - Surakarta (110 Km), pada 10 Februari 1870. Semarang memiliki dua stasiun kereta api: Stasiun Semarang Tawang untuk kereta api kelas bisnis dan eksekutif, serta Stasiun Semarang Poncol untuk kereta api kelas ekonomi dan angkutan barang. Kereta api di antaranya jurusan Semarang-Jakarta, Semarang-Bandung, Semarang-Surabaya, Jakarta-Semarang-Jombang, Jakarta-Semarang-Malang, Semarang-Tegal, dan Semarang-Bojonegoro.\n",
      "Angkutan udara dilayani di Bandara Ahmad Yani, menghubungkan Semarang dengan sejumlah kota-kota besar Indonesia setiap harinya. Sejak tahun 2008 Bandara Ahmad Yani menjadi bandara Internasional dengan adanya penerbangan langsung ke luar negri, contohnya ke Singapura dan Kualalumpur. Pelabuhan Tanjung Mas menghubungkan Semarang dengan sejumlah kota-kota pelabuhan Indonesia; pelabuhan ini juga terdapat terminal peti kemas.\n",
      "Untuk memperlancar jalur transportasi ke arah kota/kabupaten di Jawa Tengah di Bagian Selatan terutama jalur padat Semarang-Solo, saat ini sedang dibangun Jalan Tol Semarang-Solo. Pada tahap pertama, pembangunan jalan tol tersebut telah dioperasikan sebagian, yaitu Semarang-Ungaran yang telah mulai digunakan tahun 2011. Saat ini, pembangunan jalan tol ruas Ungaran-Bawen sedang dilakukan.\n",
      "\n",
      "\n",
      "=== Kesehatan (rumah sakit) ===\n",
      "Terdapat beberapa rumah sakit besar di Semarang antara lain:\n",
      "RSUP Dr. Karyadi\n",
      "RSUD Kota Semarang\n",
      "RSU Tlogorejo\n",
      "Rumah Sakit Elizabeth\n",
      "Rumah Sakit Panti Wilasa Citarum\n",
      "Rumah Sakit Panti Wilasa Dr. Cipto\n",
      "RSU PKU Muhammadiyah Roemani\n",
      "Rumah Sakit William Both\n",
      "Rumah Sakit Islam Sultan Agung\n",
      "Rumah Sakit Columbia Asia Semarang\n",
      "Rumah Sakit Nasional Diponegoro (RSND)\n",
      "\n",
      "\n",
      "=== Pendidikan ===\n",
      "Semarang terdapat sejumlah perguruan tinggi ternama baik negeri maupun swasta. Bahkan berdasarkan Peringkat universitas di Indonesia menurut Webometrics terdapat 6 universitas di Semarang termasuk 100 universitas terbaik Indonesia. Berdasarkan data dari DAPODIK Kota Semarang 2010/2011, perguruan tinggi di Kota Semarang:\n",
      "\n",
      "\n",
      "==== Perguruan tinggi negeri ====\n",
      "Perguruan tinggi negeri tersebut adalah:\n",
      "Universitas Diponegoro (UNDIP)\n",
      "Universitas Negeri Semarang (UNNES)\n",
      "Politeknik Negeri Semarang (POLINES)\n",
      "UIN Walisongo\n",
      "Politeknik Ilmu Pelayaran Semarang (P3B/BPLP/PIP)\n",
      "Politeknik Kesehatan Kemenkes Semarang (POLTEKKES Semarang)\n",
      "\n",
      "\n",
      "==== Perguruan tinggi swasta ====\n",
      "Perguruan tinggi swasta antara lain:\n",
      "Universitas Dian Nuswantoro (UDINUS)\n",
      "Universitas Katolik Soegijapranata (UNIKA)\n",
      "Universitas STIKUBANK\n",
      "Universitas Pandanaran (UNPAND)\n",
      "STIE Totalwin Semarang\n",
      "Sekolah Tinggi Ilmu Elektronika dan Komputer Semarang (STEKOM)\n",
      "Universitas Sultan Agung (UNISSULA)\n",
      "Universitas Semarang\n",
      "Universitas 17 Agustus 1945 (UNTAG)\n",
      "Universitas Muhammadiyah Semarang\n",
      "Universitas Wahid Hasyim Semarang\n",
      "Universitas AKI Semarang\n",
      "Akademi Statistika (AIS) Muhammadiyah Semarang\n",
      "STMIK ProVisi IT College\n",
      "AKABA 17 Agustus 1945\n",
      "STIE Dharma Putra\n",
      "Sekolah Tinggi Ilmu Ekonomi Bank BPD Jateng\n",
      "Kolese PIKA\n",
      "Sekolah Tinggi Maritim Dan Transport Amni Semarang (STIMART AMNI)\n",
      "\n",
      "\n",
      "==== Sekolah menengah atas ====\n",
      "SMA Negeri 1 Semarang\n",
      "SMA Negeri 2 Semarang\n",
      "SMA Negeri 3 Semarang\n",
      "SMA Negeri 4 Semarang\n",
      "SMA Negeri 5 Semarang\n",
      "SMA Negeri 6 Semarang\n",
      "SMA Negeri 7 Semarang\n",
      "SMA Negeri 8 Semarang\n",
      "SMA Negeri 9 Semarang\n",
      "SMA Negeri 10 Semarang\n",
      "SMA Negeri 11 Semarang\n",
      "SMA Negeri 12 Semarang\n",
      "SMA Negeri 13 Semarang\n",
      "SMA Negeri 14 Semarang\n",
      "SMA Negeri 15 Semarang\n",
      "SMA Negeri 16 Semarang\n",
      "SMA Budi Luhur Saint Michael\n",
      "SMA Citi School\n",
      "SMA Kolese Loyola\n",
      "SMA Karangturi\n",
      "SMA Lab School Institut Indonesia\n",
      "SMA Sedes Sapiantiae\n",
      "SMA Kebon Dalem\n",
      "SMA Kristen Terang Bangsa\n",
      "SMA Kristen Tri Tunggal\n",
      "SMA Kristen YSKI\n",
      "SMA Krista Mitra\n",
      "SMA Pangudi Luhur Don Bosco\n",
      "SMA Theresiana 1\n",
      "SMA Theresiana 2\n",
      "SMA Islam Sultan Agung 1\n",
      "SMA Islam Sultan Agung 2\n",
      "SMA Semesta\n",
      "SMA Sint Louis\n",
      "SMA Kesatrian 1\n",
      "SMA Kesatrian 2\n",
      "SMA Hidayatullah\n",
      "SMA Nasima\n",
      "SMA Mataram\n",
      "\n",
      "\n",
      "== Kota kembar ==\n",
      " Beihai, Republik Rakyat Tiongkok\n",
      " Fuzhou, Republik Rakyat Tiongkok\n",
      " Brisbane, Australia\n",
      " Da Nang, Vietnam\n",
      " Tallahassee, Florida, Amerika Serikat\n",
      " Kota Melaka, Malaysia\n",
      " Tegucigalpa, Honduras\n",
      "\n",
      "\n",
      "== Lain-lain ==\n",
      "Semarang memiliki slogan sebagai Kota ATLAS (Aman, Tertib, Lancar, Asri dan Sehat).\n",
      "Beberapa pasar besar anatara lain pasar Johar, pasar Peterongan, pasar Jatingaleh, pasar Banyumanik, pasar Kobong, pasar Karangayu, pasar Bulu, pasar Gang Baru, dll.\n",
      "Perusahaan Farmasi antara lain Phapros, Saka Farma, DGPharm, dan Zenith.\n",
      "Pabrik Jamu antara lain Jamu Jago, Sido Muncul, Nyonya Meneer, Jamu Leo, dll.\n",
      "Pernah populer penggunaan bahasa pergaulan yang disebut bahasa Walikan.\n",
      "\n",
      "\n",
      "== Seniman dan selebriti ==\n",
      "Tukul Arwana, pelawak dan presenter talkshow Bukan Empat Mata di stasiun televisi Trans 7.\n",
      "Ki Joko Hadiwijoyo, dalang wayang kulit asal Kota Semarang.\n",
      "Ki Nartosabdho, dalang Wayang kulit asal Kota Semarang kelahiran Klaten yang meninggal pada tahun 1985 lalu.\n",
      "Anne Avantie, desainer kondang\n",
      "Asty Ananta, pemain sinetron dan pembawa acara\n",
      "Tia AFI, pemenang AFI indosiar\n",
      "Raden Saleh, pelukis Indonesia\n",
      "Philip ten Klooster, pematung Belanda\n",
      "Max van Egmond, penyanyi bas-bariton Belanda\n",
      "Daniel Sahuleka, penyanyi Belanda berdarah Maluku-Tionghoa-Sunda\n",
      "Nedly Andrew Girke Elstak, komponis, peniup terompet, dan pianis jazz Belanda\n",
      "Johanna Carolina van der Wal, musikus dan pianis Belanda\n",
      "Robert Maingay, pematung Belanda\n",
      "Willem Einthoven (1860–1927), dokter dan peneliti Belanda. Usaha penelitiannya mengarah kepada Elektrokardiogram (mendapatkan hadiah Nobel bidang kedokteran 1924)\n",
      "Fuad Hassan (1929–2007), politikus, Menteri Pendidikan dan Kebudayaan (1985–1993)\n",
      "Nh. Dini 1936), sastrawati\n",
      "Shania Junianatha, personel JKT48\n",
      "Muklis Sutan Rambing, pemilik dan pelatih Sasana Tinju Tugu Muda Semarang sekarang berubah Sasana Tinju Temujin Rambing di Kampung Lasipin 339A, Kota Semarang Timur.\n",
      "Anindya Kusuma Putri, Puteri Indonesia 2015.\n",
      "Clarisa Dewi, Runner Up X Factor Indonesia Season 2 Tahun 2015.\n",
      "Petrus Agung Purnomo, pemuka agama Protestan yang paling disegani di Kota Semarang dan pendiri Gereja Holy Stadium milik JKI Injil Kerajaan yang terletak di kawasan Pantai Marina Semarang\n",
      "Angie Ang, presenter berita di stasiun televisi NET.\n",
      "\n",
      "\n",
      "== Referensi ==\n",
      "\n",
      "\n",
      "== Pranala luar ==\n",
      "(Indonesia) Situs web Semarang\n"
     ]
    }
   ],
   "source": [
    "page = wikipedia.page(\"Semarang\")\n",
    "\n",
    "print (page.title)\n",
    "print (page.url)\n",
    "print (page.content)"
   ]
  },
  {
   "cell_type": "markdown",
   "metadata": {},
   "source": [
    "- Images & Links"
   ]
  },
  {
   "cell_type": "code",
   "execution_count": 38,
   "metadata": {
    "collapsed": false
   },
   "outputs": [
    {
     "name": "stdout",
     "output_type": "stream",
     "text": [
      "https://upload.wikimedia.org/wikipedia/id/3/3c/Logo_Semarang_Variety_of_Culture.png\n",
      "1547\n",
      "[u'Kategori:Halaman dengan argumen ganda di pemanggilan templat', u'Kategori:Halaman dengan galat skrip', u'Kategori:Ibu kota provinsi di Indonesia', u'Kategori:Kategori dengan pranala berbeda dengan Wikidata', u'Kategori:Kota Pusaka di Indonesia', u'Kategori:Kota Semarang', u'Kategori:Kota di Indonesia', u'Kategori:Kota di Jawa Tengah', u'Kategori:Pages using invalid self-closed HTML tags']\n"
     ]
    }
   ],
   "source": [
    "print (page.images[0])\n",
    "print (page.links[0])\n",
    "print (page.categories)"
   ]
  },
  {
   "cell_type": "markdown",
   "metadata": {},
   "source": [
    "- Geosearch"
   ]
  },
  {
   "cell_type": "code",
   "execution_count": 35,
   "metadata": {
    "collapsed": false
   },
   "outputs": [
    {
     "name": "stdout",
     "output_type": "stream",
     "text": [
      "[u'Stasiun Semarang Poncol']\n"
     ]
    }
   ],
   "source": [
    "print wikipedia.geosearch(-6.966667, 110.41666699999996)"
   ]
  },
  {
   "cell_type": "code",
   "execution_count": null,
   "metadata": {
    "collapsed": true
   },
   "outputs": [],
   "source": []
  }
 ],
 "metadata": {
  "anaconda-cloud": {},
  "kernelspec": {
   "display_name": "Python [conda env:py27]",
   "language": "python",
   "name": "conda-env-py27-py"
  },
  "language_info": {
   "codemirror_mode": {
    "name": "ipython",
    "version": 2
   },
   "file_extension": ".py",
   "mimetype": "text/x-python",
   "name": "python",
   "nbconvert_exporter": "python",
   "pygments_lexer": "ipython2",
   "version": "2.7.12"
  }
 },
 "nbformat": 4,
 "nbformat_minor": 1
}
