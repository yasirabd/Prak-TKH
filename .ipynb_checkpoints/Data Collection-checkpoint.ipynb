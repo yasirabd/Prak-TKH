{
 "cells": [
  {
   "cell_type": "markdown",
   "metadata": {},
   "source": [
    "# Data Collection"
   ]
  },
  {
   "cell_type": "markdown",
   "metadata": {},
   "source": [
    "Pengumpulan data"
   ]
  },
  {
   "cell_type": "markdown",
   "metadata": {},
   "source": [
    "### 1. Twitter\n",
    "Pengambilan data tweet di twitter\n",
    "\n",
    "#### a. Register App\n",
    "Lakukan register app di [sini](http://apps.twitter.com). \n",
    "Pastikan mendapatkan <i>Consumer Key (API Key), Consumer Secret (API Secret), Access Token,</i> dan <i>Access Token Secret </i>.\n",
    "\n",
    "#### b. Install Tweepy (Python Library for Accessing Twitter-API)\n",
    "Untuk meng-install dapat menggunakan <u>pip install tweepy</u>.\n",
    "Dokumentasi mengenai tweepy bisa diakses di [sini](http://docs.tweepy.org/en/v3.5.0/)\n"
   ]
  },
  {
   "cell_type": "markdown",
   "metadata": {},
   "source": [
    "#### c. OAuth\n",
    "Lakukan inisialisasi untuk melakukan OAuth pada API Twitter"
   ]
  },
  {
   "cell_type": "code",
   "execution_count": null,
   "metadata": {
    "collapsed": false
   },
   "outputs": [],
   "source": [
    "import tweepy\n",
    "from tweepy import OAuthHandler\n",
    " \n",
    "consumer_key = 'tVv1t7anKZTmZvE3i7sbkP4Wd'\n",
    "consumer_secret = 'selmdJRa0BK9MT7sOX4BCLmAz9VzjSJvWkrhCb3W6564dTiEvX'\n",
    "access_token = '477563933-KMDYT9D3sTwOrhuiSxXUcHBgVU7oKlt5hRdwyRBT'\n",
    "access_secret = 'AVDVzXVxXORD66rWPkloBdljHGRkBRzVAkXjmMlh3CE1Z'\n",
    " \n",
    "auth = OAuthHandler(consumer_key, consumer_secret)\n",
    "auth.set_access_token(access_token, access_secret)\n",
    " \n",
    "api = tweepy.API(auth)"
   ]
  },
  {
   "cell_type": "markdown",
   "metadata": {},
   "source": [
    "Variable <u>api</u> akan menjadi gerbang untuk akses pada API Twitter\n",
    "\n",
    "Berikut ini adalah salah satu contoh yang digunakan untuk menampilkan 10 items tweet pada <u>home timeline</u>"
   ]
  },
  {
   "cell_type": "code",
   "execution_count": null,
   "metadata": {
    "collapsed": false
   },
   "outputs": [],
   "source": [
    "from tweepy import Cursor\n",
    "\n",
    "i = 1\n",
    "for status in Cursor(api.home_timeline).items(10):\n",
    "    # Process a single status\n",
    "    print(i, status.text)\n",
    "    i+=1"
   ]
  },
  {
   "cell_type": "markdown",
   "metadata": {},
   "source": [
    "Bisa juga kita meletakkan file hasil <i>crawling</i> pada suatu file <i>json, csv, txt, dll</i>\n",
    "\n",
    "- JSON"
   ]
  },
  {
   "cell_type": "code",
   "execution_count": null,
   "metadata": {
    "collapsed": false
   },
   "outputs": [],
   "source": [
    "import json\n",
    "\n",
    "with open('home_timeline.json', 'w') as f:\n",
    "    for status in Cursor(api.home_timeline).items(2):\n",
    "        # Process a single status\n",
    "        f.write(json.dumps(status._json)+\"\\n\")"
   ]
  },
  {
   "cell_type": "markdown",
   "metadata": {
    "collapsed": true
   },
   "source": [
    "- CSV"
   ]
  },
  {
   "cell_type": "code",
   "execution_count": null,
   "metadata": {
    "collapsed": false
   },
   "outputs": [],
   "source": [
    "import csv\n",
    "\n",
    "csvFile = open('home_timeline.csv', 'wb')\n",
    "csvWriter = csv.writer(csvFile)\n",
    "\n",
    "row = [ \"user\", \"text\" ]\n",
    "csvWriter.writerow(row)\n",
    "\n",
    "for tweet in tweepy.Cursor(api.home_timeline).items(2):\n",
    "    #Write a row to the csv file/ I use encode utf-8\n",
    "    csvWriter.writerow([tweet.user.screen_name, tweet.text.encode('utf-8')])\n",
    "csvFile.close()"
   ]
  },
  {
   "cell_type": "markdown",
   "metadata": {},
   "source": [
    "- TXT"
   ]
  },
  {
   "cell_type": "code",
   "execution_count": null,
   "metadata": {
    "collapsed": false
   },
   "outputs": [],
   "source": [
    "import sys\n",
    "\n",
    "with open('home_timeline.txt', 'w') as txt:\n",
    "    for status in Cursor(api.home_timeline).items(2):\n",
    "        # Process a single status\n",
    "        txt.write(status.user.screen_name + \" = \" + status.text.encode('utf-8') + \"\\n\")"
   ]
  },
  {
   "cell_type": "markdown",
   "metadata": {},
   "source": [
    "#### d. Twitter Streaming\n"
   ]
  },
  {
   "cell_type": "code",
   "execution_count": null,
   "metadata": {
    "collapsed": false
   },
   "outputs": [],
   "source": [
    "from tweepy import Stream\n",
    "\n",
    "class MyStreamListener(tweepy.StreamListener): \n",
    "    def on_data(self, kicau):\n",
    "        print(kicau.text)\n",
    " \n",
    "    def on_error(self, status_code):\n",
    "        if status_code == 420:\n",
    "            #returning False in on_data disconnects the stream\n",
    "            return False\n",
    "        \n",
    "myStream = tweepy.Stream(auth = api.auth, listener = MyStreamListener())\n",
    "\n",
    "myStream.filter(track=['python'], async=True)"
   ]
  },
  {
   "cell_type": "markdown",
   "metadata": {
    "collapsed": true
   },
   "source": [
    "### 2. Wikipedia\n",
    "\n",
    "#### a. Install Library Wikipedia\n",
    "Untuk meng-install menggunakan <u>pip install wikipedia</u>. Untuk dokumentasi bisa diakses di [sini](https://wikipedia.readthedocs.io/en/latest/quickstart.html)"
   ]
  },
  {
   "cell_type": "code",
   "execution_count": null,
   "metadata": {
    "collapsed": false
   },
   "outputs": [],
   "source": [
    "import wikipedia\n",
    "\n",
    "wikipedia.set_lang(\"id\")"
   ]
  },
  {
   "cell_type": "markdown",
   "metadata": {},
   "source": [
    "- Search"
   ]
  },
  {
   "cell_type": "code",
   "execution_count": null,
   "metadata": {
    "collapsed": false
   },
   "outputs": [],
   "source": [
    "print wikipedia.search(\"Semarang\")"
   ]
  },
  {
   "cell_type": "markdown",
   "metadata": {},
   "source": [
    "- Suggest"
   ]
  },
  {
   "cell_type": "code",
   "execution_count": null,
   "metadata": {
    "collapsed": false
   },
   "outputs": [],
   "source": [
    "print wikipedia.suggest(\"Semarng\")"
   ]
  },
  {
   "cell_type": "markdown",
   "metadata": {},
   "source": [
    "- Summary"
   ]
  },
  {
   "cell_type": "code",
   "execution_count": null,
   "metadata": {
    "collapsed": false
   },
   "outputs": [],
   "source": [
    "print wikipedia.summary(\"Semarang\", sentences=1)"
   ]
  },
  {
   "cell_type": "markdown",
   "metadata": {},
   "source": [
    "- Page"
   ]
  },
  {
   "cell_type": "code",
   "execution_count": null,
   "metadata": {
    "collapsed": false
   },
   "outputs": [],
   "source": [
    "page = wikipedia.page(\"Semarang\")\n",
    "\n",
    "print (page.title)\n",
    "print (page.url)\n",
    "print (page.content)"
   ]
  },
  {
   "cell_type": "markdown",
   "metadata": {},
   "source": [
    "- Images & Links"
   ]
  },
  {
   "cell_type": "code",
   "execution_count": null,
   "metadata": {
    "collapsed": false
   },
   "outputs": [],
   "source": [
    "print (page.images[0])\n",
    "print (page.links[0])\n",
    "print (page.categories)"
   ]
  },
  {
   "cell_type": "markdown",
   "metadata": {},
   "source": [
    "- Geosearch"
   ]
  },
  {
   "cell_type": "code",
   "execution_count": null,
   "metadata": {
    "collapsed": false
   },
   "outputs": [],
   "source": [
    "print wikipedia.geosearch(-6.966667, 110.41666699999996)"
   ]
  },
  {
   "cell_type": "markdown",
   "metadata": {},
   "source": [
    "### 3. Foursquare\n",
    "\n",
    "#### a. Register app\n",
    "Lakukan register app di [sini](https://id.foursquare.com/developers/). Pastikan mendapatkan <i>Client ID</i> dan <i>Client Secret</i>\n",
    "\n",
    "#### b. Install Foursquare\n",
    "Install menggunakan <u>pip install foursquare</u>. Untuk link github bisa menuju ke [sini](https://github.com/mLewisLogic/foursquare) dan untuk dokumentasi bisa dibaca di [sini](https://developer.foursquare.com/docs/)"
   ]
  },
  {
   "cell_type": "code",
   "execution_count": null,
   "metadata": {
    "collapsed": false
   },
   "outputs": [],
   "source": [
    "import foursquare\n",
    "\n",
    "client_id = \"TSILZOA3WXF2KBIF1PLMU0BGGZPUKD0RAF4NVYBDON33Z15Y\"\n",
    "client_secret = \"OLQEWJW4X0AIERO0ZBMDAPWG5ZB1LRSW4W5NFY4CJOYQF4WS\"\n",
    "\n",
    "client = foursquare.Foursquare(client_id, client_secret)"
   ]
  },
  {
   "cell_type": "markdown",
   "metadata": {},
   "source": [
    "### 4. Facebook\n",
    "\n",
    "#### a. Register App\n",
    "Lakukan register app di [sini](https://developers.facebook.com). Untuk mendapatkan access token dari Graph API Explorer bisa menuju ke [sini](https://developers.facebook.com/tools-and-support/)."
   ]
  },
  {
   "cell_type": "markdown",
   "metadata": {},
   "source": [
    "#### b. Install facebook library\n",
    "Untuk meng-install dapat menggunakan <u>pip install facebook-sdk</u>. Dokumentasi mengenai library facebook bisa diakses di [sini](https://pypi.python.org/pypi/facebook-sdk)"
   ]
  },
  {
   "cell_type": "markdown",
   "metadata": {},
   "source": [
    "#### c. Inisialisasi "
   ]
  },
  {
   "cell_type": "code",
   "execution_count": null,
   "metadata": {
    "collapsed": false
   },
   "outputs": [],
   "source": [
    "import facebook\n",
    "import json\n",
    "\n",
    "token = 'EAACEdEose0cBAOtbZByMiXMPgypacZC5ZClEHZBm9f6L9xTJwZAE3ZBhHbWfefJIVHzAVvYxeEhdXBP14OZBc0PkoLSMJEAZBL92rWH0RgP8ruOMw5Um8OMPlaZBdF9aex1GiER76ZB6shcgyrInk8GMqvMpbHiuQPkeA7mBRnZB8I8RQZDZD'\n",
    "\n",
    "graph = facebook.GraphAPI(token, version='2.4')"
   ]
  },
  {
   "cell_type": "markdown",
   "metadata": {},
   "source": [
    "- Mendapatkan post facebook"
   ]
  },
  {
   "cell_type": "code",
   "execution_count": null,
   "metadata": {
    "collapsed": false
   },
   "outputs": [],
   "source": [
    "post = graph.get_object(id='1753611558_10202364671435487')\n",
    "print(post['message'])"
   ]
  },
  {
   "cell_type": "markdown",
   "metadata": {},
   "source": [
    "- Mendapatkan jumlah attending event"
   ]
  },
  {
   "cell_type": "code",
   "execution_count": null,
   "metadata": {
    "collapsed": false
   },
   "outputs": [],
   "source": [
    "event = graph.get_object(id='152338271896393', fields='attending_count,declined_count')\n",
    "print(event['attending_count'])\n",
    "print(event['declined_count'])"
   ]
  },
  {
   "cell_type": "markdown",
   "metadata": {},
   "source": [
    "- Mendapatkan jumlah teman"
   ]
  },
  {
   "cell_type": "code",
   "execution_count": null,
   "metadata": {
    "collapsed": false
   },
   "outputs": [],
   "source": [
    "# Get all of the authenticated user's friends\n",
    "friends = graph.get_connections(id='me', connection_name='friends')\n",
    "\n",
    "print(json.dumps(friends, indent=4))"
   ]
  },
  {
   "cell_type": "markdown",
   "metadata": {},
   "source": [
    "- Melakukan comment pada post facebook"
   ]
  },
  {
   "cell_type": "code",
   "execution_count": null,
   "metadata": {
    "collapsed": false
   },
   "outputs": [],
   "source": [
    "graph.put_object(parent_object='1753611558_10202364671435487', connection_name='comments',message='Tes API!')"
   ]
  },
  {
   "cell_type": "markdown",
   "metadata": {},
   "source": [
    "- Melakukan update status pada wall"
   ]
  },
  {
   "cell_type": "code",
   "execution_count": null,
   "metadata": {
    "collapsed": false
   },
   "outputs": [],
   "source": [
    "# put_wall_post\n",
    "attachment =  {\n",
    "    'name': 'Link name',\n",
    "    'link': 'https://www.example.com/',\n",
    "    'caption': 'Check out this example',\n",
    "    'description': 'This is a longer description of the attachment',\n",
    "    'picture': 'https://www.example.com/thumbnail.jpg'\n",
    "}\n",
    "\n",
    "graph.put_wall_post(message='Check this out...', attachment=attachment)"
   ]
  },
  {
   "cell_type": "markdown",
   "metadata": {},
   "source": [
    "- Melakukan comment pada post facebook"
   ]
  },
  {
   "cell_type": "code",
   "execution_count": null,
   "metadata": {
    "collapsed": false
   },
   "outputs": [],
   "source": [
    "# put_comment\n",
    "graph.put_comment(object_id='1753611558_10202364671435487', message='Great post...')"
   ]
  },
  {
   "cell_type": "markdown",
   "metadata": {},
   "source": [
    "- Melakukan 'like' pada object tertentu, misal : comment post facebook"
   ]
  },
  {
   "cell_type": "code",
   "execution_count": null,
   "metadata": {
    "collapsed": false
   },
   "outputs": [],
   "source": [
    "# put_like\n",
    "graph.put_like(object_id='10202364828439412')"
   ]
  },
  {
   "cell_type": "markdown",
   "metadata": {},
   "source": [
    "- Mendapatkan post dari facebook kita dengan atribut tertentu"
   ]
  },
  {
   "cell_type": "code",
   "execution_count": null,
   "metadata": {
    "collapsed": false
   },
   "outputs": [],
   "source": [
    "import requests\n",
    "\n",
    "posts = graph.get_connections('me', 'posts', fields='message,created_time,description,caption,link,place,status_type,shares')\n",
    "while True:  # keep paginating\n",
    "    try:\n",
    "        with open('my_posts.json', 'a') as f:\n",
    "            for post in posts['data']:\n",
    "                f.write(json.dumps(post)+\"\\n\")\n",
    "            # get next page\n",
    "            posts = requests.get(posts['paging']['next']).json()\n",
    "    except KeyError:\n",
    "        # no more pages, break the loop\n",
    "        break"
   ]
  },
  {
   "cell_type": "markdown",
   "metadata": {},
   "source": [
    "- Mendapatkan profile facebook"
   ]
  },
  {
   "cell_type": "code",
   "execution_count": null,
   "metadata": {
    "collapsed": false
   },
   "outputs": [],
   "source": [
    "profile = graph.get_object(\"me\", fields='name,location{general_info,location},languages{name,description}')\n",
    "print(json.dumps(profile, indent=4))"
   ]
  },
  {
   "cell_type": "markdown",
   "metadata": {
    "collapsed": false
   },
   "source": [
    "### 5. Instagram\n"
   ]
  },
  {
   "cell_type": "code",
   "execution_count": null,
   "metadata": {
    "collapsed": false,
    "scrolled": true
   },
   "outputs": [],
   "source": [
    "from instagram.client import InstagramAPI\n",
    "\n",
    "access_token = '1397096926.dc637bd.b8b3dc8571914eb09e95772139086196'\n",
    "client_secret = 'ee7d8da7b1bb45dd9f2b66e75950682f'\n",
    "api = InstagramAPI(access_token=access_token, client_secret=client_secret)"
   ]
  },
  {
   "cell_type": "markdown",
   "metadata": {},
   "source": [
    "- Mendapatkan caption"
   ]
  },
  {
   "cell_type": "code",
   "execution_count": null,
   "metadata": {
    "collapsed": true
   },
   "outputs": [],
   "source": [
    "recent_media, next_ = api.user_recent_media(user_id=\"1397096926\", count=10)\n",
    "for media in recent_media:\n",
    "    print(media.caption.text)"
   ]
  },
  {
   "cell_type": "markdown",
   "metadata": {},
   "source": [
    "- Mendapatkan signature"
   ]
  },
  {
   "cell_type": "code",
   "execution_count": null,
   "metadata": {
    "collapsed": false
   },
   "outputs": [],
   "source": [
    "import hmac\n",
    "from hashlib import sha256\n",
    "\n",
    "def generate_sig(endpoint, params, secret):\n",
    "    sig = endpoint\n",
    "    for key in sorted(params.keys()):\n",
    "        sig += '|%s=%s' % (key, params[key])\n",
    "    return hmac.new(secret, sig, sha256).hexdigest()\n",
    "\n",
    "endpoint = '/media/657988443280050001_25025320'\n",
    "params = {\n",
    "    'access_token': '1397096926.dc637bd.b8b3dc8571914eb09e95772139086196',\n",
    "    'count': 10,\n",
    "}\n",
    "secret = 'ee7d8da7b1bb45dd9f2b66e75950682f'\n",
    "\n",
    "sig = generate_sig(endpoint, params, secret)\n",
    "print sig"
   ]
  },
  {
   "cell_type": "code",
   "execution_count": null,
   "metadata": {
    "collapsed": false
   },
   "outputs": [],
   "source": [
    "recent_media, next_ = api.user_recent_media()\n",
    "photos = []\n",
    "for media in recent_media:\n",
    "    photos.append('<img src=\"%s\"/>' % media.images['thumbnail'].url)"
   ]
  },
  {
   "cell_type": "code",
   "execution_count": null,
   "metadata": {
    "collapsed": false
   },
   "outputs": [],
   "source": [
    "follows, next_ = api.user_follows()\n",
    "while next_:\n",
    "    more_follows, next_ = api.user_follows(with_next_url=next_)\n",
    "    follows.extend(more_follows)"
   ]
  },
  {
   "cell_type": "code",
   "execution_count": null,
   "metadata": {
    "collapsed": false
   },
   "outputs": [],
   "source": [
    "api.user(1397096926)"
   ]
  },
  {
   "cell_type": "code",
   "execution_count": null,
   "metadata": {
    "collapsed": false
   },
   "outputs": [],
   "source": [
    "api.user_liked_media()"
   ]
  },
  {
   "cell_type": "code",
   "execution_count": null,
   "metadata": {
    "collapsed": false
   },
   "outputs": [],
   "source": [
    "user = api.user_search('yasirabdr')\n",
    "my_usr = user[0]\n",
    "print 'User id is', my_usr.id, 'and name is ', my_usr.username"
   ]
  },
  {
   "cell_type": "code",
   "execution_count": null,
   "metadata": {
    "collapsed": false
   },
   "outputs": [],
   "source": [
    "api.user_incoming_requests()"
   ]
  },
  {
   "cell_type": "code",
   "execution_count": null,
   "metadata": {
    "collapsed": false
   },
   "outputs": [],
   "source": [
    "api.follow_user(user_id=1397096926)"
   ]
  },
  {
   "cell_type": "code",
   "execution_count": null,
   "metadata": {
    "collapsed": false
   },
   "outputs": [],
   "source": [
    "api.unfollow_user(user_id=1397096926)"
   ]
  },
  {
   "cell_type": "code",
   "execution_count": null,
   "metadata": {
    "collapsed": true
   },
   "outputs": [],
   "source": [
    "api.block_user(user_id)\n",
    "api.unblock_user(user_id)\n",
    "api.approve_user_request(user_id)\n",
    "api.ignore_user_request(user_id)\n",
    "api.user_relationship(user_id)"
   ]
  },
  {
   "cell_type": "code",
   "execution_count": null,
   "metadata": {
    "collapsed": false
   },
   "outputs": [],
   "source": [
    "api.media_comments(media_id='1372565131599223982_1397096926')"
   ]
  },
  {
   "cell_type": "code",
   "execution_count": null,
   "metadata": {
    "collapsed": false
   },
   "outputs": [],
   "source": [
    "api.create_media_comment(media_id='1372565131599223982_1397096926', text='this is my comment!')"
   ]
  },
  {
   "cell_type": "code",
   "execution_count": null,
   "metadata": {
    "collapsed": false
   },
   "outputs": [],
   "source": [
    "api.delete_comment(media_id='1372565131599223982_1397096926', comment_id='1')"
   ]
  },
  {
   "cell_type": "code",
   "execution_count": null,
   "metadata": {
    "collapsed": false
   },
   "outputs": [],
   "source": [
    "api.media_likes(media_id='1372565131599223982_1397096926')"
   ]
  },
  {
   "cell_type": "code",
   "execution_count": null,
   "metadata": {
    "collapsed": false
   },
   "outputs": [],
   "source": [
    "api.like_media(media_id='1372565131599223982_1397096926')"
   ]
  },
  {
   "cell_type": "code",
   "execution_count": null,
   "metadata": {
    "collapsed": false
   },
   "outputs": [],
   "source": [
    "api.unlike_media(media_id='1372565131599223982_1397096926')"
   ]
  },
  {
   "cell_type": "code",
   "execution_count": null,
   "metadata": {
    "collapsed": true
   },
   "outputs": [],
   "source": []
  }
 ],
 "metadata": {
  "anaconda-cloud": {},
  "kernelspec": {
   "display_name": "Python [conda env:py27]",
   "language": "python",
   "name": "conda-env-py27-py"
  },
  "language_info": {
   "codemirror_mode": {
    "name": "ipython",
    "version": 2
   },
   "file_extension": ".py",
   "mimetype": "text/x-python",
   "name": "python",
   "nbconvert_exporter": "python",
   "pygments_lexer": "ipython2",
   "version": "2.7.12"
  }
 },
 "nbformat": 4,
 "nbformat_minor": 1
}
